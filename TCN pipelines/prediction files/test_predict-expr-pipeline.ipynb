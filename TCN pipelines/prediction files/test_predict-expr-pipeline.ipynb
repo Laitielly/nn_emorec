{
 "cells": [
  {
   "cell_type": "markdown",
   "metadata": {},
   "source": [
    "# Submit for EXPR\n",
    "\n",
    "## imports & load data"
   ]
  },
  {
   "cell_type": "code",
   "execution_count": 1,
   "metadata": {},
   "outputs": [],
   "source": [
    "import os\n",
    "import pickle\n",
    "from tqdm import tqdm\n",
    "from copy import deepcopy\n",
    "\n",
    "import numpy as np\n",
    "import pandas as pd\n",
    "\n",
    "from sklearn.metrics import f1_score\n",
    "\n",
    "import torch\n",
    "import torch.nn as nn\n",
    "import torch.nn.functional as F\n",
    "import torch.optim as optim\n",
    "from torch.utils.data import DataLoader,Dataset"
   ]
  },
  {
   "cell_type": "code",
   "execution_count": 2,
   "metadata": {},
   "outputs": [],
   "source": [
    "data_dir = 'fea_notebooks/features_newvf2.pickle'\n",
    "test_dir = '/home/HDD6TB/datasets/emotions/ABAW/ABAW_5/VA_AU_FER/test_set/CVPR_5th_ABAW_EXPR_test_set_sample.txt'\n",
    "cropped_data = '/home/avsavchenko/src/emotions-multimodal/faces/ABAW/abaw5/enet_b0_8_best_vgaf_cropped.pickle'"
   ]
  },
  {
   "cell_type": "code",
   "execution_count": 3,
   "metadata": {},
   "outputs": [
    {
     "name": "stdout",
     "output_type": "stream",
     "text": [
      "2941546\n"
     ]
    }
   ],
   "source": [
    "with open(data_dir, 'rb') as handle:\n",
    "    data=pickle.load(handle)\n",
    "print(len(data))"
   ]
  },
  {
   "cell_type": "code",
   "execution_count": 4,
   "metadata": {},
   "outputs": [
    {
     "name": "stdout",
     "output_type": "stream",
     "text": [
      "Torch: 2.0.1+cu118\n",
      "cuda:0\n"
     ]
    }
   ],
   "source": [
    "print(f\"Torch: {torch.__version__}\")\n",
    "device = 'cuda:0' if torch.cuda.is_available() else 'cpu'\n",
    "print(device)"
   ]
  },
  {
   "cell_type": "markdown",
   "metadata": {},
   "source": [
    "## load model & dataloader"
   ]
  },
  {
   "cell_type": "code",
   "execution_count": 5,
   "metadata": {},
   "outputs": [
    {
     "data": {
      "text/plain": [
       "<All keys matched successfully>"
      ]
     },
     "execution_count": 5,
     "metadata": {},
     "output_type": "execute_result"
    }
   ],
   "source": [
    "from tcn import TemporalConvNet\n",
    "from trans_encoder import TransEncoder\n",
    "\n",
    "\n",
    "class Model(nn.Module):\n",
    "    def __init__(self, modality=['frames', 'w2v2large', 'openl3', 'w2v2hub'],\n",
    "                 embedding_dim={'frames': 1280, 'w2v2large': 1024, 'openl3': 512,\n",
    "                                'w2v2hub': 256},\n",
    "                 tcn_channel={\n",
    "                     'frames': [1280, 512, 256, 128],\n",
    "                     'w2v2large': [1024, 512, 256, 128],\n",
    "                     'openl3': [512, 256, 128],\n",
    "                     'w2v2hub': [256, 128]\n",
    "    }):\n",
    "        super(Model, self).__init__()\n",
    "        self.modality = modality\n",
    "\n",
    "        self.temporal, self.fusion = nn.ModuleDict(), None\n",
    "\n",
    "        for modal in self.modality:\n",
    "            self.temporal[modal] = TemporalConvNet(num_inputs=embedding_dim[modal],\n",
    "                                                   num_channels=tcn_channel[modal], dropout=0.3, attention=False)\n",
    "\n",
    "        conv_dim = 0\n",
    "        for m in self.modality:\n",
    "            conv_dim += tcn_channel[m][-1]\n",
    "            \n",
    "        self.encoder = TransEncoder(\n",
    "            inc=conv_dim, outc=256, dropout=0.3, nheads=4, \n",
    "            nlayer=8)\n",
    "            \n",
    "        self.head = nn.Sequential(\n",
    "            nn.Linear(256, 256//2),\n",
    "            nn.BatchNorm1d(256//2),\n",
    "            nn.Linear(256//2, 8),\n",
    "        )\n",
    "        \n",
    "        self.softmax = nn.Softmax(dim=1)\n",
    "\n",
    "    def forward(self, x):\n",
    "        \n",
    "        bs, seq_len, _ = x[self.modality[0]].shape\n",
    "#         print(bs, seq_len)\n",
    "        for m in self.modality:\n",
    "            x[m] = x[m].transpose(1, 2)\n",
    "            x[m] = self.temporal[m](x[m])\n",
    "\n",
    "        feat_list = []\n",
    "        for m in self.modality:\n",
    "            feat_list.append(x[m])\n",
    "        out = torch.cat(feat_list, dim=1)\n",
    "        out = self.encoder(out)\n",
    "\n",
    "        out = torch.transpose(out, 1, 0)\n",
    "        out = torch.reshape(out, (bs*seq_len, -1))\n",
    "#         print(out.shape)\n",
    "\n",
    "        out = self.head(out)\n",
    "        return self.softmax(out)\n",
    "\n",
    "model = Model()\n",
    "model.to(device);\n",
    "model.load_state_dict(torch.load('42f1.pt'))"
   ]
  },
  {
   "cell_type": "code",
   "execution_count": 6,
   "metadata": {},
   "outputs": [],
   "source": [
    "from math import ceil\n",
    "\n",
    "\n",
    "class audioDataset(Dataset):\n",
    "    def __init__(self, names, values, window=300, step=200):\n",
    "        self.data = values\n",
    "        self.lenghts_of_seq = len(self.data[0])\n",
    "#         self.y = y\n",
    "        \n",
    "        self.names = names\n",
    "        self.window = window\n",
    "        self.step = step\n",
    "        \n",
    "        self.len = ceil((self.lenghts_of_seq - self.window) / self.step) + 1\n",
    "        \n",
    "    def __len__(self):\n",
    "        return self.len\n",
    "\n",
    "    def __getitem__(self, idx):\n",
    "        if idx == self.len-1:\n",
    "            stride = [torch.tensor(i[-self.window::]) for i in self.data]\n",
    "#             y = self.y[-self.window::]\n",
    "        \n",
    "        else:\n",
    "            stride = [torch.tensor(i[idx*self.step:idx*self.step + self.window]) for i in self.data]\n",
    "#             y = self.y[idx*self.step:idx*self.step + self.window]\n",
    "            \n",
    "        r_dict = dict([(i, j.to(device)) for i, j in zip(self.names, stride)])\n",
    "        \n",
    "        return r_dict, len(self.data[0])"
   ]
  },
  {
   "cell_type": "markdown",
   "metadata": {},
   "source": [
    "## Smoothing on validation"
   ]
  },
  {
   "cell_type": "code",
   "execution_count": 7,
   "metadata": {},
   "outputs": [],
   "source": [
    "DATA_DIR = '/home/HDD6TB/datasets/emotions/ABAW/ABAW_6/6th_ABAW_Annotations'"
   ]
  },
  {
   "cell_type": "code",
   "execution_count": 8,
   "metadata": {},
   "outputs": [],
   "source": [
    "def predict(data, model):\n",
    "    pred_labels_val = []\n",
    "#     predicts = []\n",
    "\n",
    "    a_dataset = audioDataset(['frames', 'w2v2large', 'openl3', 'w2v2hub'],\n",
    "                     data, window=300, step=300)\n",
    "    training_loader = DataLoader(a_dataset, batch_size=64, shuffle=False)\n",
    "\n",
    "    model.eval()\n",
    "    with torch.no_grad():\n",
    "        for i, vdata in enumerate(training_loader):\n",
    "            vinputs, d_len = vdata\n",
    "            voutputs = model(vinputs)\n",
    "            pred_labels_val += voutputs.data.tolist()\n",
    "    \n",
    "    d_len = d_len[0]\n",
    "    s = 300 - len(pred_labels_val) + d_len\n",
    "    return pred_labels_val[:-300]+pred_labels_val[-s:]"
   ]
  },
  {
   "cell_type": "code",
   "execution_count": 9,
   "metadata": {},
   "outputs": [
    {
     "name": "stderr",
     "output_type": "stream",
     "text": [
      "  0%|          | 0/70 [00:00<?, ?it/s]<ipython-input-6-786bd96cdc3b>:25: UserWarning: Creating a tensor from a list of numpy.ndarrays is extremely slow. Please consider converting the list to a single numpy.ndarray with numpy.array() before converting to a tensor. (Triggered internally at ../torch/csrc/utils/tensor_new.cpp:245.)\n",
      "  stride = [torch.tensor(i[idx*self.step:idx*self.step + self.window]) for i in self.data]\n",
      "100%|██████████| 70/70 [02:11<00:00,  1.88s/it]"
     ]
    },
    {
     "name": "stdout",
     "output_type": "stream",
     "text": [
      "70\n"
     ]
    },
    {
     "name": "stderr",
     "output_type": "stream",
     "text": [
      "\n"
     ]
    }
   ],
   "source": [
    "data_dir=os.path.join(DATA_DIR,'faces')\n",
    "dirpath=os.path.join(DATA_DIR,'EXPR_Recognition_Challenge/Validation_Set')\n",
    "test_videos={}\n",
    "for filename in tqdm(os.listdir(dirpath)):\n",
    "    fn, ext = os.path.splitext(os.path.basename(filename))\n",
    "    if ext.lower()=='.txt':\n",
    "        X,indices,expressions=[],[],[]\n",
    "        w2v2large_t, openl3_t, w2v2hub_t = [], [], []\n",
    "        with open(os.path.join(dirpath,filename)) as f:\n",
    "            lines = f.read().splitlines()\n",
    "            prev_val=None\n",
    "            for i,line in enumerate(lines):\n",
    "                if i>0:\n",
    "                    imagename=fn+'/'+str(i).zfill(5)+'.jpg'\n",
    "                    if imagename in data:\n",
    "                        X.append(data[imagename]['frame'][0])\n",
    "                        w2v2large_t.append(data[imagename]['w2v2large']) \n",
    "                        openl3_t.append(data[imagename]['openl3']) \n",
    "                        w2v2hub_t.append(data[imagename]['w2v2hub'])\n",
    "                        \n",
    "                        indices.append(i)\n",
    "                        expressions.append(int(line))\n",
    "                        \n",
    "        test_videos[fn]=(predict([X, w2v2large_t, openl3_t, w2v2hub_t], model),indices,np.array(expressions))\n",
    "print(len(test_videos))"
   ]
  },
  {
   "cell_type": "code",
   "execution_count": 10,
   "metadata": {},
   "outputs": [
    {
     "name": "stdout",
     "output_type": "stream",
     "text": [
      "0 Acc: 0.5483987431590461 F1: 0.42844366975419507\n",
      "15 Acc: 0.5498393202477936 F1: 0.4299144416727223\n",
      "20 Acc: 0.5512691734376173 F1: 0.431087329265716\n",
      "25 Acc: 0.5517696220540556 F1: 0.4309989917164526\n",
      "30 Acc: 0.5524773993830183 F1: 0.43168839241965895\n",
      "35 Acc: 0.5522664960375193 F1: 0.43129849564367645\n",
      "40 Acc: 0.5516051889372259 F1: 0.4307812769025995\n",
      "45 Acc: 0.5514371811874216 F1: 0.4300327480084029\n"
     ]
    }
   ],
   "source": [
    "deltas=[0,15,20, 25, 30, 35, 40,45]\n",
    "# deltas=[0,5,15,25,50,75,100,150,200,500]\n",
    "total_true=[]\n",
    "total_preds=[[] for _ in range(len(deltas))]\n",
    "for videoname,(y_pred_expr,indices,expressions) in test_videos.items():\n",
    "    for i,ind in enumerate(indices):\n",
    "        if int(expressions[i])>=0:\n",
    "            total_true.append(expressions[i])\n",
    "    cur_ind=0\n",
    "    preds_proba=[]\n",
    "#     print(indices[-1])\n",
    "    for i in range(indices[-1]):\n",
    "        if indices[cur_ind]-1==i:\n",
    "            preds_proba.append(y_pred_expr[cur_ind])\n",
    "            cur_ind+=1\n",
    "        else:\n",
    "            if cur_ind==0:\n",
    "                preds_proba.append(y_pred_expr[cur_ind])\n",
    "            else:\n",
    "                w=(i-indices[cur_ind-1]+1)/(indices[cur_ind]-indices[cur_ind-1])\n",
    "                y_pred_expr = np.array(y_pred_expr)\n",
    "                pred=w*y_pred_expr[cur_ind-1]+(1-w)*y_pred_expr[cur_ind]\n",
    "                preds_proba.append(pred)\n",
    "    \n",
    "    preds_proba=np.array(preds_proba)\n",
    "    for hInd,delta in enumerate(deltas):\n",
    "        preds=[]\n",
    "        for i in range(len(preds_proba)):\n",
    "            i1=max(i-delta,0)\n",
    "            proba=np.mean(preds_proba[i1:i+delta+1],axis=0)\n",
    "            best_ind=np.argmax(proba)\n",
    "            best_ind_no_other=np.argmax(proba[:7])\n",
    "            if best_ind==7 and proba[best_ind]-proba[best_ind_no_other]<0.05:\n",
    "                best_ind=best_ind_no_other\n",
    "            preds.append(best_ind)\n",
    "        for i,ind in enumerate(indices):\n",
    "            if expressions[i]>=0:\n",
    "                total_preds[hInd].append(preds[ind-1])\n",
    "\n",
    "total_true=np.array(total_true)\n",
    "for hInd,delta in enumerate(deltas):\n",
    "    preds=np.array(total_preds[hInd])\n",
    "    print(delta,'Acc:',(preds==total_true).mean(), 'F1:',f1_score(y_true=total_true,y_pred=preds, average=\"macro\"))"
   ]
  },
  {
   "cell_type": "code",
   "execution_count": 11,
   "metadata": {},
   "outputs": [
    {
     "name": "stdout",
     "output_type": "stream",
     "text": [
      "mean 0 Acc: 0.5484416387547408 F1: 0.42846120775103336\n",
      "mean 2 Acc: 0.5487883781532731 F1: 0.4289087949779827\n",
      "median 2 Acc: 0.5486668406321381 F1: 0.4287485799380695\n",
      "mean 7 Acc: 0.5493674686951517 F1: 0.42910770986553437\n",
      "median 7 Acc: 0.5492638043388895 F1: 0.42889385173379246\n"
     ]
    }
   ],
   "source": [
    "hyperparams=[(isMean,delta) for delta in [0,2,7]  for isMean in [1,0] if not (isMean==0 and delta==0)]\n",
    "total_true=[]\n",
    "total_preds=[[] for _ in range(len(hyperparams))]\n",
    "for videoname,(y_pred_expr,indices,expressions) in test_videos.items():\n",
    "    for i,ind in enumerate(indices):\n",
    "        if expressions[i]>=0:\n",
    "            total_true.append(expressions[i])\n",
    "    cur_ind=0\n",
    "    preds_proba=[]\n",
    "    for i in range(indices[-1]):\n",
    "        if indices[cur_ind]-1==i:\n",
    "            preds_proba.append(y_pred_expr[cur_ind])\n",
    "            cur_ind+=1\n",
    "        else:\n",
    "            if cur_ind==0:\n",
    "                preds_proba.append(y_pred_expr[cur_ind])\n",
    "            else:\n",
    "                w=(i-indices[cur_ind-1]+1)/(indices[cur_ind]-indices[cur_ind-1])\n",
    "                y_pred_expr = np.array(y_pred_expr)\n",
    "                pred=w*y_pred_expr[cur_ind-1]+(1-w)*y_pred_expr[cur_ind]\n",
    "                preds_proba.append(pred)\n",
    "    \n",
    "    preds_proba=np.array(preds_proba)\n",
    "    for hInd,(isMean,delta) in enumerate(hyperparams):\n",
    "        preds=[]\n",
    "        for i in range(len(preds_proba)):\n",
    "            i1=max(i-delta,0)\n",
    "            if isMean:\n",
    "                proba=np.mean(preds_proba[i1:i+delta+1],axis=0)\n",
    "            else:\n",
    "                proba=np.median(preds_proba[i1:i+delta+1],axis=0)\n",
    "            preds.append(np.argmax(proba))\n",
    "        for i,ind in enumerate(indices):\n",
    "            if expressions[i]>=0:\n",
    "                total_preds[hInd].append(preds[ind-1])\n",
    "\n",
    "total_true=np.array(total_true)\n",
    "for hInd,(isMean,delta) in enumerate(hyperparams):\n",
    "    preds=np.array(total_preds[hInd])\n",
    "    print('mean' if isMean else 'median',delta,'Acc:',(preds==total_true).mean(), 'F1:',f1_score(y_true=total_true,y_pred=preds, average=\"macro\"))"
   ]
  },
  {
   "cell_type": "code",
   "execution_count": 12,
   "metadata": {},
   "outputs": [
    {
     "name": "stdout",
     "output_type": "stream",
     "text": [
      "0 Acc: 0.5484416387547408 F1: 0.42846120775103336\n",
      "15 Acc: 0.5506686350978913 F1: 0.4304197840597356\n",
      "20 Acc: 0.5521628316812571 F1: 0.4314224594852984\n",
      "25 Acc: 0.552942101669711 F1: 0.43160571407663273\n",
      "30 Acc: 0.5538214613814526 F1: 0.4322303685168968\n",
      "35 Acc: 0.5532352215736249 F1: 0.430942352912059\n",
      "40 Acc: 0.5531744528130574 F1: 0.43149080451768795\n",
      "45 Acc: 0.5527633700209831 F1: 0.4307355426709346\n",
      "50 Acc: 0.5535390653764625 F1: 0.4316479979134312\n",
      "55 Acc: 0.5545363879763645 F1: 0.43222903753093667\n",
      "60 Acc: 0.5547723137526854 F1: 0.4324242180178791\n",
      "65 Acc: 0.5546900971942705 F1: 0.4311181006817163\n",
      "70 Acc: 0.5551941204436834 F1: 0.4314455983758668\n",
      "75 Acc: 0.5548116347154056 F1: 0.43132646500628846\n",
      "80 Acc: 0.5538429091793 F1: 0.43074730319870125\n",
      "85 Acc: 0.5529385270367365 F1: 0.42990812108677023\n",
      "90 Acc: 0.5531422811162864 F1: 0.42994404828231425\n"
     ]
    }
   ],
   "source": [
    "#deltas=[0,1,5,7,15]\n",
    "deltas=[0,15,20, 25, 30, 35, 40,45,50,55,60,65,70,75,80,85,90]\n",
    "total_true=[]\n",
    "total_preds=[[] for _ in range(len(deltas))]\n",
    "for videoname,(y_pred_expr,indices,expressions) in test_videos.items():\n",
    "    for i,ind in enumerate(indices):\n",
    "        if expressions[i]>=0:\n",
    "            total_true.append(expressions[i])\n",
    "    cur_ind=0\n",
    "    preds_proba=[]\n",
    "    for i in range(indices[-1]):\n",
    "        if indices[cur_ind]-1==i:\n",
    "            preds_proba.append(y_pred_expr[cur_ind])\n",
    "            cur_ind+=1\n",
    "        else:\n",
    "            if cur_ind==0:\n",
    "                preds_proba.append(y_pred_expr[cur_ind])\n",
    "            else:\n",
    "                w=(i-indices[cur_ind-1]+1)/(indices[cur_ind]-indices[cur_ind-1])\n",
    "                y_pred_expr = np.array(y_pred_expr)\n",
    "                pred=w*y_pred_expr[cur_ind-1]+(1-w)*y_pred_expr[cur_ind]\n",
    "                preds_proba.append(pred)\n",
    "    \n",
    "    preds_proba=np.array(preds_proba)\n",
    "    for hInd,delta in enumerate(deltas):\n",
    "        preds=[]\n",
    "        for i in range(len(preds_proba)):\n",
    "            i1=max(i-delta,0)\n",
    "            proba=np.mean(preds_proba[i1:i+delta+1],axis=0)\n",
    "            preds.append(np.argmax(proba))\n",
    "        for i,ind in enumerate(indices):\n",
    "            if expressions[i]>=0:\n",
    "                total_preds[hInd].append(preds[ind-1])\n",
    "\n",
    "total_true=np.array(total_true)\n",
    "for hInd,delta in enumerate(deltas):\n",
    "    preds=np.array(total_preds[hInd])\n",
    "    print(delta,'Acc:',(preds==total_true).mean(), 'F1:',f1_score(y_true=total_true,y_pred=preds, average=\"macro\"))"
   ]
  },
  {
   "cell_type": "code",
   "execution_count": 14,
   "metadata": {},
   "outputs": [
    {
     "name": "stdout",
     "output_type": "stream",
     "text": [
      "(279749,) (279749,) 0.5538214613814526\n"
     ]
    },
    {
     "data": {
      "image/png": "[encoded data removed]",
      "text/plain": [
       "<Figure size 576x576 with 1 Axes>"
      ]
     },
     "metadata": {
      "needs_background": "light"
     },
     "output_type": "display_data"
    }
   ],
   "source": [
    "labels=['Neutral', 'Anger', 'Disgust', 'Fear', \n",
    "           'Happiness', 'Sadness', 'Surprise', 'Other']\n",
    "IC = type('IdentityClassifier', (), {\"predict\": lambda i : i, \"_estimator_type\": \"classifier\"})\n",
    "\n",
    "import matplotlib.pyplot as plt\n",
    "from sklearn.metrics import confusion_matrix\n",
    "from sklearn.metrics import ConfusionMatrixDisplay\n",
    "\n",
    "def plt_conf_matrix(y_true,y_pred,labels):\n",
    "    print(y_pred.shape,y_true.shape, (y_pred==y_true).mean())\n",
    "\n",
    "    fig, ax = plt.subplots(figsize=(8, 8))\n",
    "    cm = confusion_matrix(y_true, y_pred)\n",
    "    disp = ConfusionMatrixDisplay(confusion_matrix=cm, display_labels=labels)\n",
    "    disp.plot(ax=ax, cmap='PuRd', colorbar=False)\n",
    "    plt.tight_layout()\n",
    "    plt.show()\n",
    "\n",
    "plt_conf_matrix(total_true,np.array(total_preds[4]),labels);"
   ]
  },
  {
   "cell_type": "markdown",
   "metadata": {},
   "source": [
    "## test predict"
   ]
  },
  {
   "cell_type": "code",
   "execution_count": 7,
   "metadata": {},
   "outputs": [
    {
     "name": "stdout",
     "output_type": "stream",
     "text": [
      "1022655\n"
     ]
    }
   ],
   "source": [
    "test_set = []\n",
    "\n",
    "def get_names(dirname):\n",
    "    \n",
    "    names = []\n",
    "    with open(os.path.join(dirname)) as f:\n",
    "        lines = f.read().splitlines()\n",
    "        \n",
    "        for i,line in enumerate(lines):\n",
    "            if i>0:\n",
    "                name = line[:-1]\n",
    "                names.append(name)\n",
    "                \n",
    "    print(len(names))\n",
    "    return names\n",
    "\n",
    "test_set = get_names(test_dir)"
   ]
  },
  {
   "cell_type": "code",
   "execution_count": 8,
   "metadata": {},
   "outputs": [
    {
     "data": {
      "text/plain": [
       "1007648"
      ]
     },
     "execution_count": 8,
     "metadata": {},
     "output_type": "execute_result"
    }
   ],
   "source": [
    "keys = data.keys()\n",
    "c = 0\n",
    "missed = []\n",
    "\n",
    "for k in test_set:\n",
    "    if k in keys:\n",
    "        c+=1\n",
    "        \n",
    "    else:\n",
    "        missed.append(k)\n",
    "        \n",
    "c"
   ]
  },
  {
   "cell_type": "code",
   "execution_count": 9,
   "metadata": {},
   "outputs": [
    {
     "name": "stdout",
     "output_type": "stream",
     "text": [
      "1022656 ['image_location,Neutral,Anger,Disgust,Fear,Happiness,Sadness,Surprise,Other', '14-30-1920x1080/00001.jpg,', '14-30-1920x1080/00002.jpg,', '14-30-1920x1080/00003.jpg,', '14-30-1920x1080/00004.jpg,']\n",
      "228\n"
     ]
    }
   ],
   "source": [
    "with open(os.path.join(test_dir),'r') as f:\n",
    "    test_set_sample=f.read().splitlines()\n",
    "print(len(test_set_sample),test_set_sample[:5])\n",
    "\n",
    "test_set_videos={}\n",
    "for s in test_set_sample[1:]:\n",
    "    videoname,img_name=s[:-1].split('/')\n",
    "    if videoname not in test_set_videos:\n",
    "        test_set_videos[videoname]=[]\n",
    "    test_set_videos[videoname].append(img_name)\n",
    "    \n",
    "print(len(test_set_videos))"
   ]
  },
  {
   "cell_type": "code",
   "execution_count": 10,
   "metadata": {},
   "outputs": [
    {
     "name": "stderr",
     "output_type": "stream",
     "text": [
      "100%|██████████| 228/228 [02:20<00:00,  1.63it/s]\n"
     ]
    }
   ],
   "source": [
    "datasets = {}\n",
    "for k in tqdm(test_set_videos.keys()):\n",
    "    w2v2large_t, openl3_t, w2v2hub_t = [], [], []\n",
    "    X_t = []\n",
    "    for images in test_set_videos[k]:\n",
    "        key = f'{k}/{images}'\n",
    "        if key in missed: continue\n",
    "        X_t.append(data[key]['frame'][0])\n",
    "        w2v2large_t.append(data[key]['w2v2large'])\n",
    "        openl3_t.append(data[key]['openl3'])\n",
    "        w2v2hub_t.append(data[key]['w2v2hub'])\n",
    "    \n",
    "    a_dataset = audioDataset(['frames', 'w2v2large', 'openl3', 'w2v2hub'],\n",
    "                     [X_t, w2v2large_t, openl3_t, w2v2hub_t], window=300, step=300)\n",
    "    training_loader = DataLoader(a_dataset, batch_size=64, shuffle=False)\n",
    "    datasets[k] = training_loader"
   ]
  },
  {
   "cell_type": "code",
   "execution_count": 11,
   "metadata": {},
   "outputs": [],
   "source": [
    "def predict(loader, model):\n",
    "    pred_labels_val = []\n",
    "#     predicts = []\n",
    "\n",
    "    model.eval()\n",
    "    with torch.no_grad():\n",
    "        for i, vdata in enumerate(loader):\n",
    "            vinputs, d_len = vdata\n",
    "            voutputs = model(vinputs)\n",
    "            pred_labels_val += voutputs.data.tolist()\n",
    "    \n",
    "    d_len = d_len[0]\n",
    "    s = 300 - len(pred_labels_val) + d_len\n",
    "    return pred_labels_val[:-300]+pred_labels_val[-s:]"
   ]
  },
  {
   "cell_type": "code",
   "execution_count": 12,
   "metadata": {},
   "outputs": [
    {
     "name": "stderr",
     "output_type": "stream",
     "text": [
      "  0%|          | 0/228 [00:00<?, ?it/s]<ipython-input-6-786bd96cdc3b>:25: UserWarning: Creating a tensor from a list of numpy.ndarrays is extremely slow. Please consider converting the list to a single numpy.ndarray with numpy.array() before converting to a tensor. (Triggered internally at ../torch/csrc/utils/tensor_new.cpp:245.)\n",
      "  stride = [torch.tensor(i[idx*self.step:idx*self.step + self.window]) for i in self.data]\n",
      "100%|██████████| 228/228 [04:52<00:00,  1.28s/it]"
     ]
    },
    {
     "name": "stdout",
     "output_type": "stream",
     "text": [
      "228\n"
     ]
    },
    {
     "name": "stderr",
     "output_type": "stream",
     "text": [
      "\n"
     ]
    }
   ],
   "source": [
    "test_videos={}\n",
    "test_videos_num_frames={}\n",
    "for videoname,img_files in tqdm(test_set_videos.items()):\n",
    "    X,indices,filenames,scores=[],[],[],[]\n",
    "    num_present=num_missed=0\n",
    "    for img_name in img_files:\n",
    "        k=videoname+'/'+img_name\n",
    "        if k in data:\n",
    "            indices.append(int(img_name[:-4]))\n",
    "#             print()\n",
    "            filenames.append(k)\n",
    "            num_present+=1\n",
    "        else:\n",
    "            num_missed+=1\n",
    "    test_videos[videoname]=(predict(datasets[videoname], model),indices,filenames)\n",
    "    test_videos_num_frames[videoname]=(num_present,num_missed)\n",
    "    \n",
    "print(len(test_videos))"
   ]
  },
  {
   "cell_type": "code",
   "execution_count": 17,
   "metadata": {},
   "outputs": [],
   "source": [
    "delta = 30\n",
    "with open(os.path.join('predictions_expr_tcn.txt'), 'w') as f:\n",
    "    f.write(test_set_sample[0]+'\\n')\n",
    "    for videoname,(y_pred_expr,indices,filenames) in test_videos.items():\n",
    "        cur_ind=0\n",
    "        preds_proba=[]\n",
    "        for i in range(indices[-1]):\n",
    "            if indices[cur_ind]-1==i:\n",
    "                preds_proba.append(y_pred_expr[cur_ind])\n",
    "                cur_ind+=1\n",
    "            else:\n",
    "                if cur_ind==0:\n",
    "                    preds_proba.append(y_pred_expr[cur_ind])\n",
    "                else:\n",
    "                    w=(i-indices[cur_ind-1]+1)/(indices[cur_ind]-indices[cur_ind-1])\n",
    "                    y_pred_expr = np.array(y_pred_expr)\n",
    "                    pred=w*y_pred_expr[cur_ind-1]+(1-w)*y_pred_expr[cur_ind]\n",
    "                    preds_proba.append(pred)\n",
    "\n",
    "        pred=y_pred_expr[cur_ind-1]\n",
    "        for _ in range(indices[-1],len(test_set_videos[videoname])):\n",
    "            preds_proba.append(pred)\n",
    "\n",
    "        preds_proba=np.array(preds_proba)\n",
    "        for i,img_name in enumerate(test_set_videos[videoname]):\n",
    "            i1=max(i-delta,0)\n",
    "            proba=np.mean(preds_proba[i1:i+delta+1],axis=0)\n",
    "            f.write(videoname+'/'+img_name+','+str(np.argmax(proba))+'\\n')"
   ]
  },
  {
   "cell_type": "code",
   "execution_count": null,
   "metadata": {},
   "outputs": [],
   "source": []
  }
 ],
 "metadata": {
  "kernelspec": {
   "display_name": "Python 3 (ipykernel)",
   "language": "python",
   "name": "python3"
  },
  "language_info": {
   "codemirror_mode": {
    "name": "ipython",
    "version": 3
   },
   "file_extension": ".py",
   "mimetype": "text/x-python",
   "name": "python",
   "nbconvert_exporter": "python",
   "pygments_lexer": "ipython3",
   "version": "3.8.10"
  }
 },
 "nbformat": 4,
 "nbformat_minor": 4
}
