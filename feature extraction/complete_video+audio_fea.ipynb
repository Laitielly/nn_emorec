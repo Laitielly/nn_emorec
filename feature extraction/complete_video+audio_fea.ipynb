{
 "cells": [
  {
   "cell_type": "code",
   "execution_count": 2,
   "metadata": {},
   "outputs": [
    {
     "name": "stdout",
     "output_type": "stream",
     "text": [
      "env: CUDA_VISIBLE_DEVICES=0\n"
     ]
    }
   ],
   "source": [
    "%env CUDA_VISIBLE_DEVICES=0"
   ]
  },
  {
   "cell_type": "code",
   "execution_count": 3,
   "metadata": {},
   "outputs": [],
   "source": [
    "import pickle\n",
    "import numpy as np\n",
    "\n",
    "from math import ceil"
   ]
  },
  {
   "cell_type": "code",
   "execution_count": 7,
   "metadata": {},
   "outputs": [],
   "source": [
    "# opensmile = '../train_val_fea-2/openSMILEfea.pickle'\n",
    "openl3 = 'train_val_fea/openl3_sr16_128_512.pickle'\n",
    "w2v2hub = 'train_val_fea/wav2vec_hubert_fea-2.pickle'\n",
    "w2v2large = 'train_val_fea/wav2vec_large_robast_fea.pickle'\n",
    "\n",
    "# openl3 = 'audio_pre-emph_fea/openl3_sr16_128_512.pickle'\n",
    "# w2v2hub = 'audio_pre-emph_fea/wav2vec_hubert_fea.pickle'\n",
    "# w2v2large = 'audio_pre-emph_fea/wav2vec_large_robust_fea.pickle'\n",
    "\n",
    "video = 'full_video_fea/enet_b0_8_best_vgaf_cropped_aligned.pickle'\n",
    "# video = '/home/hse_student/apsidorova/interpolation_enet_b0_8_best_vgaf_cropped_aligned.pickle'\n",
    "# video = '/home/avsavchenko/src/emotions-multimodal/faces/ABAW/abaw5/enet_b0_8_best_vgaf_cropped.pickle'"
   ]
  },
  {
   "cell_type": "code",
   "execution_count": 8,
   "metadata": {},
   "outputs": [],
   "source": [
    "# opensmile_fea = pickle.load(open(opensmile, 'rb'))\n",
    "openl3_fea = pickle.load(open(openl3, 'rb'))\n",
    "w2v2hub_fea = pickle.load(open(w2v2hub, 'rb'))\n",
    "w2v2large_fea = pickle.load(open(w2v2large, 'rb'))\n",
    "\n",
    "video_fea = pickle.load(open(video, 'rb'))"
   ]
  },
  {
   "cell_type": "code",
   "execution_count": 9,
   "metadata": {},
   "outputs": [
    {
     "data": {
      "text/plain": [
       "2941546"
      ]
     },
     "execution_count": 9,
     "metadata": {},
     "output_type": "execute_result"
    }
   ],
   "source": [
    "len(video_fea)"
   ]
  },
  {
   "cell_type": "code",
   "execution_count": 10,
   "metadata": {},
   "outputs": [
    {
     "data": {
      "text/plain": [
       "(110070, 73470, 73470, 2941546)"
      ]
     },
     "execution_count": 10,
     "metadata": {},
     "output_type": "execute_result"
    }
   ],
   "source": [
    "len(openl3_fea), len(w2v2hub_fea), len(w2v2large_fea), len(video_fea)"
   ]
  },
  {
   "cell_type": "code",
   "execution_count": 11,
   "metadata": {},
   "outputs": [
    {
     "name": "stdout",
     "output_type": "stream",
     "text": [
      "71-30-1920x1080/00001\n"
     ]
    }
   ],
   "source": [
    "for i in openl3_fea.keys():\n",
    "    print(i)\n",
    "    break"
   ]
  },
  {
   "cell_type": "code",
   "execution_count": 12,
   "metadata": {},
   "outputs": [],
   "source": [
    "audio15_keys = {}\n",
    "for key in w2v2hub_fea.keys():\n",
    "    folder, sec = key.split('/')\n",
    "    \n",
    "    if folder not in audio15_keys.keys():\n",
    "        audio15_keys[folder] = []\n",
    "        \n",
    "    audio15_keys[folder].append(sec)"
   ]
  },
  {
   "cell_type": "code",
   "execution_count": 13,
   "metadata": {},
   "outputs": [],
   "source": [
    "audio1_keys = {}\n",
    "for key in openl3_fea.keys():\n",
    "    folder, sec = key.split('/')\n",
    "    \n",
    "    if folder not in audio1_keys.keys():\n",
    "        audio1_keys[folder] = []\n",
    "        \n",
    "    audio1_keys[folder].append(sec)"
   ]
  },
  {
   "cell_type": "code",
   "execution_count": 14,
   "metadata": {},
   "outputs": [],
   "source": [
    "video_keys = {}\n",
    "for key in video_fea.keys():\n",
    "    folder, frame = key.split('/')\n",
    "    frame = frame[:-4]\n",
    "    \n",
    "    if folder not in video_keys.keys():\n",
    "        video_keys[folder] = []\n",
    "        \n",
    "    video_keys[folder].append(frame)"
   ]
  },
  {
   "cell_type": "code",
   "execution_count": 15,
   "metadata": {},
   "outputs": [
    {
     "data": {
      "text/plain": [
       "(598, 598, 594)"
      ]
     },
     "execution_count": 15,
     "metadata": {},
     "output_type": "execute_result"
    }
   ],
   "source": [
    "len(audio15_keys.keys()), len(audio1_keys.keys()), len(video_keys.keys())"
   ]
  },
  {
   "cell_type": "code",
   "execution_count": 16,
   "metadata": {},
   "outputs": [
    {
     "data": {
      "text/plain": [
       "(598, 598, 594)"
      ]
     },
     "execution_count": 16,
     "metadata": {},
     "output_type": "execute_result"
    }
   ],
   "source": [
    "len(audio15_keys.keys()), len(audio1_keys.keys()), len(video_keys.keys())"
   ]
  },
  {
   "cell_type": "code",
   "execution_count": 17,
   "metadata": {},
   "outputs": [],
   "source": [
    "all_keys = {\n",
    "            '1.5': {},\n",
    "            '1.0': {},\n",
    "            'video': {}}\n",
    "\n",
    "for key in video_keys.keys():\n",
    "    all_keys['video'][key] = sorted(video_keys[key])\n",
    "    \n",
    "    if 'left' in key or 'right' in key:\n",
    "        key = key.replace('_left', '')\n",
    "        key = key.replace('_right', '')\n",
    "        \n",
    "    all_keys['1.5'][key] = sorted(audio15_keys[key])\n",
    "    all_keys['1.0'][key] = sorted(audio1_keys[key])"
   ]
  },
  {
   "cell_type": "code",
   "execution_count": 18,
   "metadata": {},
   "outputs": [],
   "source": [
    "features = {}\n",
    "missed = {}\n",
    "\n",
    "for key in video_keys.keys():\n",
    "    frames = all_keys['video'][key]\n",
    "    \n",
    "    if ('left' in key\n",
    "        or\n",
    "        'right' in key):\n",
    "        m_key = key.replace('_left', '')\n",
    "        m_key = m_key.replace('_right', '')\n",
    "        \n",
    "    else: m_key = key\n",
    "    \n",
    "    for frame in frames:\n",
    "        local_name = f'{key}/{frame}.jpg'\n",
    "        \n",
    "        features[local_name] = {}\n",
    "        features[local_name]['frame'] = video_fea[local_name]\n",
    "        \n",
    "        m15 = str(ceil(int(frame) / 45)).zfill(5)\n",
    "        m1 = str(ceil(int(frame) / 30)).zfill(5)\n",
    "        \n",
    "        lname_au15 = f'{m_key}/{m15}'\n",
    "        lname_au1 = f'{m_key}/{m1}'\n",
    "        \n",
    "        if local_name == '18-24-1920x1080/04831.jpg':\n",
    "            lname_au1 = '18-24-1920x1080/00161'\n",
    "        \n",
    "        try:\n",
    "#             features[local_name]['opensmile'] = opensmile_fea[lname_au15]\n",
    "            features[local_name]['openl3'] = openl3_fea[lname_au1]\n",
    "            features[local_name]['w2v2hub'] = w2v2hub_fea[lname_au15]\n",
    "            features[local_name]['w2v2large'] = w2v2large_fea[lname_au15]\n",
    "            \n",
    "        except:\n",
    "            missed[key] = 0"
   ]
  },
  {
   "cell_type": "code",
   "execution_count": 19,
   "metadata": {},
   "outputs": [
    {
     "data": {
      "text/plain": [
       "dict_keys([])"
      ]
     },
     "execution_count": 19,
     "metadata": {},
     "output_type": "execute_result"
    }
   ],
   "source": [
    "missed.keys()"
   ]
  },
  {
   "cell_type": "code",
   "execution_count": 15,
   "metadata": {},
   "outputs": [
    {
     "data": {
      "text/plain": [
       "2941546"
      ]
     },
     "execution_count": 15,
     "metadata": {},
     "output_type": "execute_result"
    }
   ],
   "source": [
    "len(features)"
   ]
  },
  {
   "cell_type": "code",
   "execution_count": 16,
   "metadata": {},
   "outputs": [],
   "source": [
    "with open('features.pickle', 'wb') as handle:\n",
    "    pickle.dump(features, handle, protocol=pickle.HIGHEST_PROTOCOL)"
   ]
  },
  {
   "cell_type": "code",
   "execution_count": null,
   "metadata": {},
   "outputs": [],
   "source": []
  }
 ],
 "metadata": {
  "kernelspec": {
   "display_name": "Python 3 (ipykernel)",
   "language": "python",
   "name": "python3"
  },
  "language_info": {
   "codemirror_mode": {
    "name": "ipython",
    "version": 3
   },
   "file_extension": ".py",
   "mimetype": "text/x-python",
   "name": "python",
   "nbconvert_exporter": "python",
   "pygments_lexer": "ipython3",
   "version": "3.8.10"
  }
 },
 "nbformat": 4,
 "nbformat_minor": 4
}
