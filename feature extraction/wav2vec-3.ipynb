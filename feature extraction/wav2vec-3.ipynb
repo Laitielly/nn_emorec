{
 "cells": [
  {
   "cell_type": "code",
   "execution_count": 1,
   "metadata": {
    "_cell_guid": "b1076dfc-b9ad-4769-8c92-a6c4dae69d19",
    "_uuid": "8f2839f25d086af736a60e9eeb907d3b93b6e0e5",
    "execution": {
     "iopub.execute_input": "2024-02-11T23:39:53.816939Z",
     "iopub.status.busy": "2024-02-11T23:39:53.816640Z",
     "iopub.status.idle": "2024-02-11T23:40:00.527509Z",
     "shell.execute_reply": "2024-02-11T23:40:00.526553Z",
     "shell.execute_reply.started": "2024-02-11T23:39:53.816912Z"
    }
   },
   "outputs": [],
   "source": [
    "import os\n",
    "import inspect\n",
    "from math import floor\n",
    "from tqdm import tqdm\n",
    "\n",
    "import torch\n",
    "import numpy as np\n",
    "import librosa\n",
    "from transformers import Wav2Vec2FeatureExtractor, HubertForSequenceClassification"
   ]
  },
  {
   "cell_type": "code",
   "execution_count": null,
   "metadata": {
    "execution": {
     "iopub.execute_input": "2024-02-11T23:40:00.529499Z",
     "iopub.status.busy": "2024-02-11T23:40:00.529102Z",
     "iopub.status.idle": "2024-02-11T23:40:03.493350Z",
     "shell.execute_reply": "2024-02-11T23:40:03.492465Z",
     "shell.execute_reply.started": "2024-02-11T23:40:00.529473Z"
    }
   },
   "outputs": [],
   "source": [
    "model = HubertForSequenceClassification.from_pretrained(\"superb/hubert-base-superb-er\")\n",
    "print(inspect.getsource(model.forward))"
   ]
  },
  {
   "cell_type": "code",
   "execution_count": 3,
   "metadata": {
    "execution": {
     "iopub.execute_input": "2024-02-11T23:40:03.494618Z",
     "iopub.status.busy": "2024-02-11T23:40:03.494379Z",
     "iopub.status.idle": "2024-02-11T23:40:03.499966Z",
     "shell.execute_reply": "2024-02-11T23:40:03.498932Z",
     "shell.execute_reply.started": "2024-02-11T23:40:03.494596Z"
    }
   },
   "outputs": [],
   "source": [
    "class IdentityModule(torch.nn.Module):\n",
    "    def __init__(self):\n",
    "        super(IdentityModule, self).__init__()\n",
    "\n",
    "    def forward(self, x):\n",
    "        return x\n",
    "    \n",
    "model.classifier = IdentityModule()"
   ]
  },
  {
   "cell_type": "code",
   "execution_count": 4,
   "metadata": {
    "execution": {
     "iopub.execute_input": "2024-02-11T23:40:03.503106Z",
     "iopub.status.busy": "2024-02-11T23:40:03.502489Z",
     "iopub.status.idle": "2024-02-11T23:40:25.032105Z",
     "shell.execute_reply": "2024-02-11T23:40:25.031251Z",
     "shell.execute_reply.started": "2024-02-11T23:40:03.503067Z"
    }
   },
   "outputs": [
    {
     "data": {
      "application/vnd.jupyter.widget-view+json": {
       "model_id": "488c13759daa4b869c2599e2a294eb5d",
       "version_major": 2,
       "version_minor": 0
      },
      "text/plain": [
       "preprocessor_config.json:   0%|          | 0.00/213 [00:00<?, ?B/s]"
      ]
     },
     "metadata": {},
     "output_type": "display_data"
    },
    {
     "name": "stderr",
     "output_type": "stream",
     "text": [
      "2024-02-11 23:40:15.222780: E external/local_xla/xla/stream_executor/cuda/cuda_dnn.cc:9261] Unable to register cuDNN factory: Attempting to register factory for plugin cuDNN when one has already been registered\n",
      "2024-02-11 23:40:15.222876: E external/local_xla/xla/stream_executor/cuda/cuda_fft.cc:607] Unable to register cuFFT factory: Attempting to register factory for plugin cuFFT when one has already been registered\n",
      "2024-02-11 23:40:15.350040: E external/local_xla/xla/stream_executor/cuda/cuda_blas.cc:1515] Unable to register cuBLAS factory: Attempting to register factory for plugin cuBLAS when one has already been registered\n"
     ]
    }
   ],
   "source": [
    "audio, sr = librosa.load('/kaggle/input/audio-abaw5/batch1/batch1/100-29-1080x1920.mp3', sr=16000)\n",
    "\n",
    "with torch.no_grad():\n",
    "    feature_extractor = Wav2Vec2FeatureExtractor.from_pretrained(\"superb/hubert-base-superb-er\")\n",
    "    inputs = feature_extractor(audio[:16000], sampling_rate=16000, padding=True, return_tensors=\"pt\")\n",
    "\n",
    "    logits = model(**inputs)"
   ]
  },
  {
   "cell_type": "code",
   "execution_count": 5,
   "metadata": {
    "execution": {
     "iopub.execute_input": "2024-02-11T23:40:25.034202Z",
     "iopub.status.busy": "2024-02-11T23:40:25.033400Z",
     "iopub.status.idle": "2024-02-11T23:40:25.041770Z",
     "shell.execute_reply": "2024-02-11T23:40:25.040775Z",
     "shell.execute_reply.started": "2024-02-11T23:40:25.034163Z"
    }
   },
   "outputs": [
    {
     "data": {
      "text/plain": [
       "torch.Size([1, 256])"
      ]
     },
     "execution_count": 5,
     "metadata": {},
     "output_type": "execute_result"
    }
   ],
   "source": [
    "logits.logits.shape"
   ]
  },
  {
   "cell_type": "code",
   "execution_count": 6,
   "metadata": {
    "execution": {
     "iopub.execute_input": "2024-02-11T23:40:25.043658Z",
     "iopub.status.busy": "2024-02-11T23:40:25.043324Z",
     "iopub.status.idle": "2024-02-11T23:40:25.163028Z",
     "shell.execute_reply": "2024-02-11T23:40:25.162309Z",
     "shell.execute_reply.started": "2024-02-11T23:40:25.043627Z"
    }
   },
   "outputs": [],
   "source": [
    "data_dir = '/kaggle/input/audio-abaw5'\n",
    "folders = ['batch1', 'batch2', 'new_vids']\n",
    "\n",
    "names = []\n",
    "global_features = []\n",
    "\n",
    "step = 24000 #1.5sec\n",
    "feature_extractor = Wav2Vec2FeatureExtractor.from_pretrained(\"superb/hubert-base-superb-er\")"
   ]
  },
  {
   "cell_type": "code",
   "execution_count": 7,
   "metadata": {
    "execution": {
     "iopub.execute_input": "2024-02-11T23:40:25.164208Z",
     "iopub.status.busy": "2024-02-11T23:40:25.163944Z",
     "iopub.status.idle": "2024-02-11T23:40:25.173127Z",
     "shell.execute_reply": "2024-02-11T23:40:25.172212Z",
     "shell.execute_reply.started": "2024-02-11T23:40:25.164186Z"
    }
   },
   "outputs": [],
   "source": [
    "def process_signal(local_name, audio, step=24000, sr=16000):\n",
    "    names = []\n",
    "    features = []\n",
    "    th = floor(audio.shape[0] / step)\n",
    "\n",
    "    for s in range(th):\n",
    "        with torch.no_grad():\n",
    "            fea = feature_extractor(audio[step*s:(s+1)*step], \n",
    "                                    sampling_rate=sr, padding=True, \n",
    "                                    return_tensors=\"pt\")\n",
    "            signal = model(**fea)\n",
    "        features.append(signal.logits[0].detach().numpy())\n",
    "        names.append(f'{local_name}/{str(s+1).zfill(5)}')\n",
    "\n",
    "    if audio[step*th:].shape[0] > 0:\n",
    "        new_step = step - audio[step*th:].shape[0]\n",
    "        with torch.no_grad():\n",
    "            fea = feature_extractor(audio[step*th - new_step:], \n",
    "                                    sampling_rate=sr, padding=True, \n",
    "                                    return_tensors=\"pt\")\n",
    "\n",
    "            signal = model(**fea)\n",
    "        features.append(signal.logits[0].detach().numpy())\n",
    "        names.append(f'{local_name}/{str(th+1).zfill(5)}')\n",
    "        \n",
    "    return names, features"
   ]
  },
  {
   "cell_type": "code",
   "execution_count": 8,
   "metadata": {
    "execution": {
     "iopub.execute_input": "2024-02-11T23:40:25.175107Z",
     "iopub.status.busy": "2024-02-11T23:40:25.174229Z",
     "iopub.status.idle": "2024-02-12T02:57:55.990833Z",
     "shell.execute_reply": "2024-02-12T02:57:55.989963Z",
     "shell.execute_reply.started": "2024-02-11T23:40:25.175070Z"
    }
   },
   "outputs": [
    {
     "name": "stdout",
     "output_type": "stream",
     "text": [
      "in batch1\n"
     ]
    },
    {
     "name": "stderr",
     "output_type": "stream",
     "text": [
      "100%|██████████| 475/475 [2:25:47<00:00, 18.42s/it]  \n"
     ]
    },
    {
     "name": "stdout",
     "output_type": "stream",
     "text": [
      "in batch2\n"
     ]
    },
    {
     "name": "stderr",
     "output_type": "stream",
     "text": [
      "100%|██████████| 73/73 [20:26<00:00, 16.80s/it]\n"
     ]
    },
    {
     "name": "stdout",
     "output_type": "stream",
     "text": [
      "in new_vids\n"
     ]
    },
    {
     "name": "stderr",
     "output_type": "stream",
     "text": [
      "100%|██████████| 50/50 [31:15<00:00, 37.51s/it] \n"
     ]
    }
   ],
   "source": [
    "for folder in folders:\n",
    "    dirpath=os.path.join(data_dir, folder, folder)\n",
    "    print(f'in {folder}')\n",
    "\n",
    "    for filename in tqdm(os.listdir(dirpath)):\n",
    "        fn, ext = os.path.splitext(os.path.basename(filename))\n",
    "        if ext.lower()=='.mp3':\n",
    "            local_name = f'{fn}'\n",
    "            \n",
    "            audio, sr = librosa.load(os.path.join(dirpath, filename), sr=16000)\n",
    "            nn, fea = process_signal(local_name, audio, step)\n",
    "            \n",
    "            names += nn\n",
    "            \n",
    "            if len(global_features):\n",
    "                global_features=np.concatenate((global_features, fea),axis=0)\n",
    "            else:\n",
    "                global_features = fea\n",
    "                \n",
    "        else:\n",
    "            print(filename)"
   ]
  },
  {
   "cell_type": "code",
   "execution_count": 9,
   "metadata": {
    "execution": {
     "iopub.execute_input": "2024-02-12T02:57:55.992383Z",
     "iopub.status.busy": "2024-02-12T02:57:55.992095Z",
     "iopub.status.idle": "2024-02-12T02:57:55.998221Z",
     "shell.execute_reply": "2024-02-12T02:57:55.997304Z",
     "shell.execute_reply.started": "2024-02-12T02:57:55.992358Z"
    }
   },
   "outputs": [
    {
     "data": {
      "text/plain": [
       "((73460, 256), 73460)"
      ]
     },
     "execution_count": 9,
     "metadata": {},
     "output_type": "execute_result"
    }
   ],
   "source": [
    "global_features.shape, len(names)"
   ]
  },
  {
   "cell_type": "code",
   "execution_count": 10,
   "metadata": {
    "execution": {
     "iopub.execute_input": "2024-02-12T02:57:56.000954Z",
     "iopub.status.busy": "2024-02-12T02:57:56.000678Z",
     "iopub.status.idle": "2024-02-12T02:57:56.837276Z",
     "shell.execute_reply": "2024-02-12T02:57:56.836477Z",
     "shell.execute_reply.started": "2024-02-12T02:57:56.000932Z"
    }
   },
   "outputs": [],
   "source": [
    "import pickle\n",
    "\n",
    "filename2featuresAll={img_name: gl_feature for img_name, gl_feature \n",
    "                      in zip(names, global_features)}\n",
    "\n",
    "with open('wav2vec_hubert_fea.pickle', 'wb') as handle:\n",
    "    pickle.dump(filename2featuresAll, handle, protocol=pickle.HIGHEST_PROTOCOL)"
   ]
  },
  {
   "cell_type": "code",
   "execution_count": 11,
   "metadata": {
    "execution": {
     "iopub.execute_input": "2024-02-12T02:57:56.838724Z",
     "iopub.status.busy": "2024-02-12T02:57:56.838393Z",
     "iopub.status.idle": "2024-02-12T02:57:56.844920Z",
     "shell.execute_reply": "2024-02-12T02:57:56.843977Z",
     "shell.execute_reply.started": "2024-02-12T02:57:56.838693Z"
    }
   },
   "outputs": [
    {
     "data": {
      "text/html": [
       "<a href='wav2vec_hubert_fea.pickle' target='_blank'>wav2vec_hubert_fea.pickle</a><br>"
      ],
      "text/plain": [
       "/kaggle/working/wav2vec_hubert_fea.pickle"
      ]
     },
     "execution_count": 11,
     "metadata": {},
     "output_type": "execute_result"
    }
   ],
   "source": [
    "from IPython.display import FileLink\n",
    "\n",
    "FileLink('wav2vec_hubert_fea.pickle')"
   ]
  },
  {
   "cell_type": "code",
   "execution_count": null,
   "metadata": {},
   "outputs": [],
   "source": []
  }
 ],
 "metadata": {
  "kaggle": {
   "accelerator": "gpu",
   "dataSources": [
    {
     "datasetId": 4283660,
     "sourceId": 7372463,
     "sourceType": "datasetVersion"
    },
    {
     "datasetId": 4429363,
     "sourceId": 7607406,
     "sourceType": "datasetVersion"
    }
   ],
   "dockerImageVersionId": 30648,
   "isGpuEnabled": true,
   "isInternetEnabled": true,
   "language": "python",
   "sourceType": "notebook"
  },
  "kernelspec": {
   "display_name": "Python 3 (ipykernel)",
   "language": "python",
   "name": "python3"
  },
  "language_info": {
   "codemirror_mode": {
    "name": "ipython",
    "version": 3
   },
   "file_extension": ".py",
   "mimetype": "text/x-python",
   "name": "python",
   "nbconvert_exporter": "python",
   "pygments_lexer": "ipython3",
   "version": "3.8.10"
  }
 },
 "nbformat": 4,
 "nbformat_minor": 4
}
