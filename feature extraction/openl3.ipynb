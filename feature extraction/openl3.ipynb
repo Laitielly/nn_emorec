{
 "cells": [
  {
   "cell_type": "code",
   "execution_count": null,
   "metadata": {
    "execution": {
     "iopub.execute_input": "2024-02-11T13:20:28.860345Z",
     "iopub.status.busy": "2024-02-11T13:20:28.859985Z",
     "iopub.status.idle": "2024-02-11T13:21:45.396722Z",
     "shell.execute_reply": "2024-02-11T13:21:45.395626Z",
     "shell.execute_reply.started": "2024-02-11T13:20:28.860319Z"
    },
    "jupyter": {
     "outputs_hidden": true
    },
    "scrolled": true
   },
   "outputs": [],
   "source": [
    "!pip install openl3"
   ]
  },
  {
   "cell_type": "code",
   "execution_count": null,
   "metadata": {
    "_cell_guid": "b1076dfc-b9ad-4769-8c92-a6c4dae69d19",
    "_uuid": "8f2839f25d086af736a60e9eeb907d3b93b6e0e5",
    "execution": {
     "iopub.execute_input": "2024-02-11T13:21:45.399159Z",
     "iopub.status.busy": "2024-02-11T13:21:45.398858Z",
     "iopub.status.idle": "2024-02-11T13:21:59.450889Z",
     "shell.execute_reply": "2024-02-11T13:21:59.449913Z",
     "shell.execute_reply.started": "2024-02-11T13:21:45.399133Z"
    }
   },
   "outputs": [],
   "source": [
    "import openl3\n",
    "import librosa\n",
    "\n",
    "import os\n",
    "import numpy as np\n",
    "from tqdm import tqdm\n",
    "\n",
    "from math import ceil\n",
    "\n",
    "import pickle\n",
    "from IPython.display import FileLink"
   ]
  },
  {
   "cell_type": "code",
   "execution_count": 5,
   "metadata": {
    "execution": {
     "iopub.execute_input": "2024-02-11T13:21:59.459912Z",
     "iopub.status.busy": "2024-02-11T13:21:59.459591Z",
     "iopub.status.idle": "2024-02-11T13:21:59.493146Z",
     "shell.execute_reply": "2024-02-11T13:21:59.492357Z",
     "shell.execute_reply.started": "2024-02-11T13:21:59.459884Z"
    }
   },
   "outputs": [],
   "source": [
    "data_dir = '/kaggle/input/audio-abaw5'\n",
    "folders = ['batch1', 'batch2', 'new_vids']"
   ]
  },
  {
   "cell_type": "code",
   "execution_count": 6,
   "metadata": {
    "execution": {
     "iopub.execute_input": "2024-02-11T13:21:59.494582Z",
     "iopub.status.busy": "2024-02-11T13:21:59.494294Z",
     "iopub.status.idle": "2024-02-11T13:21:59.505119Z",
     "shell.execute_reply": "2024-02-11T13:21:59.504265Z",
     "shell.execute_reply.started": "2024-02-11T13:21:59.494560Z"
    }
   },
   "outputs": [],
   "source": [
    "def get_embs(data_dir, folders, sr, model):  \n",
    "    names = []\n",
    "    global_features = []\n",
    "    \n",
    "    for folder in folders:\n",
    "        dirpath=os.path.join(data_dir, folder, folder)\n",
    "        print(f'in {folder}')\n",
    "\n",
    "        for filename in tqdm(os.listdir(dirpath)):\n",
    "            fn, ext = os.path.splitext(os.path.basename(filename))\n",
    "            if ext.lower()=='.mp3':\n",
    "                local_name = f'{fn}'\n",
    "\n",
    "                audio, _ = librosa.load(os.path.join(dirpath, filename), sr=sr)\n",
    "                \n",
    "                fea, _ = openl3.get_audio_embedding(audio, sr, \n",
    "                                                    center=False, verbose=False,\n",
    "                                                    model=model, hop_size=1.0)\n",
    "                names += [f'{local_name}/{str(s+1).zfill(5)}' \n",
    "                          for s in range(ceil(audio.shape[0] / sr))]\n",
    "\n",
    "                if len(global_features):\n",
    "                    global_features=np.concatenate((global_features, fea),axis=0)\n",
    "                else:\n",
    "                    global_features = fea\n",
    "\n",
    "            else:\n",
    "                print(filename)\n",
    "                \n",
    "    return global_features, names"
   ]
  },
  {
   "cell_type": "markdown",
   "metadata": {},
   "source": [
    "# sr=16000, emb_size=512"
   ]
  },
  {
   "cell_type": "code",
   "execution_count": 10,
   "metadata": {
    "execution": {
     "iopub.execute_input": "2024-02-11T11:17:05.844852Z",
     "iopub.status.busy": "2024-02-11T11:17:05.844559Z",
     "iopub.status.idle": "2024-02-11T11:17:05.849587Z",
     "shell.execute_reply": "2024-02-11T11:17:05.848340Z",
     "shell.execute_reply.started": "2024-02-11T11:17:05.844827Z"
    }
   },
   "outputs": [],
   "source": [
    "os.environ[\"CUDA_VISIBLE_DEVICES\"] = \"0\" "
   ]
  },
  {
   "cell_type": "code",
   "execution_count": 11,
   "metadata": {
    "execution": {
     "iopub.execute_input": "2024-02-11T11:17:05.850900Z",
     "iopub.status.busy": "2024-02-11T11:17:05.850538Z",
     "iopub.status.idle": "2024-02-11T11:17:06.418714Z",
     "shell.execute_reply": "2024-02-11T11:17:06.417758Z",
     "shell.execute_reply.started": "2024-02-11T11:17:05.850861Z"
    }
   },
   "outputs": [
    {
     "data": {
      "text/plain": [
       "<keras.src.engine.functional.Functional at 0x7ff741231750>"
      ]
     },
     "execution_count": 11,
     "metadata": {},
     "output_type": "execute_result"
    }
   ],
   "source": [
    "model = openl3.models.load_audio_embedding_model(input_repr=\"mel128\", \n",
    "                                                 content_type=\"env\", \n",
    "                                                 embedding_size=512)\n",
    "model"
   ]
  },
  {
   "cell_type": "code",
   "execution_count": 12,
   "metadata": {
    "execution": {
     "iopub.execute_input": "2024-02-11T11:17:06.420833Z",
     "iopub.status.busy": "2024-02-11T11:17:06.420101Z",
     "iopub.status.idle": "2024-02-11T12:34:33.139752Z",
     "shell.execute_reply": "2024-02-11T12:34:33.138831Z",
     "shell.execute_reply.started": "2024-02-11T11:17:06.420804Z"
    }
   },
   "outputs": [
    {
     "name": "stdout",
     "output_type": "stream",
     "text": [
      "in batch1\n"
     ]
    },
    {
     "name": "stderr",
     "output_type": "stream",
     "text": [
      "  5%|▌         | 24/475 [02:56<48:23,  6.44s/it]  /opt/conda/lib/python3.10/site-packages/openl3/core.py:55: OpenL3Warning: Provided audio is all zeros\n",
      "  warnings.warn('Provided audio is all zeros', OpenL3Warning)\n",
      "100%|██████████| 475/475 [57:01<00:00,  7.20s/it]  \n"
     ]
    },
    {
     "name": "stdout",
     "output_type": "stream",
     "text": [
      "in batch2\n"
     ]
    },
    {
     "name": "stderr",
     "output_type": "stream",
     "text": [
      "100%|██████████| 73/73 [08:13<00:00,  6.77s/it]\n"
     ]
    },
    {
     "name": "stdout",
     "output_type": "stream",
     "text": [
      "in new_vids\n"
     ]
    },
    {
     "name": "stderr",
     "output_type": "stream",
     "text": [
      "100%|██████████| 50/50 [12:11<00:00, 14.62s/it]\n"
     ]
    }
   ],
   "source": [
    "sr = 16000\n",
    "gf_16_512, names_16_512 = get_embs(data_dir, folders, sr, model)"
   ]
  },
  {
   "cell_type": "code",
   "execution_count": 13,
   "metadata": {
    "execution": {
     "iopub.execute_input": "2024-02-11T12:34:33.141344Z",
     "iopub.status.busy": "2024-02-11T12:34:33.141058Z",
     "iopub.status.idle": "2024-02-11T12:34:33.147147Z",
     "shell.execute_reply": "2024-02-11T12:34:33.146306Z",
     "shell.execute_reply.started": "2024-02-11T12:34:33.141320Z"
    }
   },
   "outputs": [
    {
     "data": {
      "text/plain": [
       "((110063, 512), 110063)"
      ]
     },
     "execution_count": 13,
     "metadata": {},
     "output_type": "execute_result"
    }
   ],
   "source": [
    "gf_16_512.shape, len(names_16_512)"
   ]
  },
  {
   "cell_type": "code",
   "execution_count": 14,
   "metadata": {
    "execution": {
     "iopub.execute_input": "2024-02-11T12:34:33.148735Z",
     "iopub.status.busy": "2024-02-11T12:34:33.148336Z",
     "iopub.status.idle": "2024-02-11T12:34:34.440125Z",
     "shell.execute_reply": "2024-02-11T12:34:34.439135Z",
     "shell.execute_reply.started": "2024-02-11T12:34:33.148701Z"
    }
   },
   "outputs": [
    {
     "data": {
      "text/html": [
       "<a href='openl3_sr16_128_512.pickle' target='_blank'>openl3_sr16_128_512.pickle</a><br>"
      ],
      "text/plain": [
       "/kaggle/working/openl3_sr16_128_512.pickle"
      ]
     },
     "execution_count": 14,
     "metadata": {},
     "output_type": "execute_result"
    }
   ],
   "source": [
    "mp2embs16_512 = {img_name: gl_feature for img_name, gl_feature \n",
    "                      in zip(names_16_512, gf_16_512)}\n",
    "\n",
    "with open('openl3_sr16_128_512.pickle', 'wb') as handle:\n",
    "    pickle.dump(mp2embs16_512, handle, protocol=pickle.HIGHEST_PROTOCOL)\n",
    "\n",
    "FileLink('openl3_sr16_128_512.pickle')"
   ]
  }
 ],
 "metadata": {
  "kaggle": {
   "accelerator": "gpu",
   "dataSources": [
    {
     "datasetId": 4283660,
     "sourceId": 7372463,
     "sourceType": "datasetVersion"
    }
   ],
   "dockerImageVersionId": 30648,
   "isGpuEnabled": true,
   "isInternetEnabled": true,
   "language": "python",
   "sourceType": "notebook"
  },
  "kernelspec": {
   "display_name": "Python 3 (ipykernel)",
   "language": "python",
   "name": "python3"
  },
  "language_info": {
   "codemirror_mode": {
    "name": "ipython",
    "version": 3
   },
   "file_extension": ".py",
   "mimetype": "text/x-python",
   "name": "python",
   "nbconvert_exporter": "python",
   "pygments_lexer": "ipython3",
   "version": "3.8.10"
  }
 },
 "nbformat": 4,
 "nbformat_minor": 4
}
