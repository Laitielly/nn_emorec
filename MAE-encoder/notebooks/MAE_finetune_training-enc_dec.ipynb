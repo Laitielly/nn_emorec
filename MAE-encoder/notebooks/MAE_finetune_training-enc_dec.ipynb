{
 "cells": [
  {
   "cell_type": "markdown",
   "id": "0e93dce4",
   "metadata": {},
   "source": [
    "# Imports"
   ]
  },
  {
   "cell_type": "code",
   "execution_count": 1,
   "id": "e938959f",
   "metadata": {},
   "outputs": [],
   "source": [
    "%env CUDA_VISIBLE_DEVICES=0"
   ]
  },
  {
   "cell_type": "code",
   "execution_count": 2,
   "id": "e176e56f",
   "metadata": {},
   "outputs": [],
   "source": [
    "from comet_ml import Experiment, ExistingExperiment\n",
    "from comet_ml.integration.pytorch import log_model"
   ]
  },
  {
   "cell_type": "code",
   "execution_count": 3,
   "id": "ec280488",
   "metadata": {},
   "outputs": [],
   "source": [
    "import os\n",
    "import pickle\n",
    "from tqdm.notebook import tqdm\n",
    "from copy import deepcopy\n",
    "\n",
    "from PIL import Image\n",
    "\n",
    "import numpy as np\n",
    "import pandas as pd\n",
    "\n",
    "from sklearn.metrics import f1_score\n",
    "\n",
    "from torchvision import datasets, transforms\n",
    "\n",
    "import gc "
   ]
  },
  {
   "cell_type": "code",
   "execution_count": 4,
   "id": "8829a8cb",
   "metadata": {},
   "outputs": [],
   "source": [
    "import torch\n",
    "import torch.nn as nn\n",
    "import torch.nn.functional as F\n",
    "import torch.optim as optim\n",
    "from torch.utils.data import DataLoader,Dataset"
   ]
  },
  {
   "cell_type": "code",
   "execution_count": 5,
   "id": "8e20a8f3",
   "metadata": {},
   "outputs": [
    {
     "name": "stdout",
     "output_type": "stream",
     "text": [
      "Torch: 2.0.1+cu117\n",
      "cuda:0\n"
     ]
    }
   ],
   "source": [
    "print(f\"Torch: {torch.__version__}\")\n",
    "device = 'cuda:0' if torch.cuda.is_available() else 'cpu'\n",
    "print(device)"
   ]
  },
  {
   "cell_type": "markdown",
   "id": "a3ebb903",
   "metadata": {},
   "source": [
    "# Expression Recognition Challenge\n",
    "## Get target data"
   ]
  },
  {
   "cell_type": "code",
   "execution_count": 6,
   "id": "fc3c5f3e",
   "metadata": {},
   "outputs": [],
   "source": [
    "idx_to_class_2={0: 'Neutral', 1:'Anger', 2:'Disgust', 3:'Fear', \n",
    "                4:'Happiness', 5:'Sadness', 6:'Surprise', 7:'Other'} #ABAW\n",
    "classes = ['Neutral', 'Anger', 'Disgust', 'Fear', \n",
    "           'Happiness', 'Sadness', 'Surprise', 'Other']"
   ]
  },
  {
   "cell_type": "code",
   "execution_count": 7,
   "id": "0c2e8c82",
   "metadata": {},
   "outputs": [],
   "source": [
    "IMG_SIZE=224\n",
    "transform = transforms.Compose(\n",
    "    [\n",
    "        transforms.Resize((IMG_SIZE,IMG_SIZE)),\n",
    "        transforms.ToTensor(),\n",
    "        transforms.Normalize(mean=[0.533, 0.425, 0.374],\n",
    "                             std=[0.244, 0.214, 0.202])\n",
    "    ]\n",
    ")"
   ]
  },
  {
   "cell_type": "code",
   "execution_count": 8,
   "id": "48f3a593",
   "metadata": {},
   "outputs": [
    {
     "name": "stdout",
     "output_type": "stream",
     "text": [
      "597361 597361 0\n",
      "284230 284230 0\n"
     ]
    }
   ],
   "source": [
    "DATA_DIR = '/home/HDD6TB/datasets/emotions/ABAW/ABAW_6/6th_ABAW_Annotations'\n",
    "data_dir = '/home/HDD6TB/datasets/emotions/ABAW/ABAW_6/6th_ABAW_Annotations/cropped_aligned/cropped_aligned/'\n",
    "\n",
    "def get_image2Expr(dirname):\n",
    "    dirpath=os.path.join(DATA_DIR,'EXPR_Recognition_Challenge/',dirname)\n",
    "    num_missed=[]\n",
    "    targets = []\n",
    "    names = []\n",
    "    for filename in os.listdir(dirpath):\n",
    "        fn, ext = os.path.splitext(os.path.basename(filename))\n",
    "        if ext.lower()=='.txt':\n",
    "            with open(os.path.join(dirpath,filename)) as f:\n",
    "                lines = f.read().splitlines()\n",
    "                prev_val=None\n",
    "                for i,line in enumerate(lines):\n",
    "                    if i>0:\n",
    "                        expression=int(line)\n",
    "                        if expression>=0:\n",
    "                            imagename=fn+'/'+str(i).zfill(5)+'.jpg'\n",
    "                            targets.append(expression)\n",
    "                            names.append(os.path.join(data_dir, imagename))\n",
    "    print(len(targets), len(names), len(num_missed))\n",
    "    return np.array(targets), num_missed, np.array(names)\n",
    "\n",
    "y_train, num_missed_train, names_train = get_image2Expr('Train_Set')\n",
    "y_val, num_missed_test, names_val = get_image2Expr('Validation_Set')"
   ]
  },
  {
   "cell_type": "markdown",
   "id": "7015e861",
   "metadata": {},
   "source": [
    "## Get DataLoader"
   ]
  },
  {
   "cell_type": "code",
   "execution_count": 9,
   "id": "ef9afc6a",
   "metadata": {},
   "outputs": [],
   "source": [
    "train_idx = np.arange(len(names_train))\n",
    "val_idx = np.arange(len(names_val))"
   ]
  },
  {
   "cell_type": "code",
   "execution_count": 10,
   "id": "1bdbcc72",
   "metadata": {},
   "outputs": [],
   "source": [
    "trainp_loader = DataLoader(train_idx,\n",
    "                           batch_size=256, \n",
    "                           shuffle=True)\n",
    "valp_loader = DataLoader(val_idx,\n",
    "                         batch_size=256, \n",
    "                         shuffle=False)"
   ]
  },
  {
   "cell_type": "code",
   "execution_count": 11,
   "id": "3d45cd0d",
   "metadata": {},
   "outputs": [],
   "source": [
    "def get_images(transform, imgs, y_in):\n",
    "    img_tensors = []\n",
    "    y = []\n",
    "    missed = 0\n",
    "    for i, img_name in enumerate(imgs):\n",
    "        try:\n",
    "            img_name = img_name.replace('\\n', '')\n",
    "            img = Image.open(img_name)\n",
    "            img_tensor = transform(img)\n",
    "            if img.size:\n",
    "                img_tensors.append(img_tensor)\n",
    "                y.append(y_in[i])\n",
    "\n",
    "        except:\n",
    "            try:\n",
    "                img_name = img_name.replace('cropped_aligned/cropped_aligned', \n",
    "                                            'cropped_aligned/cropped_aligned_new_50_vids')\n",
    "                img = Image.open(img_name)\n",
    "                img_tensor = transform(img)\n",
    "                if img.size:\n",
    "                    img_tensors.append(img_tensor)\n",
    "                    y.append(y_in[i])\n",
    "                    \n",
    "            except:\n",
    "                missed+=1\n",
    "            \n",
    "    try:\n",
    "        img_tensors = torch.stack(img_tensors)\n",
    "        y = torch.tensor(y)\n",
    "            \n",
    "    except: \n",
    "        img_tensors = []\n",
    "        \n",
    "    if missed > 0:\n",
    "        print(f'num of missed frames {missed}')\n",
    "        \n",
    "    return img_tensors, y"
   ]
  },
  {
   "cell_type": "markdown",
   "id": "57cd6bd3",
   "metadata": {},
   "source": [
    "## Model"
   ]
  },
  {
   "cell_type": "code",
   "execution_count": 14,
   "id": "64e896fe",
   "metadata": {},
   "outputs": [
    {
     "name": "stdout",
     "output_type": "stream",
     "text": [
      "[177198  16573  10771   9080  95463  78751  31615 165866] {0: 1.0, 1: 10.691968865021419, 2: 16.451397270448425, 3: 19.515198237885464, 4: 1.856195594104522, 5: 2.2501047605744686, 6: 5.6048711054879, 7: 1.0683202102902343} 8 [0 1 2 3 4 5 6 7]\n",
      "\n",
      "(array([0, 1, 2, 3, 4, 5, 6, 7]), array([ 83176,   6127,   5322,   8473,  34941,  25594,  12338, 108259]))\n"
     ]
    }
   ],
   "source": [
    "counts = np.array([177198, 16573, 10771, 9080, 95463, 78751, 31615, 165866])\n",
    "unique = np.array([0, 1, 2, 3, 4, 5, 6, 7])\n",
    "num_classes=len(unique)\n",
    "cw=1/counts\n",
    "cw/=cw.min()\n",
    "class_weights = {i:cwi for i,cwi in zip(unique,cw)}\n",
    "print(counts, class_weights, num_classes, unique)\n",
    "print()\n",
    "print(np.unique(y_val, return_counts=True))"
   ]
  },
  {
   "cell_type": "code",
   "execution_count": 15,
   "id": "0c6222ce",
   "metadata": {},
   "outputs": [],
   "source": [
    "import torch\n",
    "from torch import nn\n",
    "import torch.nn.functional as F\n",
    "from einops import repeat\n",
    "\n",
    "from mae.encoder import Transformer\n",
    "\n",
    "\n",
    "class MAE(nn.Module):\n",
    "    '''\n",
    "    the implementation from https://github.com/lucidrains/vit-pytorch.\n",
    "    '''\n",
    "    def __init__(self,\n",
    "                 *,\n",
    "                 encoder,\n",
    "                 decoder_dim,\n",
    "                 decoder_depth=1,\n",
    "                 decoder_heads=8,\n",
    "                 decoder_dim_head=64,\n",
    "                 device='cpu'):\n",
    "        super().__init__()\n",
    "        # common\n",
    "        self.device =  device\n",
    "\n",
    "        # extract some hyperparameters and functions from encoder (vision transformer to be trained)\n",
    "        self.encoder = encoder\n",
    "        num_patches, encoder_dim = encoder.pos_embedding.shape[-2:]\n",
    "        self.patch_to_emb = encoder.patch_to_emb\n",
    "        pixel_values_per_patch = self.patch_to_emb.weight.shape[-1]\n",
    "\n",
    "        # decoder parameters\n",
    "        self.enc_to_dec = nn.Linear(encoder_dim, decoder_dim) if encoder_dim != decoder_dim else nn.Identity()\n",
    "        self.mask_token = nn.Parameter(torch.randn(decoder_dim))\n",
    "        self.decoder = Transformer(dim=decoder_dim,\n",
    "                                   depth=decoder_depth,\n",
    "                                   heads=decoder_heads,\n",
    "                                   dim_head=decoder_dim_head,\n",
    "                                   mlp_dim=decoder_dim * 4)\n",
    "        self.decoder_pos_emb = nn.Embedding(num_patches, decoder_dim)\n",
    "        self.to_pixels = nn.Linear(decoder_dim, pixel_values_per_patch)\n",
    "\n",
    "    def forward(self, img):\n",
    "        batch, num_masked, masked_indices, masked_patches, encoded_tokens = self.encoder(img)\n",
    "\n",
    "        # project encoder to decoder dimensions, if they are not equal - the paper says you can get away with a smaller dimension for decoder\n",
    "        decoder_tokens = self.enc_to_dec(encoded_tokens)\n",
    "\n",
    "        # repeat mask tokens for number of masked, and add the positions using the masked indices derived above\n",
    "        mask_tokens = repeat(self.mask_token, 'd -> b n d', b=batch, n=num_masked)\n",
    "        mask_tokens = mask_tokens + self.decoder_pos_emb(masked_indices)\n",
    "\n",
    "        # concat the masked tokens to the decoder tokens and attend with decoder\n",
    "        decoder_tokens = torch.cat((mask_tokens, decoder_tokens), dim=1)\n",
    "        decoded_tokens = self.decoder(decoder_tokens)\n",
    "        \n",
    "        return decoded_tokens"
   ]
  },
  {
   "cell_type": "code",
   "execution_count": 16,
   "id": "55a45310",
   "metadata": {},
   "outputs": [],
   "source": [
    "mae_encoder = torch.load('best_local_encoder+partdec.pt')\n",
    "mae_encoder.eval();"
   ]
  },
  {
   "cell_type": "code",
   "execution_count": 17,
   "id": "8c8780d1",
   "metadata": {},
   "outputs": [],
   "source": [
    "class MAE_encoder_dec(nn.Module):\n",
    "    def __init__(self, input_dim, out_dim, classes, mae_encoder):\n",
    "        super(MAE_encoder_dec, self).__init__()\n",
    "        \n",
    "        self.mae_encoder = mae_encoder\n",
    "        \n",
    "        for param in self.mae_encoder.parameters():\n",
    "            param.requires_grad = False\n",
    "\n",
    "        self.embedding = nn.Sequential(\n",
    "            nn.Linear(input_dim, out_dim*5),\n",
    "            nn.ReLU(),\n",
    "            nn.Dropout(p=0.3),\n",
    "            nn.Linear(out_dim*5, out_dim*2),\n",
    "            nn.ReLU(),\n",
    "            nn.Dropout(p=0.3),\n",
    "            nn.Linear(out_dim*2, out_dim)\n",
    "        )\n",
    "        \n",
    "        self.classifier = nn.Linear(out_dim, classes)\n",
    "        self.softmax = nn.Softmax(dim=1)\n",
    "        \n",
    "    def forward(self, x):\n",
    "        embedding = self.mae_encoder(x).flatten(start_dim=1, end_dim=-1)\n",
    "        embedding = self.embedding(embedding)\n",
    "        \n",
    "        return self.softmax(self.classifier(embedding))"
   ]
  },
  {
   "cell_type": "code",
   "execution_count": 18,
   "id": "e97c818d",
   "metadata": {},
   "outputs": [],
   "source": [
    "model = MAE_encoder_dec(50176, 1280, num_classes, mae_encoder)\n",
    "model.to(device)\n",
    "model.train();"
   ]
  },
  {
   "cell_type": "code",
   "execution_count": 20,
   "id": "b56689b1",
   "metadata": {},
   "outputs": [
    {
     "name": "stdout",
     "output_type": "stream",
     "text": [
      "torch.Size([6400, 50176])\n",
      "torch.Size([6400])\n",
      "torch.Size([2560, 6400])\n",
      "torch.Size([2560])\n",
      "torch.Size([1280, 2560])\n",
      "torch.Size([1280])\n",
      "torch.Size([8, 1280])\n",
      "torch.Size([8])\n"
     ]
    }
   ],
   "source": [
    "for i in model.parameters():\n",
    "    if i.requires_grad:\n",
    "        print(i.shape)"
   ]
  },
  {
   "cell_type": "markdown",
   "id": "450a54ab",
   "metadata": {},
   "source": [
    "## Train"
   ]
  },
  {
   "cell_type": "code",
   "execution_count": 23,
   "id": "8eaa5152",
   "metadata": {},
   "outputs": [
    {
     "name": "stderr",
     "output_type": "stream",
     "text": [
      "\u001b[1;38;5;214mCOMET WARNING:\u001b[0m As you are running in a Jupyter environment, you will need to call `experiment.end()` when finished to ensure all metrics and code are logged before exiting.\n",
      "\u001b[1;38;5;39mCOMET INFO:\u001b[0m Couldn't find a Git repository in '/home/hse_student/apsidorova/embedding_models/mae' nor in any parent directory. Set `COMET_GIT_DIRECTORY` if your Git Repository is elsewhere.\n",
      "\u001b[1;38;5;39mCOMET INFO:\u001b[0m Experiment is live on comet.com https://www.comet.com/annanet/abaw6/1a8f677fd4fb424a8261b82a5d77e00e\n",
      "\n"
     ]
    }
   ],
   "source": [
    "experiment = Experiment(\n",
    "  api_key=\"XhQqrLR91F7zW3AZ7LgVT3zp2\",\n",
    "  project_name=\"abaw6\",\n",
    "  workspace=\"annanet\"\n",
    ")\n",
    "\n",
    "experiment.set_name('MAE finetune enc_dec')\n",
    "experiment.add_tags(['Aff-Wild'])"
   ]
  },
  {
   "cell_type": "code",
   "execution_count": 24,
   "id": "082c96c5",
   "metadata": {},
   "outputs": [],
   "source": [
    "hyperparams = {\n",
    "    'epochs': 10,\n",
    "    'optimizer': 'Adam',\n",
    "    'loss': 'categorical_crossentropy',\n",
    "    'lr': 1.5e-5,\n",
    "    'batch': 256\n",
    "}"
   ]
  },
  {
   "cell_type": "code",
   "execution_count": 25,
   "id": "727a4530",
   "metadata": {},
   "outputs": [],
   "source": [
    "experiment.log_parameters(hyperparams)"
   ]
  },
  {
   "cell_type": "code",
   "execution_count": 26,
   "id": "4419d87d",
   "metadata": {},
   "outputs": [],
   "source": [
    "loss_fn = nn.CrossEntropyLoss(weight=torch.Tensor(cw))\n",
    "optimizer = optim.Adam(model.parameters(), lr=hyperparams['lr'])\n",
    "\n",
    "best_model_params = deepcopy(model.state_dict())\n",
    "\n",
    "best_vloss = 0"
   ]
  },
  {
   "cell_type": "code",
   "execution_count": 27,
   "id": "c09affb0",
   "metadata": {},
   "outputs": [],
   "source": [
    "scheduler = torch.optim.lr_scheduler.ExponentialLR(optimizer, 0.95)"
   ]
  },
  {
   "cell_type": "code",
   "execution_count": null,
   "id": "d7e78c6e",
   "metadata": {
    "scrolled": true
   },
   "outputs": [],
   "source": [
    "global_best_loss = 10\n",
    "\n",
    "for epoch in range(11, 1_000):\n",
    "    print('\\nEPOCH {}:'.format(epoch))\n",
    "    model.train()\n",
    "\n",
    "    print('Start train')\n",
    "    for idx, path in tqdm(enumerate(trainp_loader), total=len(trainp_loader)):\n",
    "        # put images into device\n",
    "        tensor, y = get_images(transform, names_train[path], y_train[path])\n",
    "\n",
    "        if tensor==[]:\n",
    "            print('Do not find images')\n",
    "            continue\n",
    "\n",
    "        tensor = tensor.to(device)\n",
    "        # forward\n",
    "        output = model(tensor).cpu()\n",
    "        loss = loss_fn(output, y)\n",
    "\n",
    "        experiment.log_metric('current loss train', loss.to('cpu').item(), \n",
    "                              step=(epoch-1)*len(trainp_loader) + idx)\n",
    "        # back propagation\n",
    "        optimizer.zero_grad()\n",
    "        loss.backward()\n",
    "        # record\n",
    "        losses.append(loss.to('cpu').item())\n",
    "        del tensor\n",
    "        del y\n",
    "        del loss\n",
    "        del path\n",
    "        gc.collect()\n",
    "        torch.cuda.empty_cache()\n",
    "\n",
    "        optimizer.step()\n",
    "        torch.cuda.empty_cache()\n",
    "\n",
    "        if (idx%230)==0:\n",
    "            model.eval()\n",
    "\n",
    "            losses_val = []\n",
    "            print('Val part')\n",
    "\n",
    "            for path in tqdm(valp_loader, total=len(valp_loader)):\n",
    "                tensor, y = get_images(transform, names_val[path], y_val[path])\n",
    "                if tensor==[]:\n",
    "                    print('Do not find images')\n",
    "                    continue\n",
    "                tensor = tensor.to(device)\n",
    "                # forward\n",
    "                output = model(tensor).cpu()\n",
    "                loss = loss_fn(output, y)\n",
    "                # record\n",
    "                losses_val.append(loss.to('cpu').item())\n",
    "                del tensor\n",
    "                del y\n",
    "                del loss\n",
    "                del path\n",
    "                gc.collect()\n",
    "                torch.cuda.empty_cache()\n",
    "\n",
    "            val_loss_mean = np.mean(losses_val)\n",
    "            experiment.log_metric('avg loss val', val_loss_mean, \n",
    "                                  step=(epoch-1)*len(trainp_loader) + idx)\n",
    "            print(f'Current Validation loss is {val_loss_mean}')\n",
    "            if global_best_loss > val_loss_mean:\n",
    "                global_best_loss = val_loss_mean\n",
    "                best_model_params = deepcopy(model.state_dict())\n",
    "                \n",
    "                print('New Best Validation loss')\n",
    "\n",
    "            model.train()\n",
    "\n",
    "        train_loss_mean = np.mean(losses)\n",
    "        experiment.log_metric('avg loss train', train_loss_mean, \n",
    "                              step=(epoch-1)*len(trainp_loader) + idx)\n",
    "        print(f'Current Train average loss is {train_loss_mean}')\n",
    "\n",
    "    scheduler.step()"
   ]
  },
  {
   "cell_type": "markdown",
   "id": "f6db0aaa",
   "metadata": {},
   "source": [
    "## Test"
   ]
  },
  {
   "cell_type": "code",
   "execution_count": null,
   "id": "13c3fc40",
   "metadata": {
    "scrolled": true
   },
   "outputs": [],
   "source": [
    "model.load_state_dict(best_model_params)\n",
    "pred_labels_val, labels_val = [], []\n",
    "\n",
    "model.eval()\n",
    "with torch.no_grad():\n",
    "    for path in tqdm(valp_loader, total=len(valp_loader)):\n",
    "        tensor, y = get_images(transform, names_val[path], y_val[path])\n",
    "        if tensor==[]:\n",
    "            print('Do not find images')\n",
    "            continue\n",
    "        tensor = tensor.to(device)\n",
    "        # forward\n",
    "        output = model(tensor).cpu()\n",
    "\n",
    "        _, predicted = torch.max(output.data, 1)\n",
    "        pred_labels_val += predicted.tolist()\n",
    "        labels_val += y.tolist()"
   ]
  },
  {
   "cell_type": "code",
   "execution_count": 39,
   "id": "7006a4db",
   "metadata": {},
   "outputs": [],
   "source": [
    "f1 = f1_score(labels_val,\n",
    "        pred_labels_val,\n",
    "        average='macro')"
   ]
  },
  {
   "cell_type": "code",
   "execution_count": 40,
   "id": "d7ef27f5",
   "metadata": {},
   "outputs": [
    {
     "data": {
      "text/plain": [
       "0.14988029230916575"
      ]
     },
     "execution_count": 40,
     "metadata": {},
     "output_type": "execute_result"
    }
   ],
   "source": [
    "f1"
   ]
  },
  {
   "cell_type": "code",
   "execution_count": 41,
   "id": "1c11396c",
   "metadata": {},
   "outputs": [
    {
     "data": {
      "text/plain": [
       "0.26240308276347724"
      ]
     },
     "execution_count": 41,
     "metadata": {},
     "output_type": "execute_result"
    }
   ],
   "source": [
    "(np.array(labels_val)==np.array(pred_labels_val)).mean()"
   ]
  },
  {
   "cell_type": "code",
   "execution_count": 42,
   "id": "15e4d7fd",
   "metadata": {},
   "outputs": [
    {
     "data": {
      "text/plain": [
       "{'web': 'https://www.comet.com/api/asset/download?assetId=4876eccc7d0e4154a23c381fa967723f&experimentKey=1a8f677fd4fb424a8261b82a5d77e00e',\n",
       " 'api': 'https://www.comet.com/api/rest/v2/experiment/asset/get-asset?assetId=4876eccc7d0e4154a23c381fa967723f&experimentKey=1a8f677fd4fb424a8261b82a5d77e00e',\n",
       " 'assetId': '4876eccc7d0e4154a23c381fa967723f'}"
      ]
     },
     "execution_count": 42,
     "metadata": {},
     "output_type": "execute_result"
    }
   ],
   "source": [
    "experiment.log_confusion_matrix(\n",
    "    np.array(labels_val),np.array(pred_labels_val),\n",
    "    title=\"Confusion Matrix: Evaluation\",\n",
    "    file_name=\"confusion-matrix-eval.json\",\n",
    ")"
   ]
  },
  {
   "cell_type": "code",
   "execution_count": 43,
   "id": "aa882d43",
   "metadata": {},
   "outputs": [
    {
     "name": "stdout",
     "output_type": "stream",
     "text": [
      "(279749,) (279749,) 0.26240308276347724\n"
     ]
    },
    {
     "data": {
      "image/png": "[encoded data removed]",
      "text/plain": [
       "<Figure size 576x576 with 1 Axes>"
      ]
     },
     "metadata": {
      "needs_background": "light"
     },
     "output_type": "display_data"
    }
   ],
   "source": [
    "labels=classes\n",
    "IC = type('IdentityClassifier', (), {\"predict\": lambda i : i, \"_estimator_type\": \"classifier\"})\n",
    "\n",
    "import matplotlib.pyplot as plt\n",
    "from sklearn.metrics import confusion_matrix\n",
    "from sklearn.metrics import ConfusionMatrixDisplay\n",
    "\n",
    "def plt_conf_matrix(y_true,y_pred,labels):\n",
    "    print(y_pred.shape,y_true.shape, (y_pred==y_true).mean())\n",
    "\n",
    "    fig, ax = plt.subplots(figsize=(8, 8))\n",
    "    cm = confusion_matrix(y_true, y_pred)\n",
    "    disp = ConfusionMatrixDisplay(confusion_matrix=cm, display_labels=labels)\n",
    "    disp.plot(ax=ax, cmap='PuRd', colorbar=False)\n",
    "    plt.tight_layout()\n",
    "    plt.show()\n",
    "\n",
    "plt_conf_matrix(np.array(labels_val),np.array(pred_labels_val),labels);"
   ]
  },
  {
   "cell_type": "code",
   "execution_count": 44,
   "id": "6b8d3bc7",
   "metadata": {},
   "outputs": [
    {
     "data": {
      "text/plain": [
       "{'web': 'https://www.comet.com/api/asset/download?assetId=12fbe98448c544ca9644f4a22b111057&experimentKey=1a8f677fd4fb424a8261b82a5d77e00e',\n",
       " 'api': 'https://www.comet.com/api/rest/v2/experiment/asset/get-asset?assetId=12fbe98448c544ca9644f4a22b111057&experimentKey=1a8f677fd4fb424a8261b82a5d77e00e',\n",
       " 'assetId': '12fbe98448c544ca9644f4a22b111057'}"
      ]
     },
     "execution_count": 44,
     "metadata": {},
     "output_type": "execute_result"
    }
   ],
   "source": [
    "torch.save(model.state_dict(), 'mae_enc_dec.pt')\n",
    "experiment.log_model(\"mae_enc_dec.pt\", file_or_folder=\"mae_enc_dec.pt\")"
   ]
  },
  {
   "cell_type": "code",
   "execution_count": 45,
   "id": "16a738ba",
   "metadata": {},
   "outputs": [
    {
     "name": "stderr",
     "output_type": "stream",
     "text": [
      "\u001b[1;38;5;39mCOMET INFO:\u001b[0m ---------------------------------------------------------------------------------------\n",
      "\u001b[1;38;5;39mCOMET INFO:\u001b[0m Comet.ml Experiment Summary\n",
      "\u001b[1;38;5;39mCOMET INFO:\u001b[0m ---------------------------------------------------------------------------------------\n",
      "\u001b[1;38;5;39mCOMET INFO:\u001b[0m   Data:\n",
      "\u001b[1;38;5;39mCOMET INFO:\u001b[0m     display_summary_level : 1\n",
      "\u001b[1;38;5;39mCOMET INFO:\u001b[0m     url                   : https://www.comet.com/annanet/abaw6/1a8f677fd4fb424a8261b82a5d77e00e\n",
      "\u001b[1;38;5;39mCOMET INFO:\u001b[0m   Metrics [count] (min, max):\n",
      "\u001b[1;38;5;39mCOMET INFO:\u001b[0m     avg loss train [40828]     : (1.53829824924469, 2.0800678730010986)\n",
      "\u001b[1;38;5;39mCOMET INFO:\u001b[0m     avg loss val [192]         : (2.006775158590025, 2.099832892310512)\n",
      "\u001b[1;38;5;39mCOMET INFO:\u001b[0m     current loss train [40829] : (1.391303300857544, 2.098865032196045)\n",
      "\u001b[1;38;5;39mCOMET INFO:\u001b[0m     loss [4083]                : (1.422572135925293, 2.07578706741333)\n",
      "\u001b[1;38;5;39mCOMET INFO:\u001b[0m   Others:\n",
      "\u001b[1;38;5;39mCOMET INFO:\u001b[0m     Name : MAE finetune enc_dec\n",
      "\u001b[1;38;5;39mCOMET INFO:\u001b[0m   Parameters:\n",
      "\u001b[1;38;5;39mCOMET INFO:\u001b[0m     batch     : 256\n",
      "\u001b[1;38;5;39mCOMET INFO:\u001b[0m     epochs    : 10\n",
      "\u001b[1;38;5;39mCOMET INFO:\u001b[0m     loss      : categorical_crossentropy\n",
      "\u001b[1;38;5;39mCOMET INFO:\u001b[0m     lr        : 1.5e-05\n",
      "\u001b[1;38;5;39mCOMET INFO:\u001b[0m     optimizer : Adam\n",
      "\u001b[1;38;5;39mCOMET INFO:\u001b[0m   Uploads:\n",
      "\u001b[1;38;5;39mCOMET INFO:\u001b[0m     confusion-matrix    : 1\n",
      "\u001b[1;38;5;39mCOMET INFO:\u001b[0m     environment details : 1\n",
      "\u001b[1;38;5;39mCOMET INFO:\u001b[0m     filename            : 1\n",
      "\u001b[1;38;5;39mCOMET INFO:\u001b[0m     installed packages  : 1\n",
      "\u001b[1;38;5;39mCOMET INFO:\u001b[0m     model-element       : 1 (1.37 GB)\n",
      "\u001b[1;38;5;39mCOMET INFO:\u001b[0m     notebook            : 1\n",
      "\u001b[1;38;5;39mCOMET INFO:\u001b[0m     os packages         : 1\n",
      "\u001b[1;38;5;39mCOMET INFO:\u001b[0m     source_code         : 1\n",
      "\u001b[1;38;5;39mCOMET INFO:\u001b[0m \n",
      "\u001b[1;38;5;39mCOMET INFO:\u001b[0m Please wait for assets to finish uploading (timeout is 10800 seconds)\n",
      "\u001b[1;38;5;39mCOMET INFO:\u001b[0m Still uploading 1 file(s), remaining 1.37 GB/1.37 GB\n",
      "\u001b[1;38;5;39mCOMET INFO:\u001b[0m Still uploading 1 asset(s), remaining 1.37 GB/1.37 GB, Throughput 0 bytes/s, ETA unknown\n",
      "\u001b[1;38;5;39mCOMET INFO:\u001b[0m Still uploading 1 asset(s), remaining 1.36 GB/1.37 GB, Throughput 681.80 KB/s, ETA ~2099s\n",
      "\u001b[1;38;5;39mCOMET INFO:\u001b[0m Still uploading 1 asset(s), remaining 1.35 GB/1.37 GB, Throughput 681.79 KB/s, ETA ~2084s\n",
      "\u001b[1;38;5;39mCOMET INFO:\u001b[0m Still uploading 1 asset(s), remaining 1.34 GB/1.37 GB, Throughput 1022.69 KB/s, ETA ~1375s\n",
      "\u001b[1;38;5;39mCOMET INFO:\u001b[0m Still uploading 1 asset(s), remaining 1.33 GB/1.37 GB, Throughput 681.79 KB/s, ETA ~2047s\n",
      "\u001b[1;38;5;39mCOMET INFO:\u001b[0m Still uploading 1 asset(s), remaining 1.33 GB/1.37 GB, Throughput 340.90 KB/s, ETA ~4078s\n",
      "\u001b[1;38;5;39mCOMET INFO:\u001b[0m Still uploading 1 asset(s), remaining 1.32 GB/1.37 GB, Throughput 681.79 KB/s, ETA ~2024s\n",
      "\u001b[1;38;5;39mCOMET INFO:\u001b[0m Still uploading 1 asset(s), remaining 1.31 GB/1.37 GB, Throughput 681.79 KB/s, ETA ~2009s\n",
      "\u001b[1;38;5;39mCOMET INFO:\u001b[0m Still uploading 1 asset(s), remaining 1.30 GB/1.37 GB, Throughput 681.79 KB/s, ETA ~1994s\n",
      "\u001b[1;38;5;39mCOMET INFO:\u001b[0m Still uploading 1 asset(s), remaining 1.28 GB/1.37 GB, Throughput 1022.70 KB/s, ETA ~1315s\n",
      "\u001b[1;38;5;39mCOMET INFO:\u001b[0m Still uploading 1 asset(s), remaining 1.27 GB/1.37 GB, Throughput 681.78 KB/s, ETA ~1957s\n",
      "\u001b[1;38;5;39mCOMET INFO:\u001b[0m Still uploading 1 asset(s), remaining 1.26 GB/1.37 GB, Throughput 681.78 KB/s, ETA ~1942s\n",
      "\u001b[1;38;5;39mCOMET INFO:\u001b[0m Still uploading 1 asset(s), remaining 1.25 GB/1.37 GB, Throughput 681.79 KB/s, ETA ~1926s\n",
      "\u001b[1;38;5;39mCOMET INFO:\u001b[0m Still uploading 1 asset(s), remaining 1.24 GB/1.37 GB, Throughput 681.72 KB/s, ETA ~1912s\n",
      "\u001b[1;38;5;39mCOMET INFO:\u001b[0m Still uploading 1 asset(s), remaining 1.23 GB/1.37 GB, Throughput 1022.68 KB/s, ETA ~1259s\n",
      "\u001b[1;38;5;39mCOMET INFO:\u001b[0m Still uploading 1 asset(s), remaining 1.22 GB/1.37 GB, Throughput 681.78 KB/s, ETA ~1874s\n",
      "\u001b[1;38;5;39mCOMET INFO:\u001b[0m Still uploading 1 asset(s), remaining 1.21 GB/1.37 GB, Throughput 340.89 KB/s, ETA ~3732s\n",
      "\u001b[1;38;5;39mCOMET INFO:\u001b[0m Still uploading 1 asset(s), remaining 1.19 GB/1.37 GB, Throughput 1.33 MB/s, ETA ~918s\n",
      "\u001b[1;38;5;39mCOMET INFO:\u001b[0m Still uploading 1 asset(s), remaining 1.18 GB/1.37 GB, Throughput 1022.72 KB/s, ETA ~1209s\n",
      "\u001b[1;38;5;39mCOMET INFO:\u001b[0m Still uploading 1 asset(s), remaining 1.17 GB/1.37 GB, Throughput 681.78 KB/s, ETA ~1799s\n",
      "\u001b[1;38;5;39mCOMET INFO:\u001b[0m Still uploading 1 asset(s), remaining 1.16 GB/1.37 GB, Throughput 681.79 KB/s, ETA ~1784s\n",
      "\u001b[1;38;5;39mCOMET INFO:\u001b[0m Still uploading 1 asset(s), remaining 1.15 GB/1.37 GB, Throughput 681.79 KB/s, ETA ~1769s\n",
      "\u001b[1;38;5;39mCOMET INFO:\u001b[0m Still uploading 1 asset(s), remaining 1.14 GB/1.37 GB, Throughput 1022.68 KB/s, ETA ~1164s\n",
      "\u001b[1;38;5;39mCOMET INFO:\u001b[0m Still uploading 1 asset(s), remaining 1.13 GB/1.37 GB, Throughput 681.78 KB/s, ETA ~1731s\n",
      "\u001b[1;38;5;39mCOMET INFO:\u001b[0m Still uploading 1 asset(s), remaining 1.12 GB/1.37 GB, Throughput 681.79 KB/s, ETA ~1716s\n",
      "\u001b[1;38;5;39mCOMET INFO:\u001b[0m Still uploading 1 asset(s), remaining 1.11 GB/1.37 GB, Throughput 681.79 KB/s, ETA ~1701s\n",
      "\u001b[1;38;5;39mCOMET INFO:\u001b[0m Still uploading 1 asset(s), remaining 1.10 GB/1.37 GB, Throughput 681.79 KB/s, ETA ~1686s\n",
      "\u001b[1;38;5;39mCOMET INFO:\u001b[0m Still uploading 1 asset(s), remaining 1.08 GB/1.37 GB, Throughput 1022.68 KB/s, ETA ~1109s\n",
      "\u001b[1;38;5;39mCOMET INFO:\u001b[0m Still uploading 1 asset(s), remaining 1.08 GB/1.37 GB, Throughput 340.89 KB/s, ETA ~3312s\n",
      "\u001b[1;38;5;39mCOMET INFO:\u001b[0m Still uploading 1 asset(s), remaining 1.06 GB/1.37 GB, Throughput 1022.69 KB/s, ETA ~1089s\n",
      "\u001b[1;38;5;39mCOMET INFO:\u001b[0m Still uploading 1 asset(s), remaining 1.06 GB/1.37 GB, Throughput 340.89 KB/s, ETA ~3252s\n",
      "\u001b[1;38;5;39mCOMET INFO:\u001b[0m Still uploading 1 asset(s), remaining 1.04 GB/1.37 GB, Throughput 1022.70 KB/s, ETA ~1069s\n",
      "\u001b[1;38;5;39mCOMET INFO:\u001b[0m Still uploading 1 asset(s), remaining 1.03 GB/1.37 GB, Throughput 1022.70 KB/s, ETA ~1054s\n",
      "\u001b[1;38;5;39mCOMET INFO:\u001b[0m Still uploading 1 asset(s), remaining 1.02 GB/1.37 GB, Throughput 681.80 KB/s, ETA ~1566s\n",
      "\u001b[1;38;5;39mCOMET INFO:\u001b[0m Still uploading 1 asset(s), remaining 1.00 GB/1.37 GB, Throughput 1022.69 KB/s, ETA ~1029s\n",
      "\u001b[1;38;5;39mCOMET INFO:\u001b[0m Still uploading 1 asset(s), remaining 1017.34 MB/1.37 GB, Throughput 681.79 KB/s, ETA ~1528s\n",
      "\u001b[1;38;5;39mCOMET INFO:\u001b[0m Still uploading 1 asset(s), remaining 1007.34 MB/1.37 GB, Throughput 681.79 KB/s, ETA ~1513s\n",
      "\u001b[1;38;5;39mCOMET INFO:\u001b[0m Still uploading 1 asset(s), remaining 997.34 MB/1.37 GB, Throughput 681.80 KB/s, ETA ~1498s\n",
      "\u001b[1;38;5;39mCOMET INFO:\u001b[0m Still uploading 1 asset(s), remaining 982.34 MB/1.37 GB, Throughput 1022.68 KB/s, ETA ~984s\n",
      "\u001b[1;38;5;39mCOMET INFO:\u001b[0m Still uploading 1 asset(s), remaining 972.34 MB/1.37 GB, Throughput 681.80 KB/s, ETA ~1461s\n",
      "\u001b[1;38;5;39mCOMET INFO:\u001b[0m Still uploading 1 asset(s), remaining 962.34 MB/1.37 GB, Throughput 681.80 KB/s, ETA ~1446s\n",
      "\u001b[1;38;5;39mCOMET INFO:\u001b[0m Still uploading 1 asset(s), remaining 952.34 MB/1.37 GB, Throughput 681.80 KB/s, ETA ~1431s\n",
      "\u001b[1;38;5;39mCOMET INFO:\u001b[0m Still uploading 1 asset(s), remaining 942.34 MB/1.37 GB, Throughput 681.79 KB/s, ETA ~1416s\n",
      "\u001b[1;38;5;39mCOMET INFO:\u001b[0m Still uploading 1 asset(s), remaining 932.34 MB/1.37 GB, Throughput 681.79 KB/s, ETA ~1401s\n",
      "\u001b[1;38;5;39mCOMET INFO:\u001b[0m Still uploading 1 asset(s), remaining 917.34 MB/1.37 GB, Throughput 1022.71 KB/s, ETA ~919s\n",
      "\u001b[1;38;5;39mCOMET INFO:\u001b[0m Still uploading 1 asset(s), remaining 912.34 MB/1.37 GB, Throughput 340.99 KB/s, ETA ~2740s\n",
      "\u001b[1;38;5;39mCOMET INFO:\u001b[0m Still uploading 1 asset(s), remaining 902.34 MB/1.37 GB, Throughput 681.94 KB/s, ETA ~1355s\n",
      "\u001b[1;38;5;39mCOMET INFO:\u001b[0m Still uploading 1 asset(s), remaining 892.34 MB/1.37 GB, Throughput 681.94 KB/s, ETA ~1340s\n",
      "\u001b[1;38;5;39mCOMET INFO:\u001b[0m Still uploading 1 asset(s), remaining 872.34 MB/1.37 GB, Throughput 1.33 MB/s, ETA ~655s\n",
      "\u001b[1;38;5;39mCOMET INFO:\u001b[0m Still uploading 1 asset(s), remaining 857.34 MB/1.37 GB, Throughput 1022.91 KB/s, ETA ~859s\n",
      "\u001b[1;38;5;39mCOMET INFO:\u001b[0m Still uploading 1 asset(s), remaining 847.34 MB/1.37 GB, Throughput 681.94 KB/s, ETA ~1273s\n",
      "\u001b[1;38;5;39mCOMET INFO:\u001b[0m Still uploading 1 asset(s), remaining 842.34 MB/1.37 GB, Throughput 340.97 KB/s, ETA ~2530s\n"
     ]
    },
    {
     "name": "stderr",
     "output_type": "stream",
     "text": [
      "\u001b[1;38;5;39mCOMET INFO:\u001b[0m Still uploading 1 asset(s), remaining 827.34 MB/1.37 GB, Throughput 1022.91 KB/s, ETA ~829s\n",
      "\u001b[1;38;5;39mCOMET INFO:\u001b[0m Still uploading 1 asset(s), remaining 812.34 MB/1.37 GB, Throughput 1022.91 KB/s, ETA ~814s\n",
      "\u001b[1;38;5;39mCOMET INFO:\u001b[0m Still uploading 1 asset(s), remaining 802.34 MB/1.37 GB, Throughput 681.94 KB/s, ETA ~1205s\n",
      "\u001b[1;38;5;39mCOMET INFO:\u001b[0m Still uploading 1 asset(s), remaining 787.34 MB/1.37 GB, Throughput 1022.91 KB/s, ETA ~789s\n",
      "\u001b[1;38;5;39mCOMET INFO:\u001b[0m Still uploading 1 asset(s), remaining 777.34 MB/1.37 GB, Throughput 681.82 KB/s, ETA ~1168s\n",
      "\u001b[1;38;5;39mCOMET INFO:\u001b[0m Still uploading 1 asset(s), remaining 767.34 MB/1.37 GB, Throughput 681.79 KB/s, ETA ~1153s\n",
      "\u001b[1;38;5;39mCOMET INFO:\u001b[0m Still uploading 1 asset(s), remaining 752.34 MB/1.37 GB, Throughput 1022.68 KB/s, ETA ~754s\n",
      "\u001b[1;38;5;39mCOMET INFO:\u001b[0m Still uploading 1 asset(s), remaining 742.34 MB/1.37 GB, Throughput 681.79 KB/s, ETA ~1115s\n",
      "\u001b[1;38;5;39mCOMET INFO:\u001b[0m Still uploading 1 asset(s), remaining 722.34 MB/1.37 GB, Throughput 1.33 MB/s, ETA ~543s\n",
      "\u001b[1;38;5;39mCOMET INFO:\u001b[0m Still uploading 1 asset(s), remaining 712.34 MB/1.37 GB, Throughput 681.80 KB/s, ETA ~1070s\n",
      "\u001b[1;38;5;39mCOMET INFO:\u001b[0m Still uploading 1 asset(s), remaining 697.34 MB/1.37 GB, Throughput 1022.71 KB/s, ETA ~699s\n",
      "\u001b[1;38;5;39mCOMET INFO:\u001b[0m Still uploading 1 asset(s), remaining 687.34 MB/1.37 GB, Throughput 681.79 KB/s, ETA ~1033s\n",
      "\u001b[1;38;5;39mCOMET INFO:\u001b[0m Still uploading 1 asset(s), remaining 687.34 MB/1.37 GB, Throughput 0 bytes/s, ETA unknown\n",
      "\u001b[1;38;5;39mCOMET INFO:\u001b[0m Still uploading 1 asset(s), remaining 687.34 MB/1.37 GB, Throughput 0 bytes/s, ETA unknown\n",
      "\u001b[1;38;5;39mCOMET INFO:\u001b[0m Still uploading 1 asset(s), remaining 687.34 MB/1.37 GB, Throughput 0 bytes/s, ETA unknown\n",
      "\u001b[1;38;5;39mCOMET INFO:\u001b[0m Still uploading 1 asset(s), remaining 687.34 MB/1.37 GB, Throughput 0 bytes/s, ETA unknown\n",
      "\u001b[1;38;5;39mCOMET INFO:\u001b[0m Still uploading 1 asset(s), remaining 687.34 MB/1.37 GB, Throughput 0 bytes/s, ETA unknown\n",
      "\u001b[1;38;5;39mCOMET INFO:\u001b[0m Still uploading 1 asset(s), remaining 687.34 MB/1.37 GB, Throughput 0 bytes/s, ETA unknown\n",
      "\u001b[1;38;5;39mCOMET INFO:\u001b[0m Still uploading 1 asset(s), remaining 687.34 MB/1.37 GB, Throughput 0 bytes/s, ETA unknown\n",
      "\u001b[1;38;5;39mCOMET INFO:\u001b[0m Still uploading 1 asset(s), remaining 687.34 MB/1.37 GB, Throughput 0 bytes/s, ETA unknown\n",
      "\u001b[1;38;5;39mCOMET INFO:\u001b[0m Still uploading 1 asset(s), remaining 687.34 MB/1.37 GB, Throughput 0 bytes/s, ETA unknown\n",
      "\u001b[1;38;5;39mCOMET INFO:\u001b[0m Still uploading 1 asset(s), remaining 687.34 MB/1.37 GB, Throughput 0 bytes/s, ETA unknown\n",
      "\u001b[1;38;5;39mCOMET INFO:\u001b[0m Still uploading 1 asset(s), remaining 687.34 MB/1.37 GB, Throughput 0 bytes/s, ETA unknown\n",
      "\u001b[1;38;5;39mCOMET INFO:\u001b[0m Still uploading 1 asset(s), remaining 687.34 MB/1.37 GB, Throughput 0 bytes/s, ETA unknown\n",
      "\u001b[1;38;5;39mCOMET INFO:\u001b[0m Still uploading 1 asset(s), remaining 687.34 MB/1.37 GB, Throughput 0 bytes/s, ETA unknown\n",
      "\u001b[1;38;5;39mCOMET INFO:\u001b[0m Still uploading 1 asset(s), remaining 687.34 MB/1.37 GB, Throughput 0 bytes/s, ETA unknown\n",
      "\u001b[1;38;5;39mCOMET INFO:\u001b[0m Still uploading 1 asset(s), remaining 687.34 MB/1.37 GB, Throughput 0 bytes/s, ETA unknown\n",
      "\u001b[1;38;5;39mCOMET INFO:\u001b[0m Still uploading 1 asset(s), remaining 687.34 MB/1.37 GB, Throughput 0 bytes/s, ETA unknown\n",
      "\u001b[1;38;5;39mCOMET INFO:\u001b[0m Still uploading 1 asset(s), remaining 687.34 MB/1.37 GB, Throughput 0 bytes/s, ETA unknown\n",
      "\u001b[1;38;5;39mCOMET INFO:\u001b[0m Still uploading 1 asset(s), remaining 687.34 MB/1.37 GB, Throughput 0 bytes/s, ETA unknown\n",
      "\u001b[1;38;5;39mCOMET INFO:\u001b[0m Still uploading 1 asset(s), remaining 687.34 MB/1.37 GB, Throughput 0 bytes/s, ETA unknown\n",
      "\u001b[1;38;5;39mCOMET INFO:\u001b[0m Still uploading 1 asset(s), remaining 687.34 MB/1.37 GB, Throughput 0 bytes/s, ETA unknown\n",
      "\u001b[1;38;5;39mCOMET INFO:\u001b[0m Still uploading 1 asset(s), remaining 687.34 MB/1.37 GB, Throughput 0 bytes/s, ETA unknown\n",
      "\u001b[1;38;5;39mCOMET INFO:\u001b[0m Still uploading 1 asset(s), remaining 687.34 MB/1.37 GB, Throughput 0 bytes/s, ETA unknown\n",
      "\u001b[1;38;5;39mCOMET INFO:\u001b[0m Still uploading 1 asset(s), remaining 687.34 MB/1.37 GB, Throughput 0 bytes/s, ETA unknown\n",
      "\u001b[1;38;5;39mCOMET INFO:\u001b[0m Still uploading 1 asset(s), remaining 687.34 MB/1.37 GB, Throughput 0 bytes/s, ETA unknown\n",
      "\u001b[1;38;5;39mCOMET INFO:\u001b[0m Still uploading 1 asset(s), remaining 687.34 MB/1.37 GB, Throughput 0 bytes/s, ETA unknown\n",
      "\u001b[1;38;5;39mCOMET INFO:\u001b[0m Still uploading 1 asset(s), remaining 687.34 MB/1.37 GB, Throughput 0 bytes/s, ETA unknown\n",
      "\u001b[1;38;5;39mCOMET INFO:\u001b[0m Still uploading 1 asset(s), remaining 687.34 MB/1.37 GB, Throughput 0 bytes/s, ETA unknown\n",
      "\u001b[1;38;5;39mCOMET INFO:\u001b[0m Still uploading 1 asset(s), remaining 687.34 MB/1.37 GB, Throughput 0 bytes/s, ETA unknown\n",
      "\u001b[1;38;5;39mCOMET INFO:\u001b[0m Still uploading 1 asset(s), remaining 687.34 MB/1.37 GB, Throughput 0 bytes/s, ETA unknown\n",
      "\u001b[1;38;5;39mCOMET INFO:\u001b[0m Still uploading 1 asset(s), remaining 687.34 MB/1.37 GB, Throughput 0 bytes/s, ETA unknown\n",
      "\u001b[1;38;5;39mCOMET INFO:\u001b[0m Still uploading 1 asset(s), remaining 687.34 MB/1.37 GB, Throughput 0 bytes/s, ETA unknown\n",
      "\u001b[1;38;5;39mCOMET INFO:\u001b[0m Still uploading 1 asset(s), remaining 687.34 MB/1.37 GB, Throughput 0 bytes/s, ETA unknown\n",
      "\u001b[1;38;5;39mCOMET INFO:\u001b[0m Still uploading 1 asset(s), remaining 687.34 MB/1.37 GB, Throughput 0 bytes/s, ETA unknown\n",
      "\u001b[1;38;5;39mCOMET INFO:\u001b[0m Still uploading 1 asset(s), remaining 687.34 MB/1.37 GB, Throughput 0 bytes/s, ETA unknown\n",
      "\u001b[1;38;5;39mCOMET INFO:\u001b[0m Still uploading 1 asset(s), remaining 687.34 MB/1.37 GB, Throughput 0 bytes/s, ETA unknown\n",
      "\u001b[1;38;5;39mCOMET INFO:\u001b[0m Still uploading 1 asset(s), remaining 687.34 MB/1.37 GB, Throughput 0 bytes/s, ETA unknown\n",
      "\u001b[1;38;5;39mCOMET INFO:\u001b[0m Still uploading 1 asset(s), remaining 687.34 MB/1.37 GB, Throughput 0 bytes/s, ETA unknown\n",
      "\u001b[1;38;5;39mCOMET INFO:\u001b[0m Still uploading 1 asset(s), remaining 687.34 MB/1.37 GB, Throughput 0 bytes/s, ETA unknown\n",
      "\u001b[1;38;5;39mCOMET INFO:\u001b[0m Still uploading 1 asset(s), remaining 687.34 MB/1.37 GB, Throughput 0 bytes/s, ETA unknown\n",
      "\u001b[1;38;5;39mCOMET INFO:\u001b[0m Still uploading 1 asset(s), remaining 687.34 MB/1.37 GB, Throughput 0 bytes/s, ETA unknown\n",
      "\u001b[1;38;5;39mCOMET INFO:\u001b[0m Still uploading 1 asset(s), remaining 687.34 MB/1.37 GB, Throughput 0 bytes/s, ETA unknown\n",
      "\u001b[1;38;5;39mCOMET INFO:\u001b[0m Still uploading 1 asset(s), remaining 687.34 MB/1.37 GB, Throughput 0 bytes/s, ETA unknown\n",
      "\u001b[1;38;5;39mCOMET INFO:\u001b[0m Still uploading 1 asset(s), remaining 687.34 MB/1.37 GB, Throughput 0 bytes/s, ETA unknown\n",
      "\u001b[1;38;5;39mCOMET INFO:\u001b[0m Still uploading 1 asset(s), remaining 687.34 MB/1.37 GB, Throughput 0 bytes/s, ETA unknown\n",
      "\u001b[1;38;5;39mCOMET INFO:\u001b[0m Still uploading 1 asset(s), remaining 687.34 MB/1.37 GB, Throughput 0 bytes/s, ETA unknown\n",
      "\u001b[1;38;5;39mCOMET INFO:\u001b[0m Still uploading 1 asset(s), remaining 687.34 MB/1.37 GB, Throughput 0 bytes/s, ETA unknown\n",
      "\u001b[1;38;5;39mCOMET INFO:\u001b[0m Still uploading 1 asset(s), remaining 687.34 MB/1.37 GB, Throughput 0 bytes/s, ETA unknown\n",
      "\u001b[1;38;5;39mCOMET INFO:\u001b[0m Still uploading 1 asset(s), remaining 687.34 MB/1.37 GB, Throughput 0 bytes/s, ETA unknown\n",
      "\u001b[1;38;5;39mCOMET INFO:\u001b[0m Still uploading 1 asset(s), remaining 687.34 MB/1.37 GB, Throughput 0 bytes/s, ETA unknown\n",
      "\u001b[1;38;5;39mCOMET INFO:\u001b[0m Still uploading 1 asset(s), remaining 687.34 MB/1.37 GB, Throughput 0 bytes/s, ETA unknown\n",
      "\u001b[1;38;5;39mCOMET INFO:\u001b[0m Still uploading 1 asset(s), remaining 687.34 MB/1.37 GB, Throughput 0 bytes/s, ETA unknown\n",
      "\u001b[1;38;5;39mCOMET INFO:\u001b[0m Still uploading 1 asset(s), remaining 687.34 MB/1.37 GB, Throughput 0 bytes/s, ETA unknown\n",
      "\u001b[1;38;5;39mCOMET INFO:\u001b[0m Still uploading 1 asset(s), remaining 687.34 MB/1.37 GB, Throughput 0 bytes/s, ETA unknown\n",
      "\u001b[1;38;5;39mCOMET INFO:\u001b[0m Still uploading 1 asset(s), remaining 687.34 MB/1.37 GB, Throughput 0 bytes/s, ETA unknown\n",
      "\u001b[1;38;5;39mCOMET INFO:\u001b[0m Still uploading 1 asset(s), remaining 687.34 MB/1.37 GB, Throughput 0 bytes/s, ETA unknown\n",
      "\u001b[1;38;5;39mCOMET INFO:\u001b[0m Still uploading 1 asset(s), remaining 687.34 MB/1.37 GB, Throughput 0 bytes/s, ETA unknown\n",
      "\u001b[1;38;5;39mCOMET INFO:\u001b[0m Still uploading 1 asset(s), remaining 687.34 MB/1.37 GB, Throughput 0 bytes/s, ETA unknown\n"
     ]
    },
    {
     "name": "stderr",
     "output_type": "stream",
     "text": [
      "\u001b[1;38;5;39mCOMET INFO:\u001b[0m Still uploading 1 asset(s), remaining 687.34 MB/1.37 GB, Throughput 0 bytes/s, ETA unknown\n",
      "\u001b[1;38;5;39mCOMET INFO:\u001b[0m Still uploading 1 asset(s), remaining 687.34 MB/1.37 GB, Throughput 0 bytes/s, ETA unknown\n",
      "\u001b[1;38;5;39mCOMET INFO:\u001b[0m Still uploading 1 asset(s), remaining 687.34 MB/1.37 GB, Throughput 0 bytes/s, ETA unknown\n",
      "\u001b[1;38;5;39mCOMET INFO:\u001b[0m Still uploading 1 asset(s), remaining 687.34 MB/1.37 GB, Throughput 0 bytes/s, ETA unknown\n",
      "\u001b[1;38;5;39mCOMET INFO:\u001b[0m Still uploading 1 asset(s), remaining 682.34 MB/1.37 GB, Throughput 340.97 KB/s, ETA ~2050s\n",
      "\u001b[1;38;5;39mCOMET INFO:\u001b[0m Still uploading 1 asset(s), remaining 667.34 MB/1.37 GB, Throughput 1022.91 KB/s, ETA ~669s\n",
      "\u001b[1;38;5;39mCOMET INFO:\u001b[0m Still uploading 1 asset(s), remaining 652.34 MB/1.37 GB, Throughput 1022.91 KB/s, ETA ~654s\n",
      "\u001b[1;38;5;39mCOMET INFO:\u001b[0m Still uploading 1 asset(s), remaining 637.34 MB/1.37 GB, Throughput 1022.91 KB/s, ETA ~639s\n",
      "\u001b[1;38;5;39mCOMET INFO:\u001b[0m Still uploading 1 asset(s), remaining 627.34 MB/1.37 GB, Throughput 681.94 KB/s, ETA ~943s\n",
      "\u001b[1;38;5;39mCOMET INFO:\u001b[0m Still uploading 1 asset(s), remaining 612.34 MB/1.37 GB, Throughput 1022.82 KB/s, ETA ~614s\n",
      "\u001b[1;38;5;39mCOMET INFO:\u001b[0m Still uploading 1 asset(s), remaining 602.34 MB/1.37 GB, Throughput 681.79 KB/s, ETA ~905s\n",
      "\u001b[1;38;5;39mCOMET INFO:\u001b[0m Still uploading 1 asset(s), remaining 587.34 MB/1.37 GB, Throughput 1022.65 KB/s, ETA ~589s\n",
      "\u001b[1;38;5;39mCOMET INFO:\u001b[0m Still uploading 1 asset(s), remaining 577.34 MB/1.37 GB, Throughput 681.78 KB/s, ETA ~868s\n",
      "\u001b[1;38;5;39mCOMET INFO:\u001b[0m Still uploading 1 asset(s), remaining 567.34 MB/1.37 GB, Throughput 681.79 KB/s, ETA ~853s\n",
      "\u001b[1;38;5;39mCOMET INFO:\u001b[0m Still uploading 1 asset(s), remaining 552.34 MB/1.37 GB, Throughput 1022.83 KB/s, ETA ~553s\n",
      "\u001b[1;38;5;39mCOMET INFO:\u001b[0m Still uploading 1 asset(s), remaining 542.34 MB/1.37 GB, Throughput 681.79 KB/s, ETA ~815s\n",
      "\u001b[1;38;5;39mCOMET INFO:\u001b[0m Still uploading 1 asset(s), remaining 527.34 MB/1.37 GB, Throughput 1022.68 KB/s, ETA ~529s\n",
      "\u001b[1;38;5;39mCOMET INFO:\u001b[0m Still uploading 1 asset(s), remaining 517.34 MB/1.37 GB, Throughput 681.80 KB/s, ETA ~777s\n",
      "\u001b[1;38;5;39mCOMET INFO:\u001b[0m Still uploading 1 asset(s), remaining 502.34 MB/1.37 GB, Throughput 1022.69 KB/s, ETA ~503s\n",
      "\u001b[1;38;5;39mCOMET INFO:\u001b[0m Still uploading 1 asset(s), remaining 487.34 MB/1.37 GB, Throughput 1022.69 KB/s, ETA ~488s\n",
      "\u001b[1;38;5;39mCOMET INFO:\u001b[0m Still uploading 1 asset(s), remaining 467.34 MB/1.37 GB, Throughput 1.33 MB/s, ETA ~351s\n",
      "\u001b[1;38;5;39mCOMET INFO:\u001b[0m Still uploading 1 asset(s), remaining 457.34 MB/1.37 GB, Throughput 681.79 KB/s, ETA ~687s\n",
      "\u001b[1;38;5;39mCOMET INFO:\u001b[0m Still uploading 1 asset(s), remaining 447.34 MB/1.37 GB, Throughput 681.79 KB/s, ETA ~672s\n",
      "\u001b[1;38;5;39mCOMET INFO:\u001b[0m Still uploading 1 asset(s), remaining 432.34 MB/1.37 GB, Throughput 1022.69 KB/s, ETA ~433s\n",
      "\u001b[1;38;5;39mCOMET INFO:\u001b[0m Still uploading 1 asset(s), remaining 417.34 MB/1.37 GB, Throughput 1022.69 KB/s, ETA ~418s\n",
      "\u001b[1;38;5;39mCOMET INFO:\u001b[0m Still uploading 1 asset(s), remaining 397.34 MB/1.37 GB, Throughput 1.33 MB/s, ETA ~299s\n",
      "\u001b[1;38;5;39mCOMET INFO:\u001b[0m Still uploading 1 asset(s), remaining 382.34 MB/1.37 GB, Throughput 1022.69 KB/s, ETA ~383s\n",
      "\u001b[1;38;5;39mCOMET INFO:\u001b[0m Still uploading 1 asset(s), remaining 362.34 MB/1.37 GB, Throughput 1.33 MB/s, ETA ~273s\n",
      "\u001b[1;38;5;39mCOMET INFO:\u001b[0m Still uploading 1 asset(s), remaining 347.34 MB/1.37 GB, Throughput 1022.71 KB/s, ETA ~348s\n",
      "\u001b[1;38;5;39mCOMET INFO:\u001b[0m Still uploading 1 asset(s), remaining 332.34 MB/1.37 GB, Throughput 1022.71 KB/s, ETA ~333s\n",
      "\u001b[1;38;5;39mCOMET INFO:\u001b[0m Still uploading 1 asset(s), remaining 322.34 MB/1.37 GB, Throughput 681.82 KB/s, ETA ~485s\n",
      "\u001b[1;38;5;39mCOMET INFO:\u001b[0m Still uploading 1 asset(s), remaining 307.34 MB/1.37 GB, Throughput 1022.72 KB/s, ETA ~308s\n",
      "\u001b[1;38;5;39mCOMET INFO:\u001b[0m Still uploading 1 asset(s), remaining 297.34 MB/1.37 GB, Throughput 681.82 KB/s, ETA ~447s\n",
      "\u001b[1;38;5;39mCOMET INFO:\u001b[0m Still uploading 1 asset(s), remaining 282.34 MB/1.37 GB, Throughput 1022.70 KB/s, ETA ~283s\n",
      "\u001b[1;38;5;39mCOMET INFO:\u001b[0m Still uploading 1 asset(s), remaining 272.34 MB/1.37 GB, Throughput 681.78 KB/s, ETA ~410s\n",
      "\u001b[1;38;5;39mCOMET INFO:\u001b[0m Still uploading 1 asset(s), remaining 257.34 MB/1.37 GB, Throughput 1022.70 KB/s, ETA ~258s\n",
      "\u001b[1;38;5;39mCOMET INFO:\u001b[0m Still uploading 1 asset(s), remaining 242.34 MB/1.37 GB, Throughput 1022.70 KB/s, ETA ~243s\n",
      "\u001b[1;38;5;39mCOMET INFO:\u001b[0m Still uploading 1 asset(s), remaining 232.34 MB/1.37 GB, Throughput 681.89 KB/s, ETA ~349s\n",
      "\u001b[1;38;5;39mCOMET INFO:\u001b[0m Still uploading 1 asset(s), remaining 217.34 MB/1.37 GB, Throughput 1022.91 KB/s, ETA ~218s\n",
      "\u001b[1;38;5;39mCOMET INFO:\u001b[0m Still uploading 1 asset(s), remaining 202.34 MB/1.37 GB, Throughput 1022.82 KB/s, ETA ~203s\n",
      "\u001b[1;38;5;39mCOMET INFO:\u001b[0m Still uploading 1 asset(s), remaining 192.34 MB/1.37 GB, Throughput 681.79 KB/s, ETA ~289s\n",
      "\u001b[1;38;5;39mCOMET INFO:\u001b[0m Still uploading 1 asset(s), remaining 182.34 MB/1.37 GB, Throughput 681.85 KB/s, ETA ~274s\n",
      "\u001b[1;38;5;39mCOMET INFO:\u001b[0m Still uploading 1 asset(s), remaining 167.34 MB/1.37 GB, Throughput 1022.69 KB/s, ETA ~168s\n",
      "\u001b[1;38;5;39mCOMET INFO:\u001b[0m Still uploading 1 asset(s), remaining 157.34 MB/1.37 GB, Throughput 681.80 KB/s, ETA ~237s\n",
      "\u001b[1;38;5;39mCOMET INFO:\u001b[0m Still uploading 1 asset(s), remaining 142.34 MB/1.37 GB, Throughput 1022.69 KB/s, ETA ~143s\n",
      "\u001b[1;38;5;39mCOMET INFO:\u001b[0m Still uploading 1 asset(s), remaining 127.34 MB/1.37 GB, Throughput 1022.69 KB/s, ETA ~128s\n",
      "\u001b[1;38;5;39mCOMET INFO:\u001b[0m Still uploading 1 asset(s), remaining 117.34 MB/1.37 GB, Throughput 681.79 KB/s, ETA ~177s\n",
      "\u001b[1;38;5;39mCOMET INFO:\u001b[0m Still uploading 1 asset(s), remaining 102.34 MB/1.37 GB, Throughput 1022.69 KB/s, ETA ~103s\n",
      "\u001b[1;38;5;39mCOMET INFO:\u001b[0m Still uploading 1 asset(s), remaining 87.34 MB/1.37 GB, Throughput 1022.70 KB/s, ETA ~88s\n",
      "\u001b[1;38;5;39mCOMET INFO:\u001b[0m Still uploading 1 asset(s), remaining 77.34 MB/1.37 GB, Throughput 681.79 KB/s, ETA ~117s\n",
      "\u001b[1;38;5;39mCOMET INFO:\u001b[0m Still uploading 1 asset(s), remaining 62.34 MB/1.37 GB, Throughput 1022.70 KB/s, ETA ~63s\n",
      "\u001b[1;38;5;39mCOMET INFO:\u001b[0m Still uploading 1 asset(s), remaining 42.34 MB/1.37 GB, Throughput 1.33 MB/s, ETA ~32s\n",
      "\u001b[1;38;5;39mCOMET INFO:\u001b[0m Still uploading 1 asset(s), remaining 27.34 MB/1.37 GB, Throughput 1022.69 KB/s, ETA ~28s\n",
      "\u001b[1;38;5;39mCOMET INFO:\u001b[0m Still uploading 1 asset(s), remaining 17.34 MB/1.37 GB, Throughput 681.80 KB/s, ETA ~27s\n",
      "\u001b[1;38;5;39mCOMET INFO:\u001b[0m Still uploading 1 asset(s), remaining 2.34 MB/1.37 GB, Throughput 1022.70 KB/s, ETA ~3s\n"
     ]
    }
   ],
   "source": [
    "experiment.end()"
   ]
  },
  {
   "cell_type": "code",
   "execution_count": null,
   "id": "63f2c460",
   "metadata": {},
   "outputs": [],
   "source": []
  }
 ],
 "metadata": {
  "kernelspec": {
   "display_name": "Python 3 (ipykernel)",
   "language": "python",
   "name": "python3"
  },
  "language_info": {
   "codemirror_mode": {
    "name": "ipython",
    "version": 3
   },
   "file_extension": ".py",
   "mimetype": "text/x-python",
   "name": "python",
   "nbconvert_exporter": "python",
   "pygments_lexer": "ipython3",
   "version": "3.8.10"
  }
 },
 "nbformat": 4,
 "nbformat_minor": 5
}
