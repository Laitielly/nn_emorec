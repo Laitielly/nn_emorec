{
 "cells": [
  {
   "cell_type": "markdown",
   "id": "19db2e9c",
   "metadata": {},
   "source": [
    "# Imports"
   ]
  },
  {
   "cell_type": "code",
   "execution_count": null,
   "id": "188caa8b",
   "metadata": {},
   "outputs": [],
   "source": [
    "%env CUDA_VISIBLE_DEVICES=1"
   ]
  },
  {
   "cell_type": "code",
   "execution_count": null,
   "id": "8480e2df",
   "metadata": {},
   "outputs": [],
   "source": [
    "from comet_ml import Experiment\n",
    "from comet_ml.integration.pytorch import log_model"
   ]
  },
  {
   "cell_type": "code",
   "execution_count": null,
   "id": "82a730b5",
   "metadata": {},
   "outputs": [],
   "source": [
    "import os\n",
    "import pickle\n",
    "from tqdm.notebook import tqdm\n",
    "from copy import deepcopy\n",
    "\n",
    "from PIL import Image\n",
    "\n",
    "import numpy as np\n",
    "import pandas as pd\n",
    "\n",
    "from sklearn.metrics import f1_score\n",
    "\n",
    "from torchvision import datasets, transforms\n",
    "\n",
    "import gc "
   ]
  },
  {
   "cell_type": "code",
   "execution_count": null,
   "id": "65e18c78",
   "metadata": {},
   "outputs": [],
   "source": [
    "import torch\n",
    "import torch.nn as nn\n",
    "import torch.nn.functional as F\n",
    "import torch.optim as optim\n",
    "from torch.utils.data import DataLoader,Dataset"
   ]
  },
  {
   "cell_type": "code",
   "execution_count": null,
   "id": "d53a5c8e",
   "metadata": {},
   "outputs": [],
   "source": [
    "print(f\"Torch: {torch.__version__}\")\n",
    "device = 'cuda:0' if torch.cuda.is_available() else 'cpu'\n",
    "print(device)"
   ]
  },
  {
   "cell_type": "markdown",
   "id": "fadf7f83",
   "metadata": {},
   "source": [
    "# Expression Recognition Challenge\n",
    "## Get target data"
   ]
  },
  {
   "cell_type": "code",
   "execution_count": 6,
   "id": "cf0849af",
   "metadata": {},
   "outputs": [],
   "source": [
    "idx_to_class_2={0: 'Neutral', 1:'Anger', 2:'Disgust', 3:'Fear', \n",
    "                4:'Happiness', 5:'Sadness', 6:'Surprise', 7:'Other'} #ABAW\n",
    "classes = ['Neutral', 'Anger', 'Disgust', 'Fear', \n",
    "           'Happiness', 'Sadness', 'Surprise', 'Other']"
   ]
  },
  {
   "cell_type": "code",
   "execution_count": 7,
   "id": "ca0cc998",
   "metadata": {},
   "outputs": [],
   "source": [
    "IMG_SIZE=224\n",
    "transform = transforms.Compose(\n",
    "    [\n",
    "        transforms.Resize((IMG_SIZE,IMG_SIZE)),\n",
    "        transforms.ToTensor(),\n",
    "        transforms.Normalize(mean=[0.533, 0.425, 0.374],\n",
    "                             std=[0.244, 0.214, 0.202])\n",
    "    ]\n",
    ")"
   ]
  },
  {
   "cell_type": "code",
   "execution_count": 8,
   "id": "54f32909",
   "metadata": {},
   "outputs": [
    {
     "name": "stdout",
     "output_type": "stream",
     "text": [
      "597361 597361 0\n",
      "284230 284230 0\n"
     ]
    }
   ],
   "source": [
    "DATA_DIR = '/home/HDD6TB/datasets/emotions/ABAW/ABAW_6/6th_ABAW_Annotations'\n",
    "data_dir = '/home/HDD6TB/datasets/emotions/ABAW/ABAW_6/6th_ABAW_Annotations/cropped_aligned/cropped_aligned/'\n",
    "\n",
    "def get_image2Expr(dirname):\n",
    "    dirpath=os.path.join(DATA_DIR,'EXPR_Recognition_Challenge/',dirname)\n",
    "    num_missed=[]\n",
    "    targets = []\n",
    "    names = []\n",
    "    for filename in os.listdir(dirpath):\n",
    "        fn, ext = os.path.splitext(os.path.basename(filename))\n",
    "        if ext.lower()=='.txt':\n",
    "            with open(os.path.join(dirpath,filename)) as f:\n",
    "                lines = f.read().splitlines()\n",
    "                prev_val=None\n",
    "                for i,line in enumerate(lines):\n",
    "                    if i>0:\n",
    "                        expression=int(line)\n",
    "                        if expression>=0:\n",
    "                            imagename=fn+'/'+str(i).zfill(5)+'.jpg'\n",
    "                            targets.append(expression)\n",
    "                            names.append(os.path.join(data_dir, imagename))\n",
    "    print(len(targets), len(names), len(num_missed))\n",
    "    return np.array(targets), num_missed, np.array(names)\n",
    "\n",
    "y_train, num_missed_train, names_train = get_image2Expr('Train_Set')\n",
    "y_val, num_missed_test, names_val = get_image2Expr('Validation_Set')"
   ]
  },
  {
   "cell_type": "markdown",
   "id": "ebefd6b4",
   "metadata": {},
   "source": [
    "## Get DataLoader"
   ]
  },
  {
   "cell_type": "code",
   "execution_count": 9,
   "id": "ef99e95a",
   "metadata": {},
   "outputs": [],
   "source": [
    "train_idx = np.arange(len(names_train))\n",
    "val_idx = np.arange(len(names_val))"
   ]
  },
  {
   "cell_type": "code",
   "execution_count": 10,
   "id": "def82957",
   "metadata": {},
   "outputs": [],
   "source": [
    "trainp_loader = DataLoader(train_idx,\n",
    "                           batch_size=256, \n",
    "                           shuffle=True)\n",
    "valp_loader = DataLoader(val_idx,\n",
    "                         batch_size=256, \n",
    "                         shuffle=False)"
   ]
  },
  {
   "cell_type": "code",
   "execution_count": 11,
   "id": "1b821af8",
   "metadata": {},
   "outputs": [],
   "source": [
    "def get_images(transform, imgs, y_in):\n",
    "    img_tensors = []\n",
    "    y = []\n",
    "    missed = 0\n",
    "    for i, img_name in enumerate(imgs):\n",
    "        try:\n",
    "            img_name = img_name.replace('\\n', '')\n",
    "            img = Image.open(img_name)\n",
    "            img_tensor = transform(img)\n",
    "            if img.size:\n",
    "                img_tensors.append(img_tensor)\n",
    "                y.append(y_in[i])\n",
    "\n",
    "        except:\n",
    "            try:\n",
    "                img_name = img_name.replace('cropped_aligned/cropped_aligned', \n",
    "                                            'cropped_aligned/cropped_aligned_new_50_vids')\n",
    "                img = Image.open(img_name)\n",
    "                img_tensor = transform(img)\n",
    "                if img.size:\n",
    "                    img_tensors.append(img_tensor)\n",
    "                    y.append(y_in[i])\n",
    "                    \n",
    "            except:\n",
    "                missed+=1\n",
    "            \n",
    "    try:\n",
    "        img_tensors = torch.stack(img_tensors)\n",
    "        y = torch.tensor(y)\n",
    "            \n",
    "    except: \n",
    "        img_tensors = []\n",
    "        \n",
    "    if missed > 0:\n",
    "        print(f'num of missed frames {missed}')\n",
    "        \n",
    "    return img_tensors, y"
   ]
  },
  {
   "cell_type": "markdown",
   "id": "590a2bd7",
   "metadata": {},
   "source": [
    "## Model"
   ]
  },
  {
   "cell_type": "code",
   "execution_count": 16,
   "id": "5be7d7b0",
   "metadata": {},
   "outputs": [
    {
     "name": "stdout",
     "output_type": "stream",
     "text": [
      "[177198  16573  10771   9080  95463  78751  31615 165866] {0: 1.0, 1: 10.691968865021419, 2: 16.451397270448425, 3: 19.515198237885464, 4: 1.856195594104522, 5: 2.2501047605744686, 6: 5.6048711054879, 7: 1.0683202102902343} 8 [0 1 2 3 4 5 6 7]\n",
      "\n",
      "(array([0, 1, 2, 3, 4, 5, 6, 7]), array([ 83176,   6127,   5322,   8473,  34941,  25594,  12338, 108259]))\n"
     ]
    }
   ],
   "source": [
    "counts = np.array([177198, 16573, 10771, 9080, 95463, 78751, 31615, 165866])\n",
    "unique = np.array([0, 1, 2, 3, 4, 5, 6, 7])\n",
    "num_classes=len(unique)\n",
    "cw=1/counts\n",
    "cw/=cw.min()\n",
    "class_weights = {i:cwi for i,cwi in zip(unique,cw)}\n",
    "print(counts, class_weights, num_classes, unique)\n",
    "print()\n",
    "print(np.unique(y_val, return_counts=True))"
   ]
  },
  {
   "cell_type": "code",
   "execution_count": 17,
   "id": "bcea86dc",
   "metadata": {},
   "outputs": [],
   "source": [
    "mae_encoder = torch.load('best_local_encoder.pt')"
   ]
  },
  {
   "cell_type": "code",
   "execution_count": 18,
   "id": "8f82e6b8",
   "metadata": {},
   "outputs": [],
   "source": [
    "class MAE_encoder_dec(nn.Module):\n",
    "    def __init__(self, input_dim, out_dim, classes, mae_encoder):\n",
    "        super(MAE_encoder_dec, self).__init__()\n",
    "        \n",
    "        self.mae_encoder = mae_encoder\n",
    "        \n",
    "        for param in self.mae_encoder.parameters():\n",
    "            param.requires_grad = False\n",
    "\n",
    "        self.embedding = nn.Sequential(\n",
    "            nn.Linear(input_dim, out_dim*3),\n",
    "            nn.ReLU(),\n",
    "            nn.Dropout(p=0.3),\n",
    "            nn.Linear(out_dim*3, out_dim*2),\n",
    "            nn.ReLU(),\n",
    "            nn.Dropout(p=0.3),\n",
    "            nn.Linear(out_dim*2, out_dim)\n",
    "        )\n",
    "        \n",
    "        self.classifier = nn.Linear(out_dim, classes)\n",
    "        self.softmax = nn.Softmax(dim=1)\n",
    "        \n",
    "    def forward(self, x):\n",
    "        embedding = self.mae_encoder(x)[-1].flatten(start_dim=1, end_dim=-1)\n",
    "        embedding = self.embedding(embedding)\n",
    "        \n",
    "        return self.softmax(self.classifier(embedding))"
   ]
  },
  {
   "cell_type": "code",
   "execution_count": 19,
   "id": "f8daed29",
   "metadata": {},
   "outputs": [],
   "source": [
    "model = MAE_encoder_dec(37632, 1280, num_classes, mae_encoder)\n",
    "model.to(device)\n",
    "model.train();"
   ]
  },
  {
   "cell_type": "code",
   "execution_count": 21,
   "id": "ae1ad400",
   "metadata": {},
   "outputs": [
    {
     "name": "stdout",
     "output_type": "stream",
     "text": [
      "torch.Size([3840, 37632])\n",
      "torch.Size([3840])\n",
      "torch.Size([2560, 3840])\n",
      "torch.Size([2560])\n",
      "torch.Size([1280, 2560])\n",
      "torch.Size([1280])\n",
      "torch.Size([8, 1280])\n",
      "torch.Size([8])\n"
     ]
    }
   ],
   "source": [
    "for i in model.parameters():\n",
    "    if i.requires_grad:\n",
    "        print(i.shape)"
   ]
  },
  {
   "cell_type": "markdown",
   "id": "c155a788",
   "metadata": {},
   "source": [
    "## Train"
   ]
  },
  {
   "cell_type": "code",
   "execution_count": 24,
   "id": "c9c19548",
   "metadata": {},
   "outputs": [
    {
     "name": "stderr",
     "output_type": "stream",
     "text": [
      "\u001b[1;38;5;214mCOMET WARNING:\u001b[0m As you are running in a Jupyter environment, you will need to call `experiment.end()` when finished to ensure all metrics and code are logged before exiting.\n",
      "\u001b[1;38;5;39mCOMET INFO:\u001b[0m Couldn't find a Git repository in '/home/hse_student/apsidorova/embedding_models/mae' nor in any parent directory. Set `COMET_GIT_DIRECTORY` if your Git Repository is elsewhere.\n",
      "\u001b[1;38;5;39mCOMET INFO:\u001b[0m Experiment is live on comet.com https://www.comet.com/annanet/abaw6/8611c6c8215c43cfa726e9d036e46945\n",
      "\n"
     ]
    }
   ],
   "source": [
    "experiment = Experiment(\n",
    "  api_key=\"XhQqrLR91F7zW3AZ7LgVT3zp2\",\n",
    "  project_name=\"abaw6\",\n",
    "  workspace=\"annanet\"\n",
    ")\n",
    "\n",
    "experiment.set_name('MAE finetune')\n",
    "experiment.add_tags(['Aff-Wild'])"
   ]
  },
  {
   "cell_type": "code",
   "execution_count": 25,
   "id": "32efd01b",
   "metadata": {},
   "outputs": [],
   "source": [
    "hyperparams = {\n",
    "    'epochs': 1_000,\n",
    "    'optimizer': 'Adam',\n",
    "    'loss': 'categorical_crossentropy',\n",
    "    'lr': 1e-5,\n",
    "    'steplr': 10,\n",
    "    'batch': 256\n",
    "}"
   ]
  },
  {
   "cell_type": "code",
   "execution_count": 26,
   "id": "c7bff3de",
   "metadata": {},
   "outputs": [],
   "source": [
    "experiment.log_parameters(hyperparams)"
   ]
  },
  {
   "cell_type": "code",
   "execution_count": 27,
   "id": "6d7969b2",
   "metadata": {},
   "outputs": [],
   "source": [
    "loss_fn = nn.CrossEntropyLoss(weight=torch.Tensor(cw))\n",
    "optimizer = optim.Adam(model.parameters(), lr=hyperparams['lr'])\n",
    "\n",
    "best_model_params = deepcopy(model.state_dict())\n",
    "\n",
    "best_vloss = 0"
   ]
  },
  {
   "cell_type": "code",
   "execution_count": 28,
   "id": "b234db57",
   "metadata": {},
   "outputs": [],
   "source": [
    "scheduler = torch.optim.lr_scheduler.ExponentialLR(optimizer, 0.995)"
   ]
  },
  {
   "cell_type": "code",
   "execution_count": null,
   "id": "97a507f5",
   "metadata": {
    "scrolled": true
   },
   "outputs": [],
   "source": [
    "global_best_loss = 1e+10\n",
    "\n",
    "for epoch in range(1, hyperparams['epochs'] + 1):\n",
    "    # records\n",
    "    losses = []\n",
    "    print('\\nEPOCH {}:'.format(epoch))\n",
    "\n",
    "    print('Start train')\n",
    "    for idx, path in tqdm(enumerate(trainp_loader), total=len(trainp_loader)):\n",
    "        # put images into device\n",
    "        tensor, y = get_images(transform, names_train[path], y_train[path])\n",
    "\n",
    "        if tensor==[]:\n",
    "            print('Do not find images')\n",
    "            continue\n",
    "\n",
    "        tensor = tensor.to(device)\n",
    "        # forward\n",
    "        output = model(tensor).cpu()\n",
    "        loss = loss_fn(output, y)\n",
    "\n",
    "        experiment.log_metric('current loss train', loss.to('cpu').item(), \n",
    "                              step=(epoch-1)*len(trainp_loader) + idx)\n",
    "        # back propagation\n",
    "        optimizer.zero_grad()\n",
    "        loss.backward()\n",
    "        # record\n",
    "        losses.append(loss.to('cpu').item())\n",
    "        del tensor\n",
    "        del y\n",
    "        del loss\n",
    "        del path\n",
    "        gc.collect()\n",
    "        torch.cuda.empty_cache()\n",
    "\n",
    "        optimizer.step()\n",
    "        torch.cuda.empty_cache()\n",
    "\n",
    "        if (idx%230)==0:\n",
    "            model.eval()\n",
    "\n",
    "            losses_val = []\n",
    "            print('Val part')\n",
    "\n",
    "            for path in tqdm(valp_loader, total=len(valp_loader)):\n",
    "                tensor, y = get_images(transform, names_val[path], y_val[path])\n",
    "                if tensor==[]:\n",
    "                    print('Do not find images')\n",
    "                    continue\n",
    "                tensor = tensor.to(device)\n",
    "                # forward\n",
    "                output = model(tensor).cpu()\n",
    "                loss = loss_fn(output, y)\n",
    "                # record\n",
    "                losses_val.append(loss.to('cpu').item())\n",
    "                del tensor\n",
    "                del y\n",
    "                del loss\n",
    "                del path\n",
    "                gc.collect()\n",
    "                torch.cuda.empty_cache()\n",
    "\n",
    "            val_loss_mean = np.mean(losses_val)\n",
    "            experiment.log_metric('avg loss val', val_loss_mean, \n",
    "                                  step=(epoch-1)*len(trainp_loader) + idx)\n",
    "            print(f'Current Validation loss is {val_loss_mean}')\n",
    "            if global_best_loss > val_loss_mean:\n",
    "                global_best_loss = val_loss_mean\n",
    "                best_model_params = deepcopy(model.state_dict())\n",
    "                \n",
    "                print('New Best Validation loss')\n",
    "\n",
    "            model.train()\n",
    "\n",
    "        train_loss_mean = np.mean(losses)\n",
    "        experiment.log_metric('avg loss train', train_loss_mean, \n",
    "                              step=(epoch-1)*len(trainp_loader) + idx)\n",
    "        print(f'Current Train average loss is {train_loss_mean}')\n",
    "\n",
    "    scheduler.step()"
   ]
  },
  {
   "cell_type": "markdown",
   "id": "478bc82c",
   "metadata": {},
   "source": [
    "## Test"
   ]
  },
  {
   "cell_type": "code",
   "execution_count": null,
   "id": "7a323b11",
   "metadata": {
    "scrolled": true
   },
   "outputs": [],
   "source": [
    "model.load_state_dict(best_model_params)\n",
    "pred_labels_val, labels_val = [], []\n",
    "\n",
    "model.eval()\n",
    "with torch.no_grad():\n",
    "    for path in tqdm(valp_loader, total=len(valp_loader)):\n",
    "        tensor, y = get_images(transform, names_val[path], y_val[path])\n",
    "        if tensor==[]:\n",
    "            print('Do not find images')\n",
    "            continue\n",
    "        tensor = tensor.to(device)\n",
    "        # forward\n",
    "        output = model(tensor).cpu()\n",
    "\n",
    "        _, predicted = torch.max(output.data, 1)\n",
    "        pred_labels_val += predicted.tolist()\n",
    "        labels_val += y.tolist()"
   ]
  },
  {
   "cell_type": "code",
   "execution_count": 37,
   "id": "dfef658e",
   "metadata": {},
   "outputs": [],
   "source": [
    "f1 = f1_score(labels_val,\n",
    "        pred_labels_val,\n",
    "        average='macro')"
   ]
  },
  {
   "cell_type": "code",
   "execution_count": 38,
   "id": "c4d8c6fc",
   "metadata": {},
   "outputs": [
    {
     "data": {
      "text/plain": [
       "0.1771487113211284"
      ]
     },
     "execution_count": 38,
     "metadata": {},
     "output_type": "execute_result"
    }
   ],
   "source": [
    "f1"
   ]
  },
  {
   "cell_type": "code",
   "execution_count": 39,
   "id": "3fcfe15d",
   "metadata": {},
   "outputs": [
    {
     "data": {
      "text/plain": [
       "0.3049018941980132"
      ]
     },
     "execution_count": 39,
     "metadata": {},
     "output_type": "execute_result"
    }
   ],
   "source": [
    "(np.array(labels_val)==np.array(pred_labels_val)).mean()"
   ]
  },
  {
   "cell_type": "code",
   "execution_count": 40,
   "id": "524ef1ee",
   "metadata": {},
   "outputs": [
    {
     "data": {
      "text/plain": [
       "{'web': 'https://www.comet.com/api/asset/download?assetId=2f3cdd01542c47718450aca7e8c0d0e4&experimentKey=8611c6c8215c43cfa726e9d036e46945',\n",
       " 'api': 'https://www.comet.com/api/rest/v2/experiment/asset/get-asset?assetId=2f3cdd01542c47718450aca7e8c0d0e4&experimentKey=8611c6c8215c43cfa726e9d036e46945',\n",
       " 'assetId': '2f3cdd01542c47718450aca7e8c0d0e4'}"
      ]
     },
     "execution_count": 40,
     "metadata": {},
     "output_type": "execute_result"
    }
   ],
   "source": [
    "experiment.log_confusion_matrix(\n",
    "    np.array(labels_val),np.array(pred_labels_val),\n",
    "    title=\"Confusion Matrix: Evaluation\",\n",
    "    file_name=\"confusion-matrix-eval.json\",\n",
    ")"
   ]
  },
  {
   "cell_type": "code",
   "execution_count": 41,
   "id": "c2d0396b",
   "metadata": {},
   "outputs": [
    {
     "name": "stdout",
     "output_type": "stream",
     "text": [
      "(279749,) (279749,) 0.3049018941980132\n"
     ]
    },
    {
     "data": {
      "image/png": "[encoded data removed]",
      "text/plain": [
       "<Figure size 576x576 with 1 Axes>"
      ]
     },
     "metadata": {
      "needs_background": "light"
     },
     "output_type": "display_data"
    }
   ],
   "source": [
    "labels=classes\n",
    "IC = type('IdentityClassifier', (), {\"predict\": lambda i : i, \"_estimator_type\": \"classifier\"})\n",
    "\n",
    "import matplotlib.pyplot as plt\n",
    "from sklearn.metrics import confusion_matrix\n",
    "from sklearn.metrics import ConfusionMatrixDisplay\n",
    "\n",
    "def plt_conf_matrix(y_true,y_pred,labels):\n",
    "    print(y_pred.shape,y_true.shape, (y_pred==y_true).mean())\n",
    "\n",
    "    fig, ax = plt.subplots(figsize=(8, 8))\n",
    "    cm = confusion_matrix(y_true, y_pred)\n",
    "    disp = ConfusionMatrixDisplay(confusion_matrix=cm, display_labels=labels)\n",
    "    disp.plot(ax=ax, cmap='PuRd', colorbar=False)\n",
    "    plt.tight_layout()\n",
    "    plt.show()\n",
    "\n",
    "plt_conf_matrix(np.array(labels_val),np.array(pred_labels_val),labels);"
   ]
  },
  {
   "cell_type": "code",
   "execution_count": 42,
   "id": "204e401d",
   "metadata": {},
   "outputs": [
    {
     "data": {
      "text/plain": [
       "{'web': 'https://www.comet.com/api/asset/download?assetId=a186dabc0da84af2b50e36dc1e6d5b21&experimentKey=8611c6c8215c43cfa726e9d036e46945',\n",
       " 'api': 'https://www.comet.com/api/rest/v2/experiment/asset/get-asset?assetId=a186dabc0da84af2b50e36dc1e6d5b21&experimentKey=8611c6c8215c43cfa726e9d036e46945',\n",
       " 'assetId': 'a186dabc0da84af2b50e36dc1e6d5b21'}"
      ]
     },
     "execution_count": 42,
     "metadata": {},
     "output_type": "execute_result"
    }
   ],
   "source": [
    "torch.save(model.state_dict(), 'mae_enc.pt')\n",
    "experiment.log_model(\"mae_enc.pt\", file_or_folder=\"mae_enc.pt\")"
   ]
  },
  {
   "cell_type": "code",
   "execution_count": 43,
   "id": "4a5e6edf",
   "metadata": {},
   "outputs": [
    {
     "name": "stderr",
     "output_type": "stream",
     "text": [
      "\u001b[1;38;5;39mCOMET INFO:\u001b[0m ---------------------------------------------------------------------------------------\n",
      "\u001b[1;38;5;39mCOMET INFO:\u001b[0m Comet.ml Experiment Summary\n",
      "\u001b[1;38;5;39mCOMET INFO:\u001b[0m ---------------------------------------------------------------------------------------\n",
      "\u001b[1;38;5;39mCOMET INFO:\u001b[0m   Data:\n",
      "\u001b[1;38;5;39mCOMET INFO:\u001b[0m     display_summary_level : 1\n",
      "\u001b[1;38;5;39mCOMET INFO:\u001b[0m     url                   : https://www.comet.com/annanet/abaw6/8611c6c8215c43cfa726e9d036e46945\n",
      "\u001b[1;38;5;39mCOMET INFO:\u001b[0m   Metrics [count] (min, max):\n",
      "\u001b[1;38;5;39mCOMET INFO:\u001b[0m     avg loss train [77712]     : (1.448355754216512, 2.082097291946411)\n",
      "\u001b[1;38;5;39mCOMET INFO:\u001b[0m     avg loss val [366]         : (1.96627603930396, 2.0833878748051755)\n",
      "\u001b[1;38;5;39mCOMET INFO:\u001b[0m     current loss train [77713] : (1.329802393913269, 2.084804058074951)\n",
      "\u001b[1;38;5;39mCOMET INFO:\u001b[0m     loss [7771]                : (1.329802393913269, 2.0732250213623047)\n",
      "\u001b[1;38;5;39mCOMET INFO:\u001b[0m   Others:\n",
      "\u001b[1;38;5;39mCOMET INFO:\u001b[0m     Name : MAE finetune\n",
      "\u001b[1;38;5;39mCOMET INFO:\u001b[0m   Parameters:\n",
      "\u001b[1;38;5;39mCOMET INFO:\u001b[0m     batch     : 256\n",
      "\u001b[1;38;5;39mCOMET INFO:\u001b[0m     epochs    : 1000\n",
      "\u001b[1;38;5;39mCOMET INFO:\u001b[0m     loss      : categorical_crossentropy\n",
      "\u001b[1;38;5;39mCOMET INFO:\u001b[0m     lr        : 1e-05\n",
      "\u001b[1;38;5;39mCOMET INFO:\u001b[0m     optimizer : Adam\n",
      "\u001b[1;38;5;39mCOMET INFO:\u001b[0m     steplr    : 10\n",
      "\u001b[1;38;5;39mCOMET INFO:\u001b[0m   Uploads:\n",
      "\u001b[1;38;5;39mCOMET INFO:\u001b[0m     confusion-matrix    : 1\n",
      "\u001b[1;38;5;39mCOMET INFO:\u001b[0m     environment details : 1\n",
      "\u001b[1;38;5;39mCOMET INFO:\u001b[0m     filename            : 1\n",
      "\u001b[1;38;5;39mCOMET INFO:\u001b[0m     installed packages  : 1\n",
      "\u001b[1;38;5;39mCOMET INFO:\u001b[0m     model-element       : 1 (686.81 MB)\n",
      "\u001b[1;38;5;39mCOMET INFO:\u001b[0m     notebook            : 1\n",
      "\u001b[1;38;5;39mCOMET INFO:\u001b[0m     os packages         : 1\n",
      "\u001b[1;38;5;39mCOMET INFO:\u001b[0m     source_code         : 1\n",
      "\u001b[1;38;5;39mCOMET INFO:\u001b[0m \n",
      "\u001b[1;38;5;39mCOMET INFO:\u001b[0m Please wait for assets to finish uploading (timeout is 10800 seconds)\n",
      "\u001b[1;38;5;39mCOMET INFO:\u001b[0m Still uploading 2 file(s), remaining 686.94 MB/687.16 MB\n",
      "\u001b[1;38;5;39mCOMET INFO:\u001b[0m Still uploading 1 asset(s), remaining 666.81 MB/686.81 MB, Throughput 1.34 MB/s, ETA ~498s\n",
      "\u001b[1;38;5;39mCOMET INFO:\u001b[0m Still uploading 1 asset(s), remaining 651.81 MB/686.81 MB, Throughput 1022.79 KB/s, ETA ~653s\n",
      "\u001b[1;38;5;39mCOMET INFO:\u001b[0m Still uploading 1 asset(s), remaining 636.81 MB/686.81 MB, Throughput 1022.69 KB/s, ETA ~638s\n",
      "\u001b[1;38;5;39mCOMET INFO:\u001b[0m Still uploading 1 asset(s), remaining 621.81 MB/686.81 MB, Throughput 1022.68 KB/s, ETA ~623s\n",
      "\u001b[1;38;5;39mCOMET INFO:\u001b[0m Still uploading 1 asset(s), remaining 611.81 MB/686.81 MB, Throughput 681.79 KB/s, ETA ~919s\n",
      "\u001b[1;38;5;39mCOMET INFO:\u001b[0m Still uploading 1 asset(s), remaining 601.81 MB/686.81 MB, Throughput 681.78 KB/s, ETA ~904s\n",
      "\u001b[1;38;5;39mCOMET INFO:\u001b[0m Still uploading 1 asset(s), remaining 591.81 MB/686.81 MB, Throughput 681.81 KB/s, ETA ~889s\n",
      "\u001b[1;38;5;39mCOMET INFO:\u001b[0m Still uploading 1 asset(s), remaining 576.81 MB/686.81 MB, Throughput 1022.67 KB/s, ETA ~578s\n",
      "\u001b[1;38;5;39mCOMET INFO:\u001b[0m Still uploading 1 asset(s), remaining 566.81 MB/686.81 MB, Throughput 681.79 KB/s, ETA ~852s\n",
      "\u001b[1;38;5;39mCOMET INFO:\u001b[0m Still uploading 1 asset(s), remaining 556.81 MB/686.81 MB, Throughput 681.81 KB/s, ETA ~837s\n",
      "\u001b[1;38;5;39mCOMET INFO:\u001b[0m Still uploading 1 asset(s), remaining 541.81 MB/686.81 MB, Throughput 1022.73 KB/s, ETA ~543s\n",
      "\u001b[1;38;5;39mCOMET INFO:\u001b[0m Still uploading 1 asset(s), remaining 531.81 MB/686.81 MB, Throughput 681.81 KB/s, ETA ~799s\n",
      "\u001b[1;38;5;39mCOMET INFO:\u001b[0m Still uploading 1 asset(s), remaining 516.81 MB/686.81 MB, Throughput 1022.67 KB/s, ETA ~518s\n",
      "\u001b[1;38;5;39mCOMET INFO:\u001b[0m Still uploading 1 asset(s), remaining 506.81 MB/686.81 MB, Throughput 681.82 KB/s, ETA ~762s\n",
      "\u001b[1;38;5;39mCOMET INFO:\u001b[0m Still uploading 1 asset(s), remaining 496.81 MB/686.81 MB, Throughput 681.79 KB/s, ETA ~747s\n",
      "\u001b[1;38;5;39mCOMET INFO:\u001b[0m Still uploading 1 asset(s), remaining 476.81 MB/686.81 MB, Throughput 1.33 MB/s, ETA ~359s\n",
      "\u001b[1;38;5;39mCOMET INFO:\u001b[0m Still uploading 1 asset(s), remaining 461.81 MB/686.81 MB, Throughput 1022.68 KB/s, ETA ~463s\n",
      "\u001b[1;38;5;39mCOMET INFO:\u001b[0m Still uploading 1 asset(s), remaining 451.81 MB/686.81 MB, Throughput 681.78 KB/s, ETA ~679s\n",
      "\u001b[1;38;5;39mCOMET INFO:\u001b[0m Still uploading 1 asset(s), remaining 436.81 MB/686.81 MB, Throughput 1022.69 KB/s, ETA ~438s\n",
      "\u001b[1;38;5;39mCOMET INFO:\u001b[0m Still uploading 1 asset(s), remaining 426.81 MB/686.81 MB, Throughput 681.79 KB/s, ETA ~642s\n",
      "\u001b[1;38;5;39mCOMET INFO:\u001b[0m Still uploading 1 asset(s), remaining 411.81 MB/686.81 MB, Throughput 1022.74 KB/s, ETA ~413s\n",
      "\u001b[1;38;5;39mCOMET INFO:\u001b[0m Still uploading 1 asset(s), remaining 401.81 MB/686.81 MB, Throughput 681.80 KB/s, ETA ~604s\n",
      "\u001b[1;38;5;39mCOMET INFO:\u001b[0m Still uploading 1 asset(s), remaining 391.81 MB/686.81 MB, Throughput 681.79 KB/s, ETA ~589s\n",
      "\u001b[1;38;5;39mCOMET INFO:\u001b[0m Still uploading 1 asset(s), remaining 376.81 MB/686.81 MB, Throughput 1022.72 KB/s, ETA ~378s\n",
      "\u001b[1;38;5;39mCOMET INFO:\u001b[0m Still uploading 1 asset(s), remaining 366.81 MB/686.81 MB, Throughput 681.78 KB/s, ETA ~551s\n",
      "\u001b[1;38;5;39mCOMET INFO:\u001b[0m Still uploading 1 asset(s), remaining 351.81 MB/686.81 MB, Throughput 1022.68 KB/s, ETA ~353s\n",
      "\u001b[1;38;5;39mCOMET INFO:\u001b[0m Still uploading 1 asset(s), remaining 331.81 MB/686.81 MB, Throughput 1.33 MB/s, ETA ~250s\n",
      "\u001b[1;38;5;39mCOMET INFO:\u001b[0m Still uploading 1 asset(s), remaining 321.81 MB/686.81 MB, Throughput 681.78 KB/s, ETA ~484s\n",
      "\u001b[1;38;5;39mCOMET INFO:\u001b[0m Still uploading 1 asset(s), remaining 311.81 MB/686.81 MB, Throughput 681.79 KB/s, ETA ~469s\n",
      "\u001b[1;38;5;39mCOMET INFO:\u001b[0m Still uploading 1 asset(s), remaining 301.81 MB/686.81 MB, Throughput 681.78 KB/s, ETA ~454s\n",
      "\u001b[1;38;5;39mCOMET INFO:\u001b[0m Still uploading 1 asset(s), remaining 291.81 MB/686.81 MB, Throughput 681.78 KB/s, ETA ~439s\n",
      "\u001b[1;38;5;39mCOMET INFO:\u001b[0m Still uploading 1 asset(s), remaining 271.81 MB/686.81 MB, Throughput 1.33 MB/s, ETA ~205s\n",
      "\u001b[1;38;5;39mCOMET INFO:\u001b[0m Still uploading 1 asset(s), remaining 261.81 MB/686.81 MB, Throughput 681.78 KB/s, ETA ~394s\n",
      "\u001b[1;38;5;39mCOMET INFO:\u001b[0m Still uploading 1 asset(s), remaining 251.81 MB/686.81 MB, Throughput 681.77 KB/s, ETA ~379s\n",
      "\u001b[1;38;5;39mCOMET INFO:\u001b[0m Still uploading 1 asset(s), remaining 241.81 MB/686.81 MB, Throughput 681.84 KB/s, ETA ~364s\n",
      "\u001b[1;38;5;39mCOMET INFO:\u001b[0m Still uploading 1 asset(s), remaining 231.81 MB/686.81 MB, Throughput 681.80 KB/s, ETA ~349s\n",
      "\u001b[1;38;5;39mCOMET INFO:\u001b[0m Still uploading 1 asset(s), remaining 221.81 MB/686.81 MB, Throughput 681.82 KB/s, ETA ~334s\n",
      "\u001b[1;38;5;39mCOMET INFO:\u001b[0m Still uploading 1 asset(s), remaining 201.81 MB/686.81 MB, Throughput 1.33 MB/s, ETA ~152s\n",
      "\u001b[1;38;5;39mCOMET INFO:\u001b[0m Still uploading 1 asset(s), remaining 186.81 MB/686.81 MB, Throughput 1022.70 KB/s, ETA ~188s\n",
      "\u001b[1;38;5;39mCOMET INFO:\u001b[0m Still uploading 1 asset(s), remaining 171.81 MB/686.81 MB, Throughput 1022.70 KB/s, ETA ~173s\n",
      "\u001b[1;38;5;39mCOMET INFO:\u001b[0m Still uploading 1 asset(s), remaining 161.81 MB/686.81 MB, Throughput 681.79 KB/s, ETA ~244s\n",
      "\u001b[1;38;5;39mCOMET INFO:\u001b[0m Still uploading 1 asset(s), remaining 146.81 MB/686.81 MB, Throughput 1022.67 KB/s, ETA ~147s\n",
      "\u001b[1;38;5;39mCOMET INFO:\u001b[0m Still uploading 1 asset(s), remaining 136.81 MB/686.81 MB, Throughput 681.81 KB/s, ETA ~206s\n",
      "\u001b[1;38;5;39mCOMET INFO:\u001b[0m Still uploading 1 asset(s), remaining 121.81 MB/686.81 MB, Throughput 1022.70 KB/s, ETA ~122s\n",
      "\u001b[1;38;5;39mCOMET INFO:\u001b[0m Still uploading 1 asset(s), remaining 111.81 MB/686.81 MB, Throughput 681.81 KB/s, ETA ~168s\n",
      "\u001b[1;38;5;39mCOMET INFO:\u001b[0m Still uploading 1 asset(s), remaining 101.81 MB/686.81 MB, Throughput 681.82 KB/s, ETA ~153s\n",
      "\u001b[1;38;5;39mCOMET INFO:\u001b[0m Still uploading 1 asset(s), remaining 86.81 MB/686.81 MB, Throughput 1022.69 KB/s, ETA ~87s\n",
      "\u001b[1;38;5;39mCOMET INFO:\u001b[0m Still uploading 1 asset(s), remaining 71.81 MB/686.81 MB, Throughput 1022.84 KB/s, ETA ~72s\n",
      "\u001b[1;38;5;39mCOMET INFO:\u001b[0m Still uploading 1 asset(s), remaining 61.81 MB/686.81 MB, Throughput 681.94 KB/s, ETA ~93s\n",
      "\u001b[1;38;5;39mCOMET INFO:\u001b[0m Still uploading 1 asset(s), remaining 51.81 MB/686.81 MB, Throughput 681.90 KB/s, ETA ~78s\n",
      "\u001b[1;38;5;39mCOMET INFO:\u001b[0m Still uploading 1 asset(s), remaining 36.81 MB/686.81 MB, Throughput 1022.96 KB/s, ETA ~37s\n"
     ]
    },
    {
     "name": "stderr",
     "output_type": "stream",
     "text": [
      "\u001b[1;38;5;39mCOMET INFO:\u001b[0m Still uploading 1 asset(s), remaining 26.81 MB/686.81 MB, Throughput 681.94 KB/s, ETA ~41s\n",
      "\u001b[1;38;5;39mCOMET INFO:\u001b[0m Still uploading 1 asset(s), remaining 16.81 MB/686.81 MB, Throughput 681.94 KB/s, ETA ~26s\n",
      "\u001b[1;38;5;39mCOMET INFO:\u001b[0m Still uploading 1 asset(s), remaining 1.81 MB/686.81 MB, Throughput 1022.91 KB/s, ETA ~2s\n"
     ]
    }
   ],
   "source": [
    "experiment.end()"
   ]
  },
  {
   "cell_type": "code",
   "execution_count": null,
   "id": "2ebd3740",
   "metadata": {},
   "outputs": [],
   "source": []
  }
 ],
 "metadata": {
  "kernelspec": {
   "display_name": "Python 3 (ipykernel)",
   "language": "python",
   "name": "python3"
  },
  "language_info": {
   "codemirror_mode": {
    "name": "ipython",
    "version": 3
   },
   "file_extension": ".py",
   "mimetype": "text/x-python",
   "name": "python",
   "nbconvert_exporter": "python",
   "pygments_lexer": "ipython3",
   "version": "3.8.10"
  }
 },
 "nbformat": 4,
 "nbformat_minor": 5
}
