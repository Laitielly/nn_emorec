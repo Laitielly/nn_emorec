{
 "cells": [
  {
   "cell_type": "markdown",
   "metadata": {},
   "source": [
    "# Imports & get data"
   ]
  },
  {
   "cell_type": "code",
   "execution_count": 1,
   "metadata": {},
   "outputs": [
    {
     "name": "stdout",
     "output_type": "stream",
     "text": [
      "env: CUDA_VISIBLE_DEVICES=1\n"
     ]
    }
   ],
   "source": [
    "%env CUDA_VISIBLE_DEVICES=1"
   ]
  },
  {
   "cell_type": "code",
   "execution_count": 2,
   "metadata": {
    "execution": {
     "iopub.execute_input": "2024-02-20T05:37:44.875134Z",
     "iopub.status.busy": "2024-02-20T05:37:44.874711Z",
     "iopub.status.idle": "2024-02-20T05:37:49.226295Z",
     "shell.execute_reply": "2024-02-20T05:37:49.225491Z",
     "shell.execute_reply.started": "2024-02-20T05:37:44.875109Z"
    }
   },
   "outputs": [],
   "source": [
    "from comet_ml import Experiment\n",
    "from comet_ml.integration.pytorch import log_model"
   ]
  },
  {
   "cell_type": "code",
   "execution_count": 3,
   "metadata": {
    "execution": {
     "iopub.execute_input": "2024-02-20T05:37:44.275458Z",
     "iopub.status.busy": "2024-02-20T05:37:44.275143Z",
     "iopub.status.idle": "2024-02-20T05:37:44.873569Z",
     "shell.execute_reply": "2024-02-20T05:37:44.872756Z",
     "shell.execute_reply.started": "2024-02-20T05:37:44.275428Z"
    }
   },
   "outputs": [],
   "source": [
    "import os\n",
    "import pickle\n",
    "from tqdm import tqdm\n",
    "from copy import deepcopy\n",
    "\n",
    "import numpy as np\n",
    "import pandas as pd\n",
    "\n",
    "from sklearn.metrics import f1_score"
   ]
  },
  {
   "cell_type": "code",
   "execution_count": 4,
   "metadata": {
    "execution": {
     "iopub.execute_input": "2024-02-20T05:37:49.229613Z",
     "iopub.status.busy": "2024-02-20T05:37:49.228953Z",
     "iopub.status.idle": "2024-02-20T05:37:49.234015Z",
     "shell.execute_reply": "2024-02-20T05:37:49.233138Z",
     "shell.execute_reply.started": "2024-02-20T05:37:49.229579Z"
    }
   },
   "outputs": [],
   "source": [
    "import torch\n",
    "import torch.nn as nn\n",
    "import torch.nn.functional as F\n",
    "import torch.optim as optim\n",
    "from torch.utils.data import DataLoader,Dataset"
   ]
  },
  {
   "cell_type": "code",
   "execution_count": 5,
   "metadata": {},
   "outputs": [
    {
     "name": "stdout",
     "output_type": "stream",
     "text": [
      "861563\n"
     ]
    }
   ],
   "source": [
    "with open('../fea_notebooks/features_with_mae_encdec.pickle', 'rb') as handle:\n",
    "    data=pickle.load(handle)\n",
    "print(len(data))"
   ]
  },
  {
   "cell_type": "code",
   "execution_count": 6,
   "metadata": {
    "execution": {
     "iopub.execute_input": "2024-02-20T05:41:43.887699Z",
     "iopub.status.busy": "2024-02-20T05:41:43.887344Z",
     "iopub.status.idle": "2024-02-20T05:41:43.943929Z",
     "shell.execute_reply": "2024-02-20T05:41:43.943079Z",
     "shell.execute_reply.started": "2024-02-20T05:41:43.887667Z"
    }
   },
   "outputs": [
    {
     "name": "stdout",
     "output_type": "stream",
     "text": [
      "Torch: 2.0.1+cu117\n",
      "cuda:0\n"
     ]
    }
   ],
   "source": [
    "print(f\"Torch: {torch.__version__}\")\n",
    "device = 'cuda:0' if torch.cuda.is_available() else 'cpu'\n",
    "print(device)"
   ]
  },
  {
   "cell_type": "markdown",
   "metadata": {},
   "source": [
    "# Expression Recognition Challenge\n",
    "## Get target data"
   ]
  },
  {
   "cell_type": "code",
   "execution_count": 7,
   "metadata": {
    "execution": {
     "iopub.execute_input": "2024-02-20T05:41:50.191261Z",
     "iopub.status.busy": "2024-02-20T05:41:50.190550Z",
     "iopub.status.idle": "2024-02-20T05:41:50.196839Z",
     "shell.execute_reply": "2024-02-20T05:41:50.195801Z",
     "shell.execute_reply.started": "2024-02-20T05:41:50.191226Z"
    }
   },
   "outputs": [],
   "source": [
    "idx_to_class_2={0: 'Neutral', 1:'Anger', 2:'Disgust', 3:'Fear', \n",
    "                4:'Happiness', 5:'Sadness', 6:'Surprise', 7:'Other'} #ABAW\n",
    "classes = ['Neutral', 'Anger', 'Disgust', 'Fear', \n",
    "           'Happiness', 'Sadness', 'Surprise', 'Other']"
   ]
  },
  {
   "cell_type": "code",
   "execution_count": 8,
   "metadata": {
    "execution": {
     "iopub.execute_input": "2024-02-20T05:41:50.198725Z",
     "iopub.status.busy": "2024-02-20T05:41:50.198027Z",
     "iopub.status.idle": "2024-02-20T05:41:54.354176Z",
     "shell.execute_reply": "2024-02-20T05:41:54.353109Z",
     "shell.execute_reply.started": "2024-02-20T05:41:50.198698Z"
    }
   },
   "outputs": [
    {
     "name": "stdout",
     "output_type": "stream",
     "text": [
      "586959 10402\n",
      "279749 4481\n"
     ]
    }
   ],
   "source": [
    "DATA_DIR = '/home/HDD6TB/datasets/emotions/ABAW/ABAW_6/6th_ABAW_Annotations'\n",
    "\n",
    "def get_image2Expr(dirname):\n",
    "    dirpath=os.path.join(DATA_DIR,'EXPR_Recognition_Challenge/',dirname)\n",
    "    num_missed=[]\n",
    "    targets = {}\n",
    "    for filename in os.listdir(dirpath):\n",
    "        fn, ext = os.path.splitext(os.path.basename(filename))\n",
    "        if ext.lower()=='.txt':\n",
    "            with open(os.path.join(dirpath,filename)) as f:\n",
    "                lines = f.read().splitlines()\n",
    "                prev_val=None\n",
    "                for i,line in enumerate(lines):\n",
    "                    if i>0:\n",
    "                        expression=int(line)\n",
    "                        if expression>=0:\n",
    "                            imagename=fn+'/'+str(i).zfill(5)+'.jpg'\n",
    "                            if imagename in data:\n",
    "                                targets[imagename] = expression\n",
    "                            else:\n",
    "                                num_missed.append(imagename)\n",
    "    print(len(targets), len(num_missed))\n",
    "    return targets, num_missed\n",
    "\n",
    "y_train, num_missed_train = get_image2Expr('Train_Set')\n",
    "y_val, num_missed_test =get_image2Expr('Validation_Set')"
   ]
  },
  {
   "cell_type": "markdown",
   "metadata": {},
   "source": [
    "## Get train samples"
   ]
  },
  {
   "cell_type": "code",
   "execution_count": 9,
   "metadata": {
    "execution": {
     "iopub.execute_input": "2024-02-20T05:41:43.945157Z",
     "iopub.status.busy": "2024-02-20T05:41:43.944909Z",
     "iopub.status.idle": "2024-02-20T05:41:50.188934Z",
     "shell.execute_reply": "2024-02-20T05:41:50.187801Z",
     "shell.execute_reply.started": "2024-02-20T05:41:43.945135Z"
    }
   },
   "outputs": [
    {
     "name": "stderr",
     "output_type": "stream",
     "text": [
      "\u001b[1;38;5;214mCOMET WARNING:\u001b[0m As you are running in a Jupyter environment, you will need to call `experiment.end()` when finished to ensure all metrics and code are logged before exiting.\n",
      "\u001b[1;38;5;39mCOMET INFO:\u001b[0m Couldn't find a Git repository in '/home/hse_student/apsidorova/main notebooks' nor in any parent directory. Set `COMET_GIT_DIRECTORY` if your Git Repository is elsewhere.\n",
      "\u001b[1;38;5;39mCOMET INFO:\u001b[0m Experiment is live on comet.com https://www.comet.com/annanet/abaw6/202302f303e64a258c47d9f48e0cc93f\n",
      "\n"
     ]
    }
   ],
   "source": [
    "experiment = Experiment(\n",
    "  api_key=\"XhQqrLR91F7zW3AZ7LgVT3zp2\",\n",
    "  project_name=\"abaw6\",\n",
    "  workspace=\"annanet\"\n",
    ")\n",
    "\n",
    "experiment.set_name('expr-tcn_attention+linear(emoti+mae_encdec)')\n",
    "experiment.add_tags(['expr_classif_tcn - tcn_attention+linear', 'v2_tcn+linear'])"
   ]
  },
  {
   "cell_type": "code",
   "execution_count": 10,
   "metadata": {},
   "outputs": [
    {
     "name": "stdout",
     "output_type": "stream",
     "text": [
      "586959 586959 586959 586959 586959 586959 279749 279749 279749 279749 279749 279749\n"
     ]
    }
   ],
   "source": [
    "def train_val_split(y_train, y_val):\n",
    "    w2v2large_t, openl3_t, w2v2hub_t, y_t = \\\n",
    "    [], [], [], []\n",
    "    X_t, x_t, X_v, x_v = [], [], [], []\n",
    "    for key in y_train.keys():\n",
    "        X_t.append(data[key]['frame'][0])\n",
    "        x_t.append(data[key]['mae'])\n",
    "        w2v2large_t.append(data[key]['w2v2large'])\n",
    "        openl3_t.append(data[key]['openl3'])\n",
    "        w2v2hub_t.append(data[key]['w2v2hub'])\n",
    "        y_t.append(y_train[key])\n",
    "\n",
    "    w2v2large_v, openl3_v, w2v2hub_v, y_v = \\\n",
    "    [], [], [], []\n",
    "    \n",
    "    for key in y_val.keys():\n",
    "        X_v.append(data[key]['frame'][0])\n",
    "        x_v.append(data[key]['mae'])\n",
    "        w2v2large_v.append(data[key]['w2v2large'])\n",
    "        openl3_v.append(data[key]['openl3'])\n",
    "        w2v2hub_v.append(data[key]['w2v2hub'])\n",
    "        y_v.append(y_val[key])\n",
    "\n",
    "    print(len(X_t), len(w2v2large_t), len(openl3_t), len(w2v2hub_t), len(y_t), len(x_t),\n",
    "          len(X_v), len(w2v2large_v), len(openl3_v), len(w2v2hub_v), len(y_v), len(x_v))\n",
    "    \n",
    "    return (np.array(X_t),np.array(w2v2large_t), \n",
    "            np.array(openl3_t), np.array(w2v2hub_t), \n",
    "            np.array(y_t),\n",
    "            np.array(x_t),\n",
    "            np.array(X_v), np.array(w2v2large_v), \n",
    "            np.array(openl3_v), np.array(w2v2hub_v), \n",
    "            np.array(y_v),\n",
    "            np.array(x_v))\n",
    "\n",
    "X_t, w2v2large_t, openl3_t, w2v2hub_t, y_t, x_t,\\\n",
    "X_v, w2v2large_v, openl3_v, w2v2hub_v, y_v, x_v = train_val_split(y_train, y_val)"
   ]
  },
  {
   "cell_type": "code",
   "execution_count": 11,
   "metadata": {},
   "outputs": [],
   "source": [
    "from math import ceil\n",
    "\n",
    "\n",
    "class audioDataset(Dataset):\n",
    "    def __init__(self, names, values, y, window=300, step=200):\n",
    "        self.data = values\n",
    "        self.lenghts_of_seq = len(self.data[0])\n",
    "        self.y = y\n",
    "        \n",
    "        self.names = names\n",
    "        self.window = window\n",
    "        self.step = step\n",
    "        \n",
    "        self.len = ceil((self.lenghts_of_seq - self.window) / self.step) + 1\n",
    "        \n",
    "    def __len__(self):\n",
    "        return self.len\n",
    "\n",
    "    def __getitem__(self, idx):\n",
    "        if idx == self.len-1:\n",
    "            stride = [torch.Tensor(i[-self.window::]) for i in self.data]\n",
    "            y = self.y[-self.window::]\n",
    "        \n",
    "        else:\n",
    "            stride = [torch.Tensor(i[idx*self.step:idx*self.step + self.window]) for i in self.data]\n",
    "            y = self.y[idx*self.step:idx*self.step + self.window]\n",
    "            \n",
    "        r_dict = dict([(i, j.to(device)) for i, j in zip(self.names, stride)])\n",
    "        \n",
    "        return r_dict, y"
   ]
  },
  {
   "cell_type": "code",
   "execution_count": 12,
   "metadata": {},
   "outputs": [],
   "source": [
    "taudio = audioDataset(['frames', 'mae', 'w2v2large', 'openl3', 'w2v2hub'],\n",
    "                     [X_t, x_t, w2v2large_t, openl3_t, w2v2hub_t], y_t)\n",
    "training_loader = DataLoader(taudio, batch_size=64, shuffle=False)"
   ]
  },
  {
   "cell_type": "code",
   "execution_count": 15,
   "metadata": {},
   "outputs": [
    {
     "data": {
      "text/plain": [
       "(933, 15)"
      ]
     },
     "execution_count": 15,
     "metadata": {},
     "output_type": "execute_result"
    }
   ],
   "source": [
    "vaudio = audioDataset(['frames', 'mae', 'w2v2large', 'openl3', 'w2v2hub'],\n",
    "                     [X_v, x_v, w2v2large_v, openl3_v, w2v2hub_v], y_v,\n",
    "                     window=300, step=300)\n",
    "validation_loader = DataLoader(vaudio, batch_size=64, shuffle=False)\n",
    "len(vaudio), len(validation_loader)"
   ]
  },
  {
   "cell_type": "markdown",
   "metadata": {},
   "source": [
    "## TCN"
   ]
  },
  {
   "cell_type": "code",
   "execution_count": 17,
   "metadata": {},
   "outputs": [
    {
     "name": "stdout",
     "output_type": "stream",
     "text": [
      "[177498  16573  10810   9080  95633  79862  31637 165866] {0: 1.0, 1: 10.710070596753756, 2: 16.419796484736356, 3: 19.548237885462555, 4: 1.8560329593341212, 5: 2.2225589141268687, 6: 5.610456111514998, 7: 1.0701288992319102} 8 [0 1 2 3 4 5 6 7]\n",
      "\n",
      "(array([0, 1, 2, 3, 4, 5, 6, 7]), array([ 82219,   6126,   4899,   8408,  34348,  25091,  12214, 106444]))\n"
     ]
    }
   ],
   "source": [
    "(unique, counts) = np.unique(y_t, return_counts=True)\n",
    "num_classes=len(unique)\n",
    "cw=1/counts\n",
    "cw/=cw.min()\n",
    "class_weights = {i:cwi for i,cwi in zip(unique,cw)}\n",
    "print(counts, class_weights, num_classes, unique)\n",
    "print()\n",
    "print(np.unique(y_v, return_counts=True))"
   ]
  },
  {
   "cell_type": "code",
   "execution_count": 18,
   "metadata": {},
   "outputs": [],
   "source": [
    "from tcn.tcn import TemporalConvNet\n",
    "from tcn.trans_encoder import TransEncoder\n",
    "\n",
    "\n",
    "class Model(nn.Module):\n",
    "    def __init__(self, modality=['frames', 'mae', 'w2v2large', 'openl3', 'w2v2hub'],\n",
    "                 embedding_dim={'frames': 1280, 'mae': 1280, 'w2v2large': 1024, 'openl3': 512,\n",
    "                                'w2v2hub': 256},\n",
    "                 tcn_channel={\n",
    "                     'frames': [1280, 512, 256, 128],\n",
    "                     'mae': [1280, 512, 256, 128],\n",
    "                     'w2v2large': [1024, 512, 256, 128],\n",
    "                     'openl3': [512, 256, 128],\n",
    "                     'w2v2hub': [256, 128]\n",
    "    }):\n",
    "        super(Model, self).__init__()\n",
    "        self.modality = modality\n",
    "\n",
    "        self.temporal, self.fusion = nn.ModuleDict(), None\n",
    "\n",
    "        for modal in self.modality:\n",
    "            self.temporal[modal] = TemporalConvNet(num_inputs=embedding_dim[modal],\n",
    "                                                   num_channels=tcn_channel[modal], dropout=0.3, attention=False)\n",
    "\n",
    "        conv_dim = 0\n",
    "        for m in self.modality:\n",
    "            conv_dim += tcn_channel[m][-1]\n",
    "            \n",
    "        self.encoder = TransEncoder(\n",
    "            inc=conv_dim, outc=256, dropout=0.3, nheads=4, \n",
    "            nlayer=8)\n",
    "            \n",
    "        self.head = nn.Sequential(\n",
    "            nn.Linear(256, 256//2),\n",
    "            nn.BatchNorm1d(256//2),\n",
    "            nn.Linear(256//2, 8),\n",
    "        )\n",
    "        \n",
    "        self.softmax = nn.Softmax(dim=1)\n",
    "\n",
    "    def forward(self, x):\n",
    "        \n",
    "        bs, seq_len, _ = x[self.modality[0]].shape\n",
    "#         print(bs, seq_len)\n",
    "        for m in self.modality:\n",
    "            x[m] = x[m].transpose(1, 2)\n",
    "#             print(f'{m} shape start', x[m].shape)\n",
    "            x[m] = self.temporal[m](x[m])\n",
    "#             print(f'{m} shape end', x[m].shape)\n",
    "#             print()\n",
    "\n",
    "        feat_list = []\n",
    "        for m in self.modality:\n",
    "            feat_list.append(x[m])\n",
    "        out = torch.cat(feat_list, dim=1)\n",
    "        out = self.encoder(out)\n",
    "\n",
    "        out = torch.transpose(out, 1, 0)\n",
    "        out = torch.reshape(out, (bs*seq_len, -1))\n",
    "#         print(out.shape)\n",
    "\n",
    "        out = self.head(out)\n",
    "        return self.softmax(out)\n",
    "\n",
    "model = Model()\n",
    "model.to(device);"
   ]
  },
  {
   "cell_type": "markdown",
   "metadata": {},
   "source": [
    "## Train"
   ]
  },
  {
   "cell_type": "code",
   "execution_count": 19,
   "metadata": {},
   "outputs": [],
   "source": [
    "hyperparams = {\n",
    "    'epochs': 300,\n",
    "    'loss': 'categorical_crossentropy',\n",
    "    'lr': 1e-4,\n",
    "    'batch': 64\n",
    "}"
   ]
  },
  {
   "cell_type": "code",
   "execution_count": 23,
   "metadata": {},
   "outputs": [],
   "source": [
    "experiment.log_parameters(hyperparams)\n",
    "loss_fn = nn.CrossEntropyLoss(weight=torch.Tensor(cw)).to(device)\n",
    "optimizer = optim.Adam(model.parameters(), lr=5e-6)\n",
    "\n",
    "best_model_params = deepcopy(model.state_dict())\n",
    "\n",
    "best_vloss = 0"
   ]
  },
  {
   "cell_type": "code",
   "execution_count": 32,
   "metadata": {},
   "outputs": [
    {
     "name": "stdout",
     "output_type": "stream",
     "text": [
      "frames shape start torch.Size([64, 1280, 300])\n",
      "frames shape end torch.Size([64, 128, 300])\n",
      "\n",
      "mae shape start torch.Size([64, 1280, 300])\n",
      "mae shape end torch.Size([64, 128, 300])\n",
      "\n",
      "w2v2large shape start torch.Size([64, 1024, 300])\n",
      "w2v2large shape end torch.Size([64, 128, 300])\n",
      "\n",
      "openl3 shape start torch.Size([64, 512, 300])\n",
      "openl3 shape end torch.Size([64, 128, 300])\n",
      "\n",
      "w2v2hub shape start torch.Size([64, 256, 300])\n",
      "w2v2hub shape end torch.Size([64, 128, 300])\n",
      "\n"
     ]
    }
   ],
   "source": [
    "model.eval()\n",
    "for i, tdata in enumerate(training_loader):\n",
    "    inputs, labels = tdata\n",
    "    labels = labels.reshape(-1).to(device)\n",
    "\n",
    "    outputs = model(inputs)\n",
    "    break"
   ]
  },
  {
   "cell_type": "code",
   "execution_count": null,
   "metadata": {
    "scrolled": true
   },
   "outputs": [],
   "source": [
    "for epoch in range(hyperparams['epochs']):\n",
    "    print('EPOCH {}:'.format(epoch + 1))\n",
    "    pred_labels_train, pred_labels_val = [], []\n",
    "    labels_train, labels_val = [], []\n",
    "\n",
    "    model.train(True)\n",
    "    \n",
    "    running_loss = 0.\n",
    "    last_loss = 0.\n",
    "\n",
    "    for i, tdata in enumerate(training_loader):\n",
    "        inputs, labels = tdata\n",
    "        labels = labels.reshape(-1).to(device)\n",
    "        optimizer.zero_grad()\n",
    "\n",
    "        outputs = model(inputs)\n",
    "\n",
    "        loss = loss_fn(outputs, labels)\n",
    "        loss.backward()\n",
    "\n",
    "        optimizer.step()\n",
    "        running_loss += loss.item()\n",
    "        \n",
    "        _, predicted = torch.max(outputs.data, 1)\n",
    "        pred_labels_train += predicted.tolist()\n",
    "        labels_train += labels.tolist()\n",
    "    \n",
    "    avg_loss = running_loss / i + 1\n",
    "    experiment.log_metric('loss_train', avg_loss, \n",
    "                          epoch=epoch)\n",
    "    \n",
    "    running_vloss = 0.0\n",
    "    model.eval()\n",
    "    with torch.no_grad():\n",
    "        for i, vdata in enumerate(validation_loader):\n",
    "            vinputs, vlabels = vdata\n",
    "            vlabels = vlabels.reshape(-1).to(device)\n",
    "            voutputs = model(vinputs)\n",
    "            vloss = loss_fn(voutputs, vlabels)\n",
    "            running_vloss += vloss\n",
    "            \n",
    "            _, predicted = torch.max(voutputs.data, 1)\n",
    "            pred_labels_val += predicted.tolist()\n",
    "            labels_val += vlabels.tolist()\n",
    "\n",
    "    avg_vloss = running_vloss / (i + 1)\n",
    "    val_f1 = f1_score(labels_val,\n",
    "                      pred_labels_val,\n",
    "                      average='macro')\n",
    "    print('LOSS train {} valid {}, f1_valid {}'.format(avg_loss, avg_vloss, val_f1))\n",
    "    experiment.log_metric('loss_val', avg_vloss, \n",
    "                          epoch=epoch)\n",
    "    experiment.log_metric('f1_val', f1_score(labels_val,\n",
    "                                             pred_labels_val,\n",
    "                                             average='macro'), \n",
    "                          epoch=epoch)\n",
    "    experiment.log_metric('f1_train', f1_score(labels_train,\n",
    "                                               pred_labels_train,\n",
    "                                               average='macro'), \n",
    "                          epoch=epoch)\n",
    "    \n",
    "    if val_f1 > best_vloss:\n",
    "        best_vloss = val_f1\n",
    "        best_model_params = deepcopy(model.state_dict())"
   ]
  },
  {
   "cell_type": "markdown",
   "metadata": {},
   "source": [
    "## Test"
   ]
  },
  {
   "cell_type": "code",
   "execution_count": 26,
   "metadata": {},
   "outputs": [
    {
     "name": "stderr",
     "output_type": "stream",
     "text": [
      "100%|██████████| 15/15 [00:02<00:00,  5.09it/s]\n"
     ]
    }
   ],
   "source": [
    "model.load_state_dict(best_model_params)\n",
    "pred_labels_val, labels_val = [], []\n",
    "\n",
    "model.eval()\n",
    "with torch.no_grad():\n",
    "    for i, vdata in enumerate(tqdm(validation_loader)):\n",
    "        vinputs, vlabels = vdata\n",
    "        vlabels = vlabels.reshape(-1).to(device)\n",
    "        voutputs = model(vinputs)\n",
    "\n",
    "        _, predicted = torch.max(voutputs.data, 1)\n",
    "        pred_labels_val += predicted.tolist()\n",
    "        labels_val += vlabels.tolist()"
   ]
  },
  {
   "cell_type": "code",
   "execution_count": 27,
   "metadata": {},
   "outputs": [],
   "source": [
    "f1 = f1_score(labels_val,\n",
    "        pred_labels_val,\n",
    "        average='macro')"
   ]
  },
  {
   "cell_type": "code",
   "execution_count": 29,
   "metadata": {},
   "outputs": [
    {
     "data": {
      "text/plain": [
       "0.4358127902822437"
      ]
     },
     "execution_count": 29,
     "metadata": {},
     "output_type": "execute_result"
    }
   ],
   "source": [
    "(np.array(labels_val)==np.array(pred_labels_val)).mean()"
   ]
  },
  {
   "cell_type": "code",
   "execution_count": 30,
   "metadata": {},
   "outputs": [
    {
     "data": {
      "text/plain": [
       "0.2813374799777542"
      ]
     },
     "execution_count": 30,
     "metadata": {},
     "output_type": "execute_result"
    }
   ],
   "source": [
    "f1"
   ]
  },
  {
   "cell_type": "code",
   "execution_count": 31,
   "metadata": {},
   "outputs": [
    {
     "data": {
      "text/plain": [
       "{'web': 'https://www.comet.com/api/asset/download?assetId=a8229a44fbc9417683c4add09c187b3a&experimentKey=202302f303e64a258c47d9f48e0cc93f',\n",
       " 'api': 'https://www.comet.com/api/rest/v2/experiment/asset/get-asset?assetId=a8229a44fbc9417683c4add09c187b3a&experimentKey=202302f303e64a258c47d9f48e0cc93f',\n",
       " 'assetId': 'a8229a44fbc9417683c4add09c187b3a'}"
      ]
     },
     "execution_count": 31,
     "metadata": {},
     "output_type": "execute_result"
    }
   ],
   "source": [
    "experiment.log_confusion_matrix(\n",
    "    np.array(labels_val),np.array(pred_labels_val),\n",
    "    title=\"Confusion Matrix: Evaluation\",\n",
    "    file_name=\"confusion-matrix-eval.json\",\n",
    ")"
   ]
  },
  {
   "cell_type": "code",
   "execution_count": 32,
   "metadata": {},
   "outputs": [
    {
     "name": "stdout",
     "output_type": "stream",
     "text": [
      "(279900,) (279900,) 0.4358127902822437\n"
     ]
    },
    {
     "data": {
      "image/png": "[encoded data removed]",
      "text/plain": [
       "<Figure size 576x576 with 1 Axes>"
      ]
     },
     "metadata": {
      "needs_background": "light"
     },
     "output_type": "display_data"
    }
   ],
   "source": [
    "labels=classes\n",
    "IC = type('IdentityClassifier', (), {\"predict\": lambda i : i, \"_estimator_type\": \"classifier\"})\n",
    "\n",
    "import matplotlib.pyplot as plt\n",
    "from sklearn.metrics import confusion_matrix\n",
    "from sklearn.metrics import ConfusionMatrixDisplay\n",
    "\n",
    "def plt_conf_matrix(y_true,y_pred,labels):\n",
    "    print(y_pred.shape,y_true.shape, (y_pred==y_true).mean())\n",
    "\n",
    "    fig, ax = plt.subplots(figsize=(8, 8))\n",
    "    cm = confusion_matrix(y_true, y_pred)\n",
    "    disp = ConfusionMatrixDisplay(confusion_matrix=cm, display_labels=labels)\n",
    "    disp.plot(ax=ax, cmap='PuRd', colorbar=False)\n",
    "    plt.tight_layout()\n",
    "    plt.show()\n",
    "\n",
    "plt_conf_matrix(np.array(labels_val),np.array(pred_labels_val),labels);"
   ]
  },
  {
   "cell_type": "code",
   "execution_count": 33,
   "metadata": {},
   "outputs": [
    {
     "data": {
      "text/plain": [
       "{'web': 'https://www.comet.com/api/asset/download?assetId=349dc56e9d43482ab0c0447213b538d7&experimentKey=202302f303e64a258c47d9f48e0cc93f',\n",
       " 'api': 'https://www.comet.com/api/rest/v2/experiment/asset/get-asset?assetId=349dc56e9d43482ab0c0447213b538d7&experimentKey=202302f303e64a258c47d9f48e0cc93f',\n",
       " 'assetId': '349dc56e9d43482ab0c0447213b538d7'}"
      ]
     },
     "execution_count": 33,
     "metadata": {},
     "output_type": "execute_result"
    }
   ],
   "source": [
    "torch.save(model.state_dict(), 'mae+emoti+tcn_encdec.pt')\n",
    "experiment.log_model(\"mae+emoti+tcn_encdec.pt\", file_or_folder=\"mae+emoti+tcn_encdec.pt\")"
   ]
  },
  {
   "cell_type": "code",
   "execution_count": 34,
   "metadata": {},
   "outputs": [
    {
     "name": "stderr",
     "output_type": "stream",
     "text": [
      "\u001b[1;38;5;39mCOMET INFO:\u001b[0m ---------------------------------------------------------------------------------------\n",
      "\u001b[1;38;5;39mCOMET INFO:\u001b[0m Comet.ml Experiment Summary\n",
      "\u001b[1;38;5;39mCOMET INFO:\u001b[0m ---------------------------------------------------------------------------------------\n",
      "\u001b[1;38;5;39mCOMET INFO:\u001b[0m   Data:\n",
      "\u001b[1;38;5;39mCOMET INFO:\u001b[0m     display_summary_level : 1\n",
      "\u001b[1;38;5;39mCOMET INFO:\u001b[0m     url                   : https://www.comet.com/annanet/abaw6/202302f303e64a258c47d9f48e0cc93f\n",
      "\u001b[1;38;5;39mCOMET INFO:\u001b[0m   Metrics [count] (min, max):\n",
      "\u001b[1;38;5;39mCOMET INFO:\u001b[0m     f1_train [315]   : (0.16776927770410027, 0.8193780815423681)\n",
      "\u001b[1;38;5;39mCOMET INFO:\u001b[0m     f1_val [315]     : (0.08753548113165169, 0.2813374799777542)\n",
      "\u001b[1;38;5;39mCOMET INFO:\u001b[0m     loss [1451]      : (1.283884048461914, 2.162038803100586)\n",
      "\u001b[1;38;5;39mCOMET INFO:\u001b[0m     loss_train [315] : (2.4316367069880167, 3.089959059821235)\n",
      "\u001b[1;38;5;39mCOMET INFO:\u001b[0m     loss_val [315]   : (1.9344576597213745, 2.101832151412964)\n",
      "\u001b[1;38;5;39mCOMET INFO:\u001b[0m   Others:\n",
      "\u001b[1;38;5;39mCOMET INFO:\u001b[0m     Name : expr-tcn_attention+linear(emoti+mae_encdec)\n",
      "\u001b[1;38;5;39mCOMET INFO:\u001b[0m   Uploads:\n",
      "\u001b[1;38;5;39mCOMET INFO:\u001b[0m     confusion-matrix    : 1\n",
      "\u001b[1;38;5;39mCOMET INFO:\u001b[0m     environment details : 1\n",
      "\u001b[1;38;5;39mCOMET INFO:\u001b[0m     filename            : 1\n",
      "\u001b[1;38;5;39mCOMET INFO:\u001b[0m     installed packages  : 1\n",
      "\u001b[1;38;5;39mCOMET INFO:\u001b[0m     model graph         : 1\n",
      "\u001b[1;38;5;39mCOMET INFO:\u001b[0m     model-element       : 1 (121.60 MB)\n",
      "\u001b[1;38;5;39mCOMET INFO:\u001b[0m     notebook            : 1\n",
      "\u001b[1;38;5;39mCOMET INFO:\u001b[0m     os packages         : 1\n",
      "\u001b[1;38;5;39mCOMET INFO:\u001b[0m     source_code         : 1\n",
      "\u001b[1;38;5;39mCOMET INFO:\u001b[0m \n",
      "\u001b[1;38;5;39mCOMET INFO:\u001b[0m Please wait for assets to finish uploading (timeout is 10800 seconds)\n",
      "\u001b[1;38;5;39mCOMET INFO:\u001b[0m Still uploading 1 file(s), remaining 121.60 MB/121.60 MB\n",
      "\u001b[1;38;5;39mCOMET INFO:\u001b[0m Still uploading 1 asset(s), remaining 101.60 MB/121.60 MB, Throughput 1.33 MB/s, ETA ~77s\n",
      "\u001b[1;38;5;39mCOMET INFO:\u001b[0m Still uploading 1 asset(s), remaining 81.60 MB/121.60 MB, Throughput 1.33 MB/s, ETA ~62s\n",
      "\u001b[1;38;5;39mCOMET INFO:\u001b[0m Still uploading 1 asset(s), remaining 61.60 MB/121.60 MB, Throughput 1.33 MB/s, ETA ~47s\n",
      "\u001b[1;38;5;39mCOMET INFO:\u001b[0m Still uploading 1 asset(s), remaining 46.60 MB/121.60 MB, Throughput 1022.68 KB/s, ETA ~47s\n",
      "\u001b[1;38;5;39mCOMET INFO:\u001b[0m Still uploading 1 asset(s), remaining 26.60 MB/121.60 MB, Throughput 1.33 MB/s, ETA ~20s\n",
      "\u001b[1;38;5;39mCOMET INFO:\u001b[0m Still uploading 1 asset(s), remaining 6.60 MB/121.60 MB, Throughput 1.33 MB/s, ETA ~5s\n"
     ]
    }
   ],
   "source": [
    "experiment.end()"
   ]
  },
  {
   "cell_type": "code",
   "execution_count": null,
   "metadata": {},
   "outputs": [],
   "source": []
  }
 ],
 "metadata": {
  "kaggle": {
   "accelerator": "gpu",
   "dataSources": [
    {
     "datasetId": 4438302,
     "sourceId": 7648578,
     "sourceType": "datasetVersion"
    }
   ],
   "dockerImageVersionId": 30646,
   "isGpuEnabled": true,
   "isInternetEnabled": true,
   "language": "python",
   "sourceType": "notebook"
  },
  "kernelspec": {
   "display_name": "Python 3 (ipykernel)",
   "language": "python",
   "name": "python3"
  },
  "language_info": {
   "codemirror_mode": {
    "name": "ipython",
    "version": 3
   },
   "file_extension": ".py",
   "mimetype": "text/x-python",
   "name": "python",
   "nbconvert_exporter": "python",
   "pygments_lexer": "ipython3",
   "version": "3.8.10"
  }
 },
 "nbformat": 4,
 "nbformat_minor": 4
}
