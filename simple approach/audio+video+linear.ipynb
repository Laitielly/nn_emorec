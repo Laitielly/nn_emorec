{
 "cells": [
  {
   "cell_type": "code",
   "execution_count": 1,
   "metadata": {},
   "outputs": [
    {
     "name": "stdout",
     "output_type": "stream",
     "text": [
      "env: CUDA_VISIBLE_DEVICES=0\n"
     ]
    }
   ],
   "source": [
    "%env CUDA_VISIBLE_DEVICES=0"
   ]
  },
  {
   "cell_type": "code",
   "execution_count": 3,
   "metadata": {
    "execution": {
     "iopub.execute_input": "2024-02-20T05:37:44.875134Z",
     "iopub.status.busy": "2024-02-20T05:37:44.874711Z",
     "iopub.status.idle": "2024-02-20T05:37:49.226295Z",
     "shell.execute_reply": "2024-02-20T05:37:49.225491Z",
     "shell.execute_reply.started": "2024-02-20T05:37:44.875109Z"
    }
   },
   "outputs": [],
   "source": [
    "from comet_ml import Experiment\n",
    "from comet_ml.integration.pytorch import log_model"
   ]
  },
  {
   "cell_type": "code",
   "execution_count": 4,
   "metadata": {
    "execution": {
     "iopub.execute_input": "2024-02-20T05:37:44.275458Z",
     "iopub.status.busy": "2024-02-20T05:37:44.275143Z",
     "iopub.status.idle": "2024-02-20T05:37:44.873569Z",
     "shell.execute_reply": "2024-02-20T05:37:44.872756Z",
     "shell.execute_reply.started": "2024-02-20T05:37:44.275428Z"
    }
   },
   "outputs": [],
   "source": [
    "import os\n",
    "import pickle\n",
    "from tqdm import tqdm\n",
    "from copy import deepcopy\n",
    "\n",
    "import numpy as np\n",
    "import pandas as pd\n",
    "\n",
    "from sklearn.metrics import f1_score"
   ]
  },
  {
   "cell_type": "code",
   "execution_count": 5,
   "metadata": {
    "execution": {
     "iopub.execute_input": "2024-02-20T05:37:49.229613Z",
     "iopub.status.busy": "2024-02-20T05:37:49.228953Z",
     "iopub.status.idle": "2024-02-20T05:37:49.234015Z",
     "shell.execute_reply": "2024-02-20T05:37:49.233138Z",
     "shell.execute_reply.started": "2024-02-20T05:37:49.229579Z"
    }
   },
   "outputs": [],
   "source": [
    "import torch\n",
    "import torch.nn as nn\n",
    "import torch.nn.functional as F\n",
    "import torch.optim as optim\n",
    "from torch.utils.data import DataLoader"
   ]
  },
  {
   "cell_type": "code",
   "execution_count": 6,
   "metadata": {},
   "outputs": [],
   "source": [
    "# /avsavchenko/src/emotions-multimodal/faces/ABAW/abaw5/enet_b0_8_best_vgaf_cropped.pickle"
   ]
  },
  {
   "cell_type": "code",
   "execution_count": 7,
   "metadata": {},
   "outputs": [],
   "source": [
    "# with open('fea_notebooks/features_newvf.pickle', 'rb') as handle:\n",
    "#     data=pickle.load(handle)\n",
    "# print(len(data))"
   ]
  },
  {
   "cell_type": "code",
   "execution_count": 8,
   "metadata": {},
   "outputs": [
    {
     "name": "stdout",
     "output_type": "stream",
     "text": [
      "2942996\n"
     ]
    }
   ],
   "source": [
    "with open('/home/avsavchenko/src/emotions-multimodal/faces/ABAW/abaw5/enet_b0_8_best_vgaf_cropped.pickle', 'rb') as handle:\n",
    "    data=pickle.load(handle)\n",
    "print(len(data))"
   ]
  },
  {
   "cell_type": "code",
   "execution_count": null,
   "metadata": {},
   "outputs": [],
   "source": [
    "# with open('home/avsavchenko/src/emotions-multimodal/faces/ABAW/abaw5/expr_enet0_vgaf.h5', 'rb') as handle:\n",
    "#     model=pickle.load(handle)\n",
    "# model"
   ]
  },
  {
   "cell_type": "code",
   "execution_count": 5,
   "metadata": {
    "execution": {
     "iopub.execute_input": "2024-02-20T05:37:49.235656Z",
     "iopub.status.busy": "2024-02-20T05:37:49.235337Z",
     "iopub.status.idle": "2024-02-20T05:41:43.885985Z",
     "shell.execute_reply": "2024-02-20T05:41:43.885010Z",
     "shell.execute_reply.started": "2024-02-20T05:37:49.235625Z"
    }
   },
   "outputs": [
    {
     "name": "stdout",
     "output_type": "stream",
     "text": [
      "2941546\n"
     ]
    }
   ],
   "source": [
    "# with open('fea_notebooks/features_newvf.pickle', 'rb') as handle:\n",
    "#     data=pickle.load(handle)\n",
    "# print(len(data))"
   ]
  },
  {
   "cell_type": "code",
   "execution_count": 9,
   "metadata": {
    "execution": {
     "iopub.execute_input": "2024-02-20T05:41:43.887699Z",
     "iopub.status.busy": "2024-02-20T05:41:43.887344Z",
     "iopub.status.idle": "2024-02-20T05:41:43.943929Z",
     "shell.execute_reply": "2024-02-20T05:41:43.943079Z",
     "shell.execute_reply.started": "2024-02-20T05:41:43.887667Z"
    }
   },
   "outputs": [
    {
     "name": "stdout",
     "output_type": "stream",
     "text": [
      "Torch: 2.0.1+cu118\n",
      "cuda:0\n"
     ]
    }
   ],
   "source": [
    "print(f\"Torch: {torch.__version__}\")\n",
    "device = 'cuda:0' if torch.cuda.is_available() else 'cpu'\n",
    "print(device)"
   ]
  },
  {
   "cell_type": "code",
   "execution_count": 10,
   "metadata": {},
   "outputs": [],
   "source": [
    "results = pd.DataFrame(columns=['f1-score val'])"
   ]
  },
  {
   "cell_type": "markdown",
   "metadata": {},
   "source": [
    "# EXPR_Recognition_Challenge"
   ]
  },
  {
   "cell_type": "code",
   "execution_count": 10,
   "metadata": {
    "execution": {
     "iopub.execute_input": "2024-02-20T05:41:43.945157Z",
     "iopub.status.busy": "2024-02-20T05:41:43.944909Z",
     "iopub.status.idle": "2024-02-20T05:41:50.188934Z",
     "shell.execute_reply": "2024-02-20T05:41:50.187801Z",
     "shell.execute_reply.started": "2024-02-20T05:41:43.945135Z"
    }
   },
   "outputs": [
    {
     "name": "stderr",
     "output_type": "stream",
     "text": [
      "\u001b[1;38;5;214mCOMET WARNING:\u001b[0m As you are running in a Jupyter environment, you will need to call `experiment.end()` when finished to ensure all metrics and code are logged before exiting.\n",
      "\u001b[1;38;5;39mCOMET INFO:\u001b[0m Couldn't find a Git repository in '/home/hse_student/apsidorova' nor in any parent directory. Set `COMET_GIT_DIRECTORY` if your Git Repository is elsewhere.\n",
      "\u001b[1;38;5;39mCOMET INFO:\u001b[0m Experiment is live on comet.com https://www.comet.com/annanet/abaw6/eba0fc5afba84c59b1520219178b2dc8\n",
      "\n"
     ]
    }
   ],
   "source": [
    "experiment = Experiment(\n",
    "  api_key=\"XhQqrLR91F7zW3AZ7LgVT3zp2\",\n",
    "  project_name=\"abaw6\",\n",
    "  workspace=\"annanet\"\n",
    ")\n",
    "\n",
    "experiment.set_name('expr-only video')\n",
    "experiment.add_tags(['expr_classif - only video', 'v1_linear'])"
   ]
  },
  {
   "cell_type": "code",
   "execution_count": 11,
   "metadata": {
    "execution": {
     "iopub.execute_input": "2024-02-20T05:41:50.191261Z",
     "iopub.status.busy": "2024-02-20T05:41:50.190550Z",
     "iopub.status.idle": "2024-02-20T05:41:50.196839Z",
     "shell.execute_reply": "2024-02-20T05:41:50.195801Z",
     "shell.execute_reply.started": "2024-02-20T05:41:50.191226Z"
    }
   },
   "outputs": [],
   "source": [
    "idx_to_class_2={0: 'Neutral', 1:'Anger', 2:'Disgust', 3:'Fear', \n",
    "                4:'Happiness', 5:'Sadness', 6:'Surprise', 7:'Other'} #ABAW\n",
    "classes = ['Neutral', 'Anger', 'Disgust', 'Fear', \n",
    "           'Happiness', 'Sadness', 'Surprise', 'Other']"
   ]
  },
  {
   "cell_type": "code",
   "execution_count": 12,
   "metadata": {
    "execution": {
     "iopub.execute_input": "2024-02-20T05:41:50.198725Z",
     "iopub.status.busy": "2024-02-20T05:41:50.198027Z",
     "iopub.status.idle": "2024-02-20T05:41:54.354176Z",
     "shell.execute_reply": "2024-02-20T05:41:54.353109Z",
     "shell.execute_reply.started": "2024-02-20T05:41:50.198698Z"
    }
   },
   "outputs": [
    {
     "name": "stdout",
     "output_type": "stream",
     "text": [
      "585317 12044\n",
      "280532 3698\n"
     ]
    }
   ],
   "source": [
    "# DATA_DIR = '/home/HDD6TB/datasets/emotions/ABAW/ABAW_6/6th_ABAW_Annotations'\n",
    "DATA_DIR = '/home/HDD6TB/datasets/emotions/ABAW/ABAW_5/VA_AU_FER'\n",
    "\n",
    "def get_image2Expr(dirname):\n",
    "#     dirpath=os.path.join(DATA_DIR,'EXPR_Recognition_Challenge/',dirname)\n",
    "    dirpath=os.path.join(DATA_DIR,'EXPR_Classification_Challenge/',dirname)\n",
    "    num_missed=[]\n",
    "    targets = {}\n",
    "    for filename in os.listdir(dirpath):\n",
    "        fn, ext = os.path.splitext(os.path.basename(filename))\n",
    "        if ext.lower()=='.txt':\n",
    "            with open(os.path.join(dirpath,filename)) as f:\n",
    "                lines = f.read().splitlines()\n",
    "                prev_val=None\n",
    "                for i,line in enumerate(lines):\n",
    "                    if i>0:\n",
    "                        expression=int(line)\n",
    "                        if expression>=0:\n",
    "                            imagename=fn+'/'+str(i).zfill(5)+'.jpg'\n",
    "                            if imagename in data:\n",
    "                                targets[imagename] = expression\n",
    "                            else:\n",
    "                                num_missed.append(imagename)\n",
    "    print(len(targets), len(num_missed))\n",
    "    return targets, num_missed\n",
    "\n",
    "y_train, num_missed_train = get_image2Expr('Train_Set')\n",
    "y_val, num_missed_test =get_image2Expr('Validation_Set')"
   ]
  },
  {
   "cell_type": "markdown",
   "metadata": {},
   "source": [
    "## Simple video"
   ]
  },
  {
   "cell_type": "code",
   "execution_count": 13,
   "metadata": {
    "execution": {
     "iopub.execute_input": "2024-02-20T05:41:54.359637Z",
     "iopub.status.busy": "2024-02-20T05:41:54.359285Z",
     "iopub.status.idle": "2024-02-20T05:41:55.358245Z",
     "shell.execute_reply": "2024-02-20T05:41:55.357167Z",
     "shell.execute_reply.started": "2024-02-20T05:41:54.359603Z"
    }
   },
   "outputs": [
    {
     "data": {
      "text/plain": [
       "(585317, 280532, 585317, 280532)"
      ]
     },
     "execution_count": 13,
     "metadata": {},
     "output_type": "execute_result"
    }
   ],
   "source": [
    "X_train, y_t = [], []\n",
    "for key in y_train.keys():\n",
    "#     X_train.append(data[key]['frame'][0])\n",
    "    X_train.append(data[key][0])\n",
    "    y_t.append(y_train[key])\n",
    "\n",
    "X_val, y_v = [], []\n",
    "for key in y_val.keys():\n",
    "#     X_val.append(data[key]['frame'][0])\n",
    "    X_val.append(data[key][0])\n",
    "    y_v.append(y_val[key])\n",
    "    \n",
    "len(X_train), len(X_val), len(y_t), len(y_v)"
   ]
  },
  {
   "cell_type": "markdown",
   "metadata": {},
   "source": [
    "### keras"
   ]
  },
  {
   "cell_type": "code",
   "execution_count": 14,
   "metadata": {},
   "outputs": [
    {
     "name": "stdout",
     "output_type": "stream",
     "text": [
      "2.13.1\n"
     ]
    }
   ],
   "source": [
    "import tensorflow as tf\n",
    "from tensorflow.keras.models import Model,Sequential, load_model,model_from_json\n",
    "from tensorflow.keras.applications import mobilenet,mobilenet_v2,densenet,inception_resnet_v2,inception_v3,vgg16,resnet_v2,resnet\n",
    "import efficientnet.tfkeras as enet\n",
    "from tensorflow.keras.layers import Flatten, Dense, Dropout,GlobalAveragePooling2D,Activation, Conv2D, Reshape,DepthwiseConv2D,Input\n",
    "from tensorflow.keras.optimizers import SGD, Adam\n",
    "from tensorflow.keras.utils import to_categorical\n",
    "from tensorflow.keras.callbacks import ModelCheckpoint, TensorBoard, Callback, CSVLogger, EarlyStopping\n",
    "from tensorflow.keras.metrics import top_k_categorical_accuracy\n",
    "import numpy as np\n",
    "from sklearn.metrics import confusion_matrix\n",
    "from tensorflow.keras.preprocessing.image import ImageDataGenerator\n",
    "\n",
    "import tensorflow.keras.backend as K \n",
    "\n",
    "print(tf.__version__)\n",
    "from tensorflow.compat.v1.keras.backend import set_session \n",
    "config = tf.compat.v1.ConfigProto()\n",
    "config.gpu_options.allow_growth = True\n",
    "sess=tf.compat.v1.Session(config=config)\n",
    "set_session(sess)"
   ]
  },
  {
   "cell_type": "code",
   "execution_count": 15,
   "metadata": {},
   "outputs": [
    {
     "name": "stdout",
     "output_type": "stream",
     "text": [
      "[177198  16573  10771   9080  95463  78751  31615 165866] {0: 1.0, 1: 10.691968865021419, 2: 16.451397270448425, 3: 19.515198237885464, 4: 1.856195594104522, 5: 2.2501047605744686, 6: 5.6048711054879, 7: 1.0683202102902343} 8 [0 1 2 3 4 5 6 7]\n",
      "\n",
      "(array([0, 1, 2, 3, 4, 5, 6, 7]), array([ 82258,   6126,   5296,   8408,  34511,  25157,  12332, 106444]))\n"
     ]
    }
   ],
   "source": [
    "(unique, counts) = np.unique(y_t, return_counts=True)\n",
    "num_classes=len(unique)\n",
    "cw=1/counts\n",
    "cw/=cw.min()\n",
    "class_weights = {i:cwi for i,cwi in zip(unique,cw)}\n",
    "print(counts, class_weights, num_classes, unique)\n",
    "print()\n",
    "print(np.unique(y_v, return_counts=True))"
   ]
  },
  {
   "cell_type": "code",
   "execution_count": 16,
   "metadata": {},
   "outputs": [
    {
     "data": {
      "text/plain": [
       "array([-0.11533788, -0.10590152, -0.17468455, ..., -0.07262666,\n",
       "        0.01172303, -0.01389069], dtype=float32)"
      ]
     },
     "execution_count": 16,
     "metadata": {},
     "output_type": "execute_result"
    }
   ],
   "source": [
    "X_train[0]"
   ]
  },
  {
   "cell_type": "code",
   "execution_count": 17,
   "metadata": {},
   "outputs": [],
   "source": [
    "X_train = np.array(X_train)\n",
    "X_val = np.array(X_val)"
   ]
  },
  {
   "cell_type": "code",
   "execution_count": 18,
   "metadata": {},
   "outputs": [],
   "source": [
    "batch_size=256 #128\n",
    "mlpModel=Sequential()\n",
    "if False:\n",
    "    mlpModel.add(Dense(num_classes, input_shape=X_train.shape[1:],activation='softmax',use_bias=True,kernel_regularizer=tf.keras.regularizers.l2(1.0/batch_size)))\n",
    "else:\n",
    "    mlpModel.add(Dense(128, input_shape=X_train.shape[1:],activation='relu')) #256\n",
    "    mlpModel.add(Dense(num_classes,activation='softmax'))"
   ]
  },
  {
   "cell_type": "code",
   "execution_count": 19,
   "metadata": {},
   "outputs": [],
   "source": [
    "y_t, y_v = np.array(y_t), np.array(y_v)"
   ]
  },
  {
   "cell_type": "code",
   "execution_count": 20,
   "metadata": {},
   "outputs": [
    {
     "name": "stderr",
     "output_type": "stream",
     "text": [
      "WARNING:absl:`lr` is deprecated in Keras optimizer, please use `learning_rate` or use the legacy optimizer, e.g.,tf.keras.optimizers.legacy.Adam.\n"
     ]
    },
    {
     "name": "stdout",
     "output_type": "stream",
     "text": [
      "Model: \"sequential\"\n",
      "_________________________________________________________________\n",
      " Layer (type)                Output Shape              Param #   \n",
      "=================================================================\n",
      " dense (Dense)               (None, 128)               163968    \n",
      "                                                                 \n",
      " dense_1 (Dense)             (None, 8)                 1032      \n",
      "                                                                 \n",
      "=================================================================\n",
      "Total params: 165000 (644.53 KB)\n",
      "Trainable params: 165000 (644.53 KB)\n",
      "Non-trainable params: 0 (0.00 Byte)\n",
      "_________________________________________________________________\n",
      "2287/2287 [==============================] - 21s 8ms/step - loss: 1.0513 - accuracy: 0.8293 - val_loss: 1.9463 - val_accuracy: 0.4672\n"
     ]
    },
    {
     "data": {
      "text/plain": [
       "<keras.src.callbacks.History at 0x7f023ff7dd00>"
      ]
     },
     "execution_count": 20,
     "metadata": {},
     "output_type": "execute_result"
    }
   ],
   "source": [
    "mlpModel.compile(optimizer=Adam(lr=1e-3), loss='sparse_categorical_crossentropy', metrics=['accuracy'])\n",
    "mlpModel.summary()\n",
    "\n",
    "# save_best_model = SaveBestModel('val_accuracy',True)\n",
    "mlpModel.fit(X_train,y_t, batch_size=batch_size, epochs=1 if True else 10, verbose=1, validation_data=(X_val,y_v),class_weight=class_weights)"
   ]
  },
  {
   "cell_type": "code",
   "execution_count": 21,
   "metadata": {},
   "outputs": [],
   "source": [
    "def print_expr():\n",
    "    y_val_preds=mlpModel.predict(X_val)\n",
    "    y_pred=np.argmax(y_val_preds,axis=1)\n",
    "    print('F1:',f1_score(y_true=y_v,y_pred=y_pred, average=\"macro\"))"
   ]
  },
  {
   "cell_type": "code",
   "execution_count": 22,
   "metadata": {},
   "outputs": [
    {
     "name": "stdout",
     "output_type": "stream",
     "text": [
      "8767/8767 [==============================] - 23s 3ms/step\n",
      "F1: 0.3373286558762978\n"
     ]
    }
   ],
   "source": [
    "print_expr()"
   ]
  },
  {
   "cell_type": "markdown",
   "metadata": {},
   "source": [
    "## Simple video"
   ]
  },
  {
   "cell_type": "code",
   "execution_count": 23,
   "metadata": {},
   "outputs": [],
   "source": [
    "# import gc\n",
    "\n",
    "# gc.collect()\n",
    "# del data\n",
    "# gc.collect()"
   ]
  },
  {
   "cell_type": "code",
   "execution_count": 24,
   "metadata": {},
   "outputs": [],
   "source": [
    "# X_train_c=np.concatenate((X_train,X_val))\n",
    "# y_train_c=np.concatenate((y_t,y_v))\n",
    "# print(X_train_c.shape,y_train_c.shape)"
   ]
  },
  {
   "cell_type": "code",
   "execution_count": 25,
   "metadata": {
    "execution": {
     "iopub.execute_input": "2024-02-20T05:41:55.360014Z",
     "iopub.status.busy": "2024-02-20T05:41:55.359597Z",
     "iopub.status.idle": "2024-02-20T05:41:55.468232Z",
     "shell.execute_reply": "2024-02-20T05:41:55.467074Z",
     "shell.execute_reply.started": "2024-02-20T05:41:55.359955Z"
    }
   },
   "outputs": [
    {
     "name": "stdout",
     "output_type": "stream",
     "text": [
      "[177198  16573  10771   9080  95463  78751  31615 165866] {0: 1.0, 1: 10.691968865021419, 2: 16.451397270448425, 3: 19.515198237885464, 4: 1.856195594104522, 5: 2.2501047605744686, 6: 5.6048711054879, 7: 1.0683202102902343} 8 [0 1 2 3 4 5 6 7]\n",
      "\n",
      "(array([0, 1, 2, 3, 4, 5, 6, 7]), array([ 82258,   6126,   5296,   8408,  34511,  25157,  12332, 106444]))\n"
     ]
    }
   ],
   "source": [
    "(unique, counts) = np.unique(y_t, return_counts=True)\n",
    "num_classes=len(unique)\n",
    "cw=1/counts\n",
    "cw/=cw.min()\n",
    "class_weights = {i:cwi for i,cwi in zip(unique,cw)}\n",
    "print(counts, class_weights, num_classes, unique)\n",
    "print()\n",
    "print(np.unique(y_v, return_counts=True))"
   ]
  },
  {
   "cell_type": "code",
   "execution_count": 26,
   "metadata": {
    "execution": {
     "iopub.execute_input": "2024-02-20T05:41:55.469925Z",
     "iopub.status.busy": "2024-02-20T05:41:55.469557Z",
     "iopub.status.idle": "2024-02-20T05:41:55.707855Z",
     "shell.execute_reply": "2024-02-20T05:41:55.706755Z",
     "shell.execute_reply.started": "2024-02-20T05:41:55.469894Z"
    }
   },
   "outputs": [
    {
     "data": {
      "text/plain": [
       "onlyVideo(\n",
       "  (linear1): Linear(in_features=1280, out_features=256, bias=True)\n",
       "  (activation): ReLU()\n",
       "  (linear2): Linear(in_features=256, out_features=8, bias=True)\n",
       "  (softmax): Softmax(dim=1)\n",
       ")"
      ]
     },
     "execution_count": 26,
     "metadata": {},
     "output_type": "execute_result"
    }
   ],
   "source": [
    "class onlyVideo(nn.Module):\n",
    "    def __init__(self, input_size, classes):\n",
    "        super(onlyVideo, self).__init__()\n",
    "\n",
    "        self.linear1 = nn.Linear(input_size, 256)\n",
    "        self.activation = nn.ReLU()\n",
    "        self.linear2 = nn.Linear(256, classes)\n",
    "        self.softmax = nn.Softmax(dim=1)\n",
    "\n",
    "    def forward(self, x):\n",
    "        x = self.linear1(x)\n",
    "        x = self.activation(x)\n",
    "        x = self.linear2(x)\n",
    "        x = self.softmax(x)\n",
    "        return x\n",
    "    \n",
    "model = onlyVideo(X_train[0].shape[0], num_classes)\n",
    "model.to(device)"
   ]
  },
  {
   "cell_type": "code",
   "execution_count": 28,
   "metadata": {
    "execution": {
     "iopub.execute_input": "2024-02-20T05:41:55.709627Z",
     "iopub.status.busy": "2024-02-20T05:41:55.709264Z",
     "iopub.status.idle": "2024-02-20T05:41:55.850443Z",
     "shell.execute_reply": "2024-02-20T05:41:55.849342Z",
     "shell.execute_reply.started": "2024-02-20T05:41:55.709594Z"
    }
   },
   "outputs": [],
   "source": [
    "hyperparams = {\n",
    "    'epochs': 1,\n",
    "    'loss': 'categorical_crossentropy',\n",
    "    'lr': 1e-3,\n",
    "    'batch': 256\n",
    "}\n",
    "\n",
    "training_loader = DataLoader(list(zip(X_train, y_t)),\n",
    "                             batch_size=hyperparams['batch'], \n",
    "                             shuffle=True)\n",
    "validation_loader = DataLoader(list(zip(X_val, y_v)),\n",
    "                             batch_size=hyperparams['batch'], \n",
    "                             shuffle=True)"
   ]
  },
  {
   "cell_type": "code",
   "execution_count": 29,
   "metadata": {
    "execution": {
     "iopub.execute_input": "2024-02-20T05:41:55.852249Z",
     "iopub.status.busy": "2024-02-20T05:41:55.851891Z",
     "iopub.status.idle": "2024-02-20T05:44:13.433767Z",
     "shell.execute_reply": "2024-02-20T05:44:13.432585Z",
     "shell.execute_reply.started": "2024-02-20T05:41:55.852218Z"
    }
   },
   "outputs": [
    {
     "name": "stdout",
     "output_type": "stream",
     "text": [
      "EPOCH 1:\n",
      "LOSS train 2.4710752283494304 valid 1.9386351108551025, f1_valid 0.3263215214175432\n"
     ]
    }
   ],
   "source": [
    "experiment.log_parameters(hyperparams)\n",
    "\n",
    "loss_fn = nn.CrossEntropyLoss(weight=torch.Tensor(cw)).to(device)\n",
    "optimizer = optim.Adam(model.parameters(), lr=hyperparams['lr'])\n",
    "\n",
    "best_model_params = deepcopy(model.state_dict())\n",
    "\n",
    "best_vloss = 1e+6\n",
    "# hyperparams['epochs'] = 5\n",
    "\n",
    "for epoch in range(hyperparams['epochs']):\n",
    "    print('EPOCH {}:'.format(epoch + 1))\n",
    "    pred_labels_train, pred_labels_val = [], []\n",
    "    labels_train, labels_val = [], []\n",
    "\n",
    "    model.train(True)\n",
    "    \n",
    "    running_loss = 0.\n",
    "    last_loss = 0.\n",
    "\n",
    "    for i, tdata in enumerate(training_loader):\n",
    "        inputs, labels = tdata\n",
    "        inputs, labels = inputs.to(device), labels.to(device)\n",
    "        optimizer.zero_grad()\n",
    "\n",
    "        outputs = model(inputs)\n",
    "\n",
    "        loss = loss_fn(outputs, labels)\n",
    "        loss.backward()\n",
    "\n",
    "        optimizer.step()\n",
    "        running_loss += loss.item()\n",
    "        \n",
    "        _, predicted = torch.max(outputs.data, 1)\n",
    "        pred_labels_train += predicted.tolist()\n",
    "        labels_train += labels.tolist()\n",
    "    \n",
    "    avg_loss = running_loss / i + 1\n",
    "    experiment.log_metric('loss_train', avg_loss, \n",
    "                          epoch=epoch)\n",
    "    \n",
    "    running_vloss = 0.0\n",
    "    model.eval()\n",
    "    with torch.no_grad():\n",
    "        for i, vdata in enumerate(validation_loader):\n",
    "            vinputs, vlabels = vdata\n",
    "            vinputs, vlabels = vinputs.to(device), vlabels.to(device)\n",
    "            voutputs = model(vinputs)\n",
    "            vloss = loss_fn(voutputs, vlabels)\n",
    "            running_vloss += vloss\n",
    "            \n",
    "            _, predicted = torch.max(voutputs.data, 1)\n",
    "            pred_labels_val += predicted.tolist()\n",
    "            labels_val += vlabels.tolist()\n",
    "\n",
    "    avg_vloss = running_vloss / (i + 1)\n",
    "    print('LOSS train {} valid {}, f1_valid {}'.format(avg_loss, avg_vloss, f1_score(labels_val,\n",
    "                                                                                     pred_labels_val,\n",
    "                                                                                     average='macro')))\n",
    "    experiment.log_metric('loss_val', avg_vloss, \n",
    "                          epoch=epoch)\n",
    "    experiment.log_metric('f1_val', f1_score(labels_val,\n",
    "                                             pred_labels_val,\n",
    "                                             average='macro'), \n",
    "                          epoch=epoch)\n",
    "    experiment.log_metric('f1_train', f1_score(labels_train,\n",
    "                                               pred_labels_train,\n",
    "                                               average='macro'), \n",
    "                          epoch=epoch)\n",
    "    \n",
    "    if avg_vloss < best_vloss:\n",
    "        best_vloss = avg_vloss\n",
    "        best_model_params = deepcopy(model.state_dict())"
   ]
  },
  {
   "cell_type": "code",
   "execution_count": 30,
   "metadata": {},
   "outputs": [
    {
     "data": {
      "text/plain": [
       "0.4575271270300714"
      ]
     },
     "execution_count": 30,
     "metadata": {},
     "output_type": "execute_result"
    }
   ],
   "source": [
    "(np.array(labels_val)==np.array(pred_labels_val)).mean()"
   ]
  },
  {
   "cell_type": "code",
   "execution_count": null,
   "metadata": {
    "execution": {
     "iopub.execute_input": "2024-02-20T05:44:13.435460Z",
     "iopub.status.busy": "2024-02-20T05:44:13.435161Z",
     "iopub.status.idle": "2024-02-20T05:44:16.265386Z",
     "shell.execute_reply": "2024-02-20T05:44:16.264368Z",
     "shell.execute_reply.started": "2024-02-20T05:44:13.435435Z"
    }
   },
   "outputs": [],
   "source": [
    "model.load_state_dict(best_model_params)\n",
    "pred_labels_val, labels_val = [], []\n",
    "\n",
    "model.eval()\n",
    "with torch.no_grad():\n",
    "    for i, vdata in enumerate(validation_loader):\n",
    "        vinputs, vlabels = vdata\n",
    "        vinputs, vlabels = vinputs.to(device), vlabels.to(device)\n",
    "        voutputs = model(vinputs)\n",
    "\n",
    "        _, predicted = torch.max(voutputs.data, 1)\n",
    "        pred_labels_val += predicted.tolist()\n",
    "        labels_val += vlabels.tolist()\n",
    "        \n",
    "f1 = f1_score(labels_val,\n",
    "        pred_labels_val,\n",
    "        average='macro')"
   ]
  },
  {
   "cell_type": "code",
   "execution_count": 21,
   "metadata": {},
   "outputs": [],
   "source": [
    "results.loc['only video',: ] = f1"
   ]
  },
  {
   "cell_type": "code",
   "execution_count": 22,
   "metadata": {
    "execution": {
     "iopub.execute_input": "2024-02-20T05:44:16.266871Z",
     "iopub.status.busy": "2024-02-20T05:44:16.266558Z",
     "iopub.status.idle": "2024-02-20T05:44:18.014755Z",
     "shell.execute_reply": "2024-02-20T05:44:18.013786Z",
     "shell.execute_reply.started": "2024-02-20T05:44:16.266845Z"
    }
   },
   "outputs": [
    {
     "data": {
      "text/plain": [
       "{'web': 'https://www.comet.com/api/asset/download?assetId=d052b7eaffe14c1d890c9fb4e88a9b53&experimentKey=58107321df414c69a15bc7f3771cc77f',\n",
       " 'api': 'https://www.comet.com/api/rest/v2/experiment/asset/get-asset?assetId=d052b7eaffe14c1d890c9fb4e88a9b53&experimentKey=58107321df414c69a15bc7f3771cc77f',\n",
       " 'assetId': 'd052b7eaffe14c1d890c9fb4e88a9b53'}"
      ]
     },
     "execution_count": 22,
     "metadata": {},
     "output_type": "execute_result"
    }
   ],
   "source": [
    "experiment.log_confusion_matrix(\n",
    "    np.array(labels_val),np.array(pred_labels_val),\n",
    "    title=\"Confusion Matrix: Evaluation\",\n",
    "    file_name=\"confusion-matrix-eval.json\",\n",
    ")"
   ]
  },
  {
   "cell_type": "code",
   "execution_count": 23,
   "metadata": {
    "execution": {
     "iopub.execute_input": "2024-02-20T05:44:18.016687Z",
     "iopub.status.busy": "2024-02-20T05:44:18.016086Z",
     "iopub.status.idle": "2024-02-20T05:44:18.614264Z",
     "shell.execute_reply": "2024-02-20T05:44:18.613326Z",
     "shell.execute_reply.started": "2024-02-20T05:44:18.016649Z"
    }
   },
   "outputs": [
    {
     "name": "stdout",
     "output_type": "stream",
     "text": [
      "(279749,) (279749,) 0.9223875688563676\n"
     ]
    },
    {
     "data": {
      "image/png": "[encoded data removed]",
      "text/plain": [
       "<Figure size 576x576 with 1 Axes>"
      ]
     },
     "metadata": {
      "needs_background": "light"
     },
     "output_type": "display_data"
    }
   ],
   "source": [
    "labels=classes\n",
    "IC = type('IdentityClassifier', (), {\"predict\": lambda i : i, \"_estimator_type\": \"classifier\"})\n",
    "\n",
    "import matplotlib.pyplot as plt\n",
    "from sklearn.metrics import confusion_matrix\n",
    "from sklearn.metrics import ConfusionMatrixDisplay\n",
    "\n",
    "def plt_conf_matrix(y_true,y_pred,labels):\n",
    "    print(y_pred.shape,y_true.shape, (y_pred==y_true).mean())\n",
    "\n",
    "    fig, ax = plt.subplots(figsize=(8, 8))\n",
    "    cm = confusion_matrix(y_true, y_pred)\n",
    "    disp = ConfusionMatrixDisplay(confusion_matrix=cm, display_labels=labels)\n",
    "    disp.plot(ax=ax, cmap='PuRd', colorbar=False)\n",
    "    plt.tight_layout()\n",
    "    plt.show()\n",
    "\n",
    "plt_conf_matrix(np.array(labels_val),np.array(pred_labels_val),labels);"
   ]
  },
  {
   "cell_type": "code",
   "execution_count": 20,
   "metadata": {
    "execution": {
     "iopub.execute_input": "2024-02-20T05:44:18.616017Z",
     "iopub.status.busy": "2024-02-20T05:44:18.615579Z",
     "iopub.status.idle": "2024-02-20T05:44:18.726944Z",
     "shell.execute_reply": "2024-02-20T05:44:18.726179Z",
     "shell.execute_reply.started": "2024-02-20T05:44:18.615985Z"
    }
   },
   "outputs": [],
   "source": [
    "torch.save(model.state_dict(), 'simplemodel.pt')"
   ]
  },
  {
   "cell_type": "code",
   "execution_count": 21,
   "metadata": {
    "execution": {
     "iopub.execute_input": "2024-02-20T05:44:18.728246Z",
     "iopub.status.busy": "2024-02-20T05:44:18.727963Z",
     "iopub.status.idle": "2024-02-20T05:44:18.738412Z",
     "shell.execute_reply": "2024-02-20T05:44:18.737626Z",
     "shell.execute_reply.started": "2024-02-20T05:44:18.728222Z"
    }
   },
   "outputs": [
    {
     "data": {
      "text/plain": [
       "{'web': 'https://www.comet.com/api/asset/download?assetId=11f0cc0c2e784f7e8947994cb3fb0003&experimentKey=cd9e2b15caf343f394ea0aa28c795d0d',\n",
       " 'api': 'https://www.comet.com/api/rest/v2/experiment/asset/get-asset?assetId=11f0cc0c2e784f7e8947994cb3fb0003&experimentKey=cd9e2b15caf343f394ea0aa28c795d0d',\n",
       " 'assetId': '11f0cc0c2e784f7e8947994cb3fb0003'}"
      ]
     },
     "execution_count": 21,
     "metadata": {},
     "output_type": "execute_result"
    }
   ],
   "source": [
    "experiment.log_model(\"simplemodel.pt\", file_or_folder=\"simplemodel.pt\")"
   ]
  },
  {
   "cell_type": "code",
   "execution_count": 24,
   "metadata": {
    "execution": {
     "iopub.execute_input": "2024-02-20T05:44:18.740025Z",
     "iopub.status.busy": "2024-02-20T05:44:18.739690Z",
     "iopub.status.idle": "2024-02-20T05:44:22.187489Z",
     "shell.execute_reply": "2024-02-20T05:44:22.186659Z",
     "shell.execute_reply.started": "2024-02-20T05:44:18.739995Z"
    }
   },
   "outputs": [
    {
     "name": "stderr",
     "output_type": "stream",
     "text": [
      "\u001b[1;38;5;39mCOMET INFO:\u001b[0m ---------------------------------------------------------------------------------------\n",
      "\u001b[1;38;5;39mCOMET INFO:\u001b[0m Comet.ml Experiment Summary\n",
      "\u001b[1;38;5;39mCOMET INFO:\u001b[0m ---------------------------------------------------------------------------------------\n",
      "\u001b[1;38;5;39mCOMET INFO:\u001b[0m   Data:\n",
      "\u001b[1;38;5;39mCOMET INFO:\u001b[0m     display_summary_level : 1\n",
      "\u001b[1;38;5;39mCOMET INFO:\u001b[0m     url                   : https://www.comet.com/annanet/abaw6/58107321df414c69a15bc7f3771cc77f\n",
      "\u001b[1;38;5;39mCOMET INFO:\u001b[0m   Metrics [count] (min, max):\n",
      "\u001b[1;38;5;39mCOMET INFO:\u001b[0m     f1_train [10]   : (0.7045167530968035, 0.9057479942505359)\n",
      "\u001b[1;38;5;39mCOMET INFO:\u001b[0m     f1_val [10]     : (0.7906992371998944, 0.9136834740158497)\n",
      "\u001b[1;38;5;39mCOMET INFO:\u001b[0m     loss [3386]     : (1.2977038621902466, 2.0802061557769775)\n",
      "\u001b[1;38;5;39mCOMET INFO:\u001b[0m     loss_train [10] : (2.3408527805674906, 2.4847490593460853)\n",
      "\u001b[1;38;5;39mCOMET INFO:\u001b[0m     loss_val [10]   : (1.3363474607467651, 1.414238452911377)\n",
      "\u001b[1;38;5;39mCOMET INFO:\u001b[0m   Others:\n",
      "\u001b[1;38;5;39mCOMET INFO:\u001b[0m     Name : expr-only video\n",
      "\u001b[1;38;5;39mCOMET INFO:\u001b[0m   Parameters:\n",
      "\u001b[1;38;5;39mCOMET INFO:\u001b[0m     batch  : 256\n",
      "\u001b[1;38;5;39mCOMET INFO:\u001b[0m     epochs : 10\n",
      "\u001b[1;38;5;39mCOMET INFO:\u001b[0m     loss   : sparse_categorical_crossentropy\n",
      "\u001b[1;38;5;39mCOMET INFO:\u001b[0m     lr     : 0.001\n",
      "\u001b[1;38;5;39mCOMET INFO:\u001b[0m   Uploads:\n",
      "\u001b[1;38;5;39mCOMET INFO:\u001b[0m     confusion-matrix    : 1\n",
      "\u001b[1;38;5;39mCOMET INFO:\u001b[0m     environment details : 1\n",
      "\u001b[1;38;5;39mCOMET INFO:\u001b[0m     filename            : 1\n",
      "\u001b[1;38;5;39mCOMET INFO:\u001b[0m     installed packages  : 1\n",
      "\u001b[1;38;5;39mCOMET INFO:\u001b[0m     model graph         : 1\n",
      "\u001b[1;38;5;39mCOMET INFO:\u001b[0m     notebook            : 1\n",
      "\u001b[1;38;5;39mCOMET INFO:\u001b[0m     os packages         : 1\n",
      "\u001b[1;38;5;39mCOMET INFO:\u001b[0m     source_code         : 1\n",
      "\u001b[1;38;5;39mCOMET INFO:\u001b[0m \n"
     ]
    }
   ],
   "source": [
    "experiment.end()"
   ]
  },
  {
   "cell_type": "markdown",
   "metadata": {},
   "source": [
    "## openl3"
   ]
  },
  {
   "cell_type": "code",
   "execution_count": 10,
   "metadata": {},
   "outputs": [],
   "source": [
    "def train_val_split(feature, y_train, y_val):\n",
    "    X_train, op_train, y_t = [], [], []\n",
    "    for key in y_train.keys():\n",
    "        X_train.append(data[key]['frame'][0])\n",
    "        op_train.append(data[key][feature])\n",
    "        y_t.append(y_train[key])\n",
    "\n",
    "    X_val, op_val, y_v = [], [], []\n",
    "    for key in y_val.keys():\n",
    "        X_val.append(data[key]['frame'][0])\n",
    "        op_val.append(data[key][feature])\n",
    "        y_v.append(y_val[key])\n",
    "\n",
    "    print(len(X_train), len(op_train), \n",
    "          len(y_t), len(X_val), \n",
    "          len(op_val), len(y_v))\n",
    "    \n",
    "    return (X_train, op_train, \n",
    "            y_t, X_val, \n",
    "            op_val, y_v)\n",
    "\n",
    "def train(cw, hyperparams, model, training_loader, validation_loader):\n",
    "\n",
    "    loss_fn = nn.CrossEntropyLoss(weight=torch.Tensor(cw)).to(device)\n",
    "    optimizer = optim.Adam(model.parameters(), lr=hyperparams['lr'])\n",
    "\n",
    "    best_model_params = deepcopy(model.state_dict())\n",
    "\n",
    "    best_vloss = 1e+6\n",
    "\n",
    "    for epoch in range(hyperparams['epochs']):\n",
    "        print('EPOCH {}:'.format(epoch + 1))\n",
    "        pred_labels_train, pred_labels_val = [], []\n",
    "        labels_train, labels_val = [], []\n",
    "\n",
    "        model.train(True)\n",
    "\n",
    "        running_loss = 0.\n",
    "        last_loss = 0.\n",
    "\n",
    "        for i, tdata in enumerate(training_loader):\n",
    "            inputs, inputsa, labels = tdata\n",
    "            inputs, inputsa, labels = inputs.to(device), inputsa.to(device), labels.to(device)\n",
    "            optimizer.zero_grad()\n",
    "\n",
    "            outputs = model(inputsa, inputs)\n",
    "\n",
    "            loss = loss_fn(outputs, labels)\n",
    "            loss.backward()\n",
    "\n",
    "            optimizer.step()\n",
    "            running_loss += loss.item()\n",
    "\n",
    "            _, predicted = torch.max(outputs.data, 1)\n",
    "            pred_labels_train += predicted.tolist()\n",
    "            labels_train += labels.tolist()\n",
    "\n",
    "        avg_loss = running_loss / i + 1\n",
    "        experiment.log_metric('loss_train', avg_loss, \n",
    "                              epoch=epoch)\n",
    "\n",
    "        running_vloss = 0.0\n",
    "        model.eval()\n",
    "        with torch.no_grad():\n",
    "            for i, vdata in enumerate(validation_loader):\n",
    "                vinputs, vainput, vlabels = vdata\n",
    "                vinputs, vainput, vlabels = vinputs.to(device), vainput.to(device), vlabels.to(device)\n",
    "                voutputs = model(vainput, vinputs)\n",
    "                vloss = loss_fn(voutputs, vlabels)\n",
    "                running_vloss += vloss\n",
    "\n",
    "                _, predicted = torch.max(voutputs.data, 1)\n",
    "                pred_labels_val += predicted.tolist()\n",
    "                labels_val += vlabels.tolist()\n",
    "\n",
    "        avg_vloss = running_vloss / (i + 1)\n",
    "        print('LOSS train {} valid {}, f1_valid {}'.format(avg_loss, avg_vloss, f1_score(labels_val,\n",
    "                                                                                     pred_labels_val,\n",
    "                                                                                     average='macro')))\n",
    "        experiment.log_metric('loss_val', avg_vloss, \n",
    "                              epoch=epoch)\n",
    "        experiment.log_metric('f1_val', f1_score(labels_val,\n",
    "                                                 pred_labels_val,\n",
    "                                                 average='macro'), \n",
    "                              epoch=epoch)\n",
    "        experiment.log_metric('f1_train', f1_score(labels_train,\n",
    "                                                   pred_labels_train,\n",
    "                                                   average='macro'), \n",
    "                              epoch=epoch)\n",
    "\n",
    "        if avg_vloss < best_vloss:\n",
    "            best_vloss = avg_vloss\n",
    "            best_model_params = deepcopy(model.state_dict())\n",
    "            \n",
    "    return best_model_params\n",
    "\n",
    "def exp_with1fea(experiment, feature, y_train, y_val, hyperparams, Model, shapes, cw, classes, result):\n",
    "    X_train, op_train,\\\n",
    "    y_t, X_val,\\\n",
    "    op_val, y_v = train_val_split(feature, y_train, y_val)\n",
    "    print(op_val[0].shape)\n",
    "\n",
    "    training_loader = DataLoader(list(zip(X_train, \n",
    "                                          op_train,\n",
    "                                          y_t)),\n",
    "                                 batch_size=hyperparams['batch'], \n",
    "                                 shuffle=True)\n",
    "    validation_loader = DataLoader(list(zip(X_val, \n",
    "                                            op_val,\n",
    "                                            y_v)),\n",
    "                                 batch_size=hyperparams['batch'], \n",
    "                                 shuffle=True)\n",
    "    \n",
    "    experiment.log_parameters(hyperparams)\n",
    "    \n",
    "    model = Model(X_train[0].shape[0], op_val[0].shape[0], *shapes)\n",
    "    model.to(device)\n",
    "    best_model_params = train(cw, hyperparams, model, training_loader, validation_loader)\n",
    "    \n",
    "    model.load_state_dict(best_model_params)\n",
    "    pred_labels_val, labels_val = [], []\n",
    "\n",
    "    model.eval()\n",
    "    with torch.no_grad():\n",
    "        for i, vdata in enumerate(validation_loader):\n",
    "            vinputs, vainput, vlabels = vdata\n",
    "            vinputs, vainput, vlabels = vinputs.to(device), vainput.to(device), vlabels.to(device)\n",
    "            voutputs = model(vainput, vinputs)\n",
    "\n",
    "            _, predicted = torch.max(voutputs.data, 1)\n",
    "            pred_labels_val += predicted.tolist()\n",
    "            labels_val += vlabels.tolist()\n",
    "\n",
    "    print('f1-score: ', f1_score(labels_val,\n",
    "            pred_labels_val,\n",
    "            average='macro'))\n",
    "    results.loc['video'+feature,: ] = [f1_score(labels_val,\n",
    "                                            pred_labels_val,\n",
    "                                            average='macro')]\n",
    "    \n",
    "    experiment.log_confusion_matrix(\n",
    "    np.array(labels_val),np.array(pred_labels_val),\n",
    "    title=\"Confusion Matrix: Evaluation\",\n",
    "    file_name=\"confusion-matrix-eval.json\",\n",
    "    )\n",
    "    \n",
    "    labels=classes\n",
    "    IC = type('IdentityClassifier', (), {\"predict\": lambda i : i, \"_estimator_type\": \"classifier\"})\n",
    "\n",
    "    plt_conf_matrix(np.array(labels_val),np.array(pred_labels_val),labels);\n",
    "    \n",
    "    torch.save(model.state_dict(), 'simplemodel.pt')\n",
    "    \n",
    "    experiment.log_model(\"simplemodel.pt\", file_or_folder=\"simplemodel.pt\")\n",
    "    experiment.end()"
   ]
  },
  {
   "cell_type": "code",
   "execution_count": 11,
   "metadata": {},
   "outputs": [],
   "source": [
    "hyperparams = {\n",
    "    'epochs': 10,\n",
    "    'loss': 'sparse_categorical_crossentropy',\n",
    "    'lr': 1e-3,\n",
    "    'batch': 256\n",
    "}\n",
    "\n",
    "class Model(nn.Module):\n",
    "    def __init__(self, input_size_vi, input_size_op,\n",
    "                 out_vi, out_a1, out_a2,\n",
    "                 classes):\n",
    "        super(Model, self).__init__()\n",
    "\n",
    "        self.linear1 = nn.Linear(input_size_vi, out_vi)\n",
    "        self.activation = nn.ReLU()\n",
    "        \n",
    "        self.linear2 = nn.Linear(input_size_op, out_a1)\n",
    "        self.activation2 = nn.ReLU()\n",
    "        \n",
    "        self.linear3 = nn.Linear(out_a1, out_a2)\n",
    "        self.activation3 = nn.ReLU()\n",
    "        \n",
    "        self.linear4 = nn.Linear(out_vi+out_a2, classes)\n",
    "        self.softmax = nn.Softmax(dim=1)\n",
    "\n",
    "    def forward(self, op, vi):\n",
    "        vi = self.linear1(vi)\n",
    "        vi = self.activation(vi)\n",
    "        \n",
    "        op = self.linear2(op)\n",
    "        op = self.activation2(op)\n",
    "        \n",
    "        op = self.linear3(op)\n",
    "        op = self.activation3(op)\n",
    "        \n",
    "#         print(op.shape, vi.shape)\n",
    "        \n",
    "        x = torch.cat((op, vi), 1)\n",
    "#         print(x.shape)\n",
    "        \n",
    "        x = self.linear4(x)\n",
    "        x = self.softmax(x)\n",
    "        return x"
   ]
  },
  {
   "cell_type": "code",
   "execution_count": 25,
   "metadata": {},
   "outputs": [
    {
     "name": "stderr",
     "output_type": "stream",
     "text": [
      "\u001b[1;38;5;214mCOMET WARNING:\u001b[0m As you are running in a Jupyter environment, you will need to call `experiment.end()` when finished to ensure all metrics and code are logged before exiting.\n",
      "\u001b[1;38;5;39mCOMET INFO:\u001b[0m Couldn't find a Git repository in '/home/hse_student/apsidorova' nor in any parent directory. Set `COMET_GIT_DIRECTORY` if your Git Repository is elsewhere.\n",
      "\u001b[1;38;5;39mCOMET INFO:\u001b[0m Experiment is live on comet.com https://www.comet.com/annanet/abaw6/b043054608fe4e9cb1ea0ba58d93445b\n",
      "\n"
     ]
    }
   ],
   "source": [
    "experiment = Experiment(\n",
    "  api_key=\"XhQqrLR91F7zW3AZ7LgVT3zp2\",\n",
    "  project_name=\"abaw6\",\n",
    "  workspace=\"annanet\"\n",
    ")\n",
    "\n",
    "experiment.set_name('openl3+vid-expr')\n",
    "experiment.add_tags(['expr_classif - openl3 + video', 'v1_linear'])"
   ]
  },
  {
   "cell_type": "code",
   "execution_count": 26,
   "metadata": {},
   "outputs": [
    {
     "name": "stdout",
     "output_type": "stream",
     "text": [
      "586959 586959 586959 279749 279749 279749\n",
      "(512,)\n",
      "EPOCH 1:\n",
      "LOSS train 2.4852993458665478 valid 1.9554595947265625, f1_valid 0.3185353320225631\n",
      "EPOCH 2:\n",
      "LOSS train 2.400891345052819 valid 1.9597707986831665, f1_valid 0.3144024942553613\n",
      "EPOCH 3:\n",
      "LOSS train 2.3770483169464125 valid 1.9688801765441895, f1_valid 0.3050921527072701\n",
      "EPOCH 4:\n",
      "LOSS train 2.363590903203109 valid 1.980920433998108, f1_valid 0.2784534247872661\n",
      "EPOCH 5:\n",
      "LOSS train 2.353713943956202 valid 1.9671821594238281, f1_valid 0.30853054176350203\n",
      "EPOCH 6:\n",
      "LOSS train 2.347180513551306 valid 1.9694629907608032, f1_valid 0.3093183547162289\n",
      "EPOCH 7:\n",
      "LOSS train 2.341631431282087 valid 1.971526026725769, f1_valid 0.2992060871462512\n",
      "EPOCH 8:\n",
      "LOSS train 2.337242380070645 valid 1.9794929027557373, f1_valid 0.29216071040906566\n",
      "EPOCH 9:\n",
      "LOSS train 2.334402851825401 valid 1.9789444208145142, f1_valid 0.2981431488556294\n",
      "EPOCH 10:\n",
      "LOSS train 2.3310093750712344 valid 1.980272889137268, f1_valid 0.29931365744274596\n",
      "f1-score:  0.3185353320225631\n",
      "(279749,) (279749,) 0.4626397234663931\n"
     ]
    },
    {
     "data": {
      "image/png": "[encoded data removed]",
      "text/plain": [
       "<Figure size 576x576 with 1 Axes>"
      ]
     },
     "metadata": {
      "needs_background": "light"
     },
     "output_type": "display_data"
    },
    {
     "name": "stderr",
     "output_type": "stream",
     "text": [
      "\u001b[1;38;5;39mCOMET INFO:\u001b[0m ---------------------------------------------------------------------------------------\n",
      "\u001b[1;38;5;39mCOMET INFO:\u001b[0m Comet.ml Experiment Summary\n",
      "\u001b[1;38;5;39mCOMET INFO:\u001b[0m ---------------------------------------------------------------------------------------\n",
      "\u001b[1;38;5;39mCOMET INFO:\u001b[0m   Data:\n",
      "\u001b[1;38;5;39mCOMET INFO:\u001b[0m     display_summary_level : 1\n",
      "\u001b[1;38;5;39mCOMET INFO:\u001b[0m     url                   : https://www.comet.com/annanet/abaw6/b043054608fe4e9cb1ea0ba58d93445b\n",
      "\u001b[1;38;5;39mCOMET INFO:\u001b[0m   Metrics [count] (min, max):\n",
      "\u001b[1;38;5;39mCOMET INFO:\u001b[0m     f1_train [10]   : (0.7017568475690339, 0.9162915302587432)\n",
      "\u001b[1;38;5;39mCOMET INFO:\u001b[0m     f1_val [10]     : (0.2784534247872661, 0.3185353320225631)\n",
      "\u001b[1;38;5;39mCOMET INFO:\u001b[0m     loss [2293]     : (1.291216254234314, 2.0787782669067383)\n",
      "\u001b[1;38;5;39mCOMET INFO:\u001b[0m     loss_train [10] : (2.3310093750712344, 2.4852993458665478)\n",
      "\u001b[1;38;5;39mCOMET INFO:\u001b[0m     loss_val [10]   : (1.9554595947265625, 1.980920433998108)\n",
      "\u001b[1;38;5;39mCOMET INFO:\u001b[0m   Others:\n",
      "\u001b[1;38;5;39mCOMET INFO:\u001b[0m     Name : openl3+vid-expr\n",
      "\u001b[1;38;5;39mCOMET INFO:\u001b[0m   Parameters:\n",
      "\u001b[1;38;5;39mCOMET INFO:\u001b[0m     batch  : 256\n",
      "\u001b[1;38;5;39mCOMET INFO:\u001b[0m     epochs : 10\n",
      "\u001b[1;38;5;39mCOMET INFO:\u001b[0m     loss   : sparse_categorical_crossentropy\n",
      "\u001b[1;38;5;39mCOMET INFO:\u001b[0m     lr     : 0.001\n",
      "\u001b[1;38;5;39mCOMET INFO:\u001b[0m   Uploads:\n",
      "\u001b[1;38;5;39mCOMET INFO:\u001b[0m     confusion-matrix    : 1\n",
      "\u001b[1;38;5;39mCOMET INFO:\u001b[0m     environment details : 1\n",
      "\u001b[1;38;5;39mCOMET INFO:\u001b[0m     filename            : 1\n",
      "\u001b[1;38;5;39mCOMET INFO:\u001b[0m     installed packages  : 1\n",
      "\u001b[1;38;5;39mCOMET INFO:\u001b[0m     model graph         : 1\n",
      "\u001b[1;38;5;39mCOMET INFO:\u001b[0m     model-element       : 1 (1.26 MB)\n",
      "\u001b[1;38;5;39mCOMET INFO:\u001b[0m     notebook            : 1\n",
      "\u001b[1;38;5;39mCOMET INFO:\u001b[0m     os packages         : 1\n",
      "\u001b[1;38;5;39mCOMET INFO:\u001b[0m     source_code         : 1\n",
      "\u001b[1;38;5;39mCOMET INFO:\u001b[0m \n",
      "\u001b[1;38;5;39mCOMET INFO:\u001b[0m Please wait for assets to finish uploading (timeout is 10800 seconds)\n",
      "\u001b[1;38;5;39mCOMET INFO:\u001b[0m All assets have been sent, waiting for delivery confirmation\n"
     ]
    }
   ],
   "source": [
    "shapes = [128, 256, 128, 8]\n",
    "exp_with1fea(experiment, 'openl3', y_train, y_val, hyperparams, Model, shapes, cw, classes, results)"
   ]
  },
  {
   "cell_type": "markdown",
   "metadata": {},
   "source": [
    "## wav2vec2 hubert"
   ]
  },
  {
   "cell_type": "code",
   "execution_count": 27,
   "metadata": {},
   "outputs": [
    {
     "name": "stderr",
     "output_type": "stream",
     "text": [
      "\u001b[1;38;5;214mCOMET WARNING:\u001b[0m As you are running in a Jupyter environment, you will need to call `experiment.end()` when finished to ensure all metrics and code are logged before exiting.\n",
      "\u001b[1;38;5;39mCOMET INFO:\u001b[0m Couldn't find a Git repository in '/home/hse_student/apsidorova' nor in any parent directory. Set `COMET_GIT_DIRECTORY` if your Git Repository is elsewhere.\n",
      "\u001b[1;38;5;39mCOMET INFO:\u001b[0m Experiment is live on comet.com https://www.comet.com/annanet/abaw6/ebe39bb6befc47418763ec797a25be4e\n",
      "\n"
     ]
    }
   ],
   "source": [
    "experiment = Experiment(\n",
    "  api_key=\"XhQqrLR91F7zW3AZ7LgVT3zp2\",\n",
    "  project_name=\"abaw6\",\n",
    "  workspace=\"annanet\"\n",
    ")\n",
    "\n",
    "experiment.set_name('w2v2hub+vid-expr')\n",
    "experiment.add_tags(['expr_classif - w2v2hub + video', 'v1_linear'])"
   ]
  },
  {
   "cell_type": "code",
   "execution_count": 30,
   "metadata": {},
   "outputs": [
    {
     "name": "stdout",
     "output_type": "stream",
     "text": [
      "586959 586959 586959 279749 279749 279749\n",
      "(256,)\n",
      "EPOCH 1:\n",
      "LOSS train 2.4772481446594883 valid 1.944740891456604, f1_valid 0.3260925004355182\n",
      "EPOCH 2:\n",
      "LOSS train 2.3975902840521117 valid 1.961737871170044, f1_valid 0.31493775557384335\n",
      "EPOCH 3:\n",
      "LOSS train 2.3740492477154858 valid 1.9517005681991577, f1_valid 0.32659283545467027\n",
      "EPOCH 4:\n",
      "LOSS train 2.3610149828447304 valid 1.9518071413040161, f1_valid 0.32808844849196916\n",
      "EPOCH 5:\n",
      "LOSS train 2.3524511276011273 valid 1.9618000984191895, f1_valid 0.32387099075037834\n",
      "EPOCH 6:\n",
      "LOSS train 2.3465882201157315 valid 1.961350679397583, f1_valid 0.32045309412230705\n",
      "EPOCH 7:\n",
      "LOSS train 2.3406677896751784 valid 1.9701839685440063, f1_valid 0.3107093933590095\n",
      "EPOCH 8:\n",
      "LOSS train 2.335797028287751 valid 1.970298171043396, f1_valid 0.3047611122526682\n",
      "EPOCH 9:\n",
      "LOSS train 2.3318109421829902 valid 1.9724494218826294, f1_valid 0.3044633106044164\n",
      "EPOCH 10:\n",
      "LOSS train 2.329049341809687 valid 1.9710334539413452, f1_valid 0.3147145665611506\n",
      "f1-score:  0.3260925004355182\n",
      "(279749,) (279749,) 0.4658211468137509\n"
     ]
    },
    {
     "data": {
      "image/png": "[encoded data removed]",
      "text/plain": [
       "<Figure size 576x576 with 1 Axes>"
      ]
     },
     "metadata": {
      "needs_background": "light"
     },
     "output_type": "display_data"
    },
    {
     "name": "stderr",
     "output_type": "stream",
     "text": [
      "\u001b[1;38;5;39mCOMET INFO:\u001b[0m ---------------------------------------------------------------------------------------\n",
      "\u001b[1;38;5;39mCOMET INFO:\u001b[0m Comet.ml Experiment Summary\n",
      "\u001b[1;38;5;39mCOMET INFO:\u001b[0m ---------------------------------------------------------------------------------------\n",
      "\u001b[1;38;5;39mCOMET INFO:\u001b[0m   Data:\n",
      "\u001b[1;38;5;39mCOMET INFO:\u001b[0m     display_summary_level : 1\n",
      "\u001b[1;38;5;39mCOMET INFO:\u001b[0m     url                   : https://www.comet.com/annanet/abaw6/ebe39bb6befc47418763ec797a25be4e\n",
      "\u001b[1;38;5;39mCOMET INFO:\u001b[0m   Metrics [count] (min, max):\n",
      "\u001b[1;38;5;39mCOMET INFO:\u001b[0m     f1_train [10]   : (0.7152281897312416, 0.921819578623902)\n",
      "\u001b[1;38;5;39mCOMET INFO:\u001b[0m     f1_val [10]     : (0.3044633106044164, 0.32808844849196916)\n",
      "\u001b[1;38;5;39mCOMET INFO:\u001b[0m     loss [2293]     : (1.2884403467178345, 2.0805962085723877)\n",
      "\u001b[1;38;5;39mCOMET INFO:\u001b[0m     loss_train [10] : (2.329049341809687, 2.4772481446594883)\n",
      "\u001b[1;38;5;39mCOMET INFO:\u001b[0m     loss_val [10]   : (1.944740891456604, 1.9724494218826294)\n",
      "\u001b[1;38;5;39mCOMET INFO:\u001b[0m   Others:\n",
      "\u001b[1;38;5;39mCOMET INFO:\u001b[0m     Name : w2v2hub+vid-expr\n",
      "\u001b[1;38;5;39mCOMET INFO:\u001b[0m   Parameters:\n",
      "\u001b[1;38;5;39mCOMET INFO:\u001b[0m     batch  : 256\n",
      "\u001b[1;38;5;39mCOMET INFO:\u001b[0m     epochs : 10\n",
      "\u001b[1;38;5;39mCOMET INFO:\u001b[0m     loss   : sparse_categorical_crossentropy\n",
      "\u001b[1;38;5;39mCOMET INFO:\u001b[0m     lr     : 0.001\n",
      "\u001b[1;38;5;39mCOMET INFO:\u001b[0m   Uploads:\n",
      "\u001b[1;38;5;39mCOMET INFO:\u001b[0m     confusion-matrix    : 1\n",
      "\u001b[1;38;5;39mCOMET INFO:\u001b[0m     environment details : 1\n",
      "\u001b[1;38;5;39mCOMET INFO:\u001b[0m     filename            : 1\n",
      "\u001b[1;38;5;39mCOMET INFO:\u001b[0m     installed packages  : 1\n",
      "\u001b[1;38;5;39mCOMET INFO:\u001b[0m     model graph         : 1\n",
      "\u001b[1;38;5;39mCOMET INFO:\u001b[0m     model-element       : 1 (810.12 KB)\n",
      "\u001b[1;38;5;39mCOMET INFO:\u001b[0m     notebook            : 1\n",
      "\u001b[1;38;5;39mCOMET INFO:\u001b[0m     os packages         : 1\n",
      "\u001b[1;38;5;39mCOMET INFO:\u001b[0m     source_code         : 1\n",
      "\u001b[1;38;5;39mCOMET INFO:\u001b[0m \n"
     ]
    }
   ],
   "source": [
    "shapes = [128, 128, 64, 8]\n",
    "exp_with1fea(experiment, 'w2v2hub', y_train, y_val, hyperparams, Model, shapes, cw, classes, results)"
   ]
  },
  {
   "cell_type": "markdown",
   "metadata": {},
   "source": [
    "## w2v2large"
   ]
  },
  {
   "cell_type": "code",
   "execution_count": 31,
   "metadata": {},
   "outputs": [
    {
     "name": "stderr",
     "output_type": "stream",
     "text": [
      "\u001b[1;38;5;214mCOMET WARNING:\u001b[0m As you are running in a Jupyter environment, you will need to call `experiment.end()` when finished to ensure all metrics and code are logged before exiting.\n",
      "\u001b[1;38;5;39mCOMET INFO:\u001b[0m Couldn't find a Git repository in '/home/hse_student/apsidorova' nor in any parent directory. Set `COMET_GIT_DIRECTORY` if your Git Repository is elsewhere.\n",
      "\u001b[1;38;5;39mCOMET INFO:\u001b[0m Experiment is live on comet.com https://www.comet.com/annanet/abaw6/62c671c780c648b480ae3b4dd504fc82\n",
      "\n"
     ]
    }
   ],
   "source": [
    "experiment = Experiment(\n",
    "  api_key=\"XhQqrLR91F7zW3AZ7LgVT3zp2\",\n",
    "  project_name=\"abaw6\",\n",
    "  workspace=\"annanet\"\n",
    ")\n",
    "\n",
    "experiment.set_name('w2v2large+vid-expr')\n",
    "experiment.add_tags(['expr_classif - w2v2large + video', 'v1_linear'])"
   ]
  },
  {
   "cell_type": "code",
   "execution_count": 33,
   "metadata": {},
   "outputs": [
    {
     "name": "stdout",
     "output_type": "stream",
     "text": [
      "586959 586959 586959 279749 279749 279749\n",
      "(1024,)\n",
      "EPOCH 1:\n",
      "LOSS train 2.458171666448653 valid 1.945655345916748, f1_valid 0.32629643323604873\n",
      "EPOCH 2:\n",
      "LOSS train 2.362272559452223 valid 1.947769284248352, f1_valid 0.33004804332939824\n",
      "EPOCH 3:\n",
      "LOSS train 2.3346425090992846 valid 1.953153371810913, f1_valid 0.33175862791600536\n",
      "EPOCH 4:\n",
      "LOSS train 2.3222724296035566 valid 1.970698595046997, f1_valid 0.3158537768721841\n",
      "EPOCH 5:\n",
      "LOSS train 2.316037582737405 valid 1.9551305770874023, f1_valid 0.328649945992069\n",
      "EPOCH 6:\n",
      "LOSS train 2.3117949162166154 valid 1.9635372161865234, f1_valid 0.3256833928252393\n",
      "EPOCH 7:\n",
      "LOSS train 2.308930201420193 valid 1.9805065393447876, f1_valid 0.30075823187944356\n",
      "EPOCH 8:\n",
      "LOSS train 2.306477706261746 valid 1.9845693111419678, f1_valid 0.3051043923490591\n",
      "EPOCH 9:\n",
      "LOSS train 2.3047615309972413 valid 1.9756851196289062, f1_valid 0.3035406876700429\n",
      "EPOCH 10:\n",
      "LOSS train 2.303820965853869 valid 1.9841386079788208, f1_valid 0.30043665093263366\n",
      "f1-score:  0.32629643323604873\n",
      "(279749,) (279749,) 0.4640088078956493\n"
     ]
    },
    {
     "data": {
      "image/png": "[encoded data removed]",
      "text/plain": [
       "<Figure size 576x576 with 1 Axes>"
      ]
     },
     "metadata": {
      "needs_background": "light"
     },
     "output_type": "display_data"
    },
    {
     "name": "stderr",
     "output_type": "stream",
     "text": [
      "\u001b[1;38;5;39mCOMET INFO:\u001b[0m ---------------------------------------------------------------------------------------\n",
      "\u001b[1;38;5;39mCOMET INFO:\u001b[0m Comet.ml Experiment Summary\n",
      "\u001b[1;38;5;39mCOMET INFO:\u001b[0m ---------------------------------------------------------------------------------------\n",
      "\u001b[1;38;5;39mCOMET INFO:\u001b[0m   Data:\n",
      "\u001b[1;38;5;39mCOMET INFO:\u001b[0m     display_summary_level : 1\n",
      "\u001b[1;38;5;39mCOMET INFO:\u001b[0m     url                   : https://www.comet.com/annanet/abaw6/62c671c780c648b480ae3b4dd504fc82\n",
      "\u001b[1;38;5;39mCOMET INFO:\u001b[0m   Metrics [count] (min, max):\n",
      "\u001b[1;38;5;39mCOMET INFO:\u001b[0m     f1_train [10]   : (0.7375876140622799, 0.9606367793310477)\n",
      "\u001b[1;38;5;39mCOMET INFO:\u001b[0m     f1_val [10]     : (0.30043665093263366, 0.33175862791600536)\n",
      "\u001b[1;38;5;39mCOMET INFO:\u001b[0m     loss [2293]     : (1.2751814126968384, 2.0792348384857178)\n",
      "\u001b[1;38;5;39mCOMET INFO:\u001b[0m     loss_train [10] : (2.303820965853869, 2.458171666448653)\n",
      "\u001b[1;38;5;39mCOMET INFO:\u001b[0m     loss_val [10]   : (1.945655345916748, 1.9845693111419678)\n",
      "\u001b[1;38;5;39mCOMET INFO:\u001b[0m   Others:\n",
      "\u001b[1;38;5;39mCOMET INFO:\u001b[0m     Name : w2v2large+vid-expr\n",
      "\u001b[1;38;5;39mCOMET INFO:\u001b[0m   Parameters:\n",
      "\u001b[1;38;5;39mCOMET INFO:\u001b[0m     batch  : 256\n",
      "\u001b[1;38;5;39mCOMET INFO:\u001b[0m     epochs : 10\n",
      "\u001b[1;38;5;39mCOMET INFO:\u001b[0m     loss   : sparse_categorical_crossentropy\n",
      "\u001b[1;38;5;39mCOMET INFO:\u001b[0m     lr     : 0.001\n",
      "\u001b[1;38;5;39mCOMET INFO:\u001b[0m   Uploads:\n",
      "\u001b[1;38;5;39mCOMET INFO:\u001b[0m     confusion-matrix    : 1\n",
      "\u001b[1;38;5;39mCOMET INFO:\u001b[0m     environment details : 1\n",
      "\u001b[1;38;5;39mCOMET INFO:\u001b[0m     filename            : 1\n",
      "\u001b[1;38;5;39mCOMET INFO:\u001b[0m     installed packages  : 1\n",
      "\u001b[1;38;5;39mCOMET INFO:\u001b[0m     model graph         : 1\n",
      "\u001b[1;38;5;39mCOMET INFO:\u001b[0m     model-element       : 1 (2.89 MB)\n",
      "\u001b[1;38;5;39mCOMET INFO:\u001b[0m     notebook            : 1\n",
      "\u001b[1;38;5;39mCOMET INFO:\u001b[0m     os packages         : 1\n",
      "\u001b[1;38;5;39mCOMET INFO:\u001b[0m     source_code         : 1\n",
      "\u001b[1;38;5;39mCOMET INFO:\u001b[0m \n",
      "\u001b[1;38;5;39mCOMET INFO:\u001b[0m Please wait for assets to finish uploading (timeout is 10800 seconds)\n",
      "\u001b[1;38;5;39mCOMET INFO:\u001b[0m Still uploading 1 file(s), remaining 750.07 KB/2.89 MB\n"
     ]
    }
   ],
   "source": [
    "shapes = [128, 512, 128, 8]\n",
    "exp_with1fea(experiment, 'w2v2large', y_train, y_val, hyperparams, Model, shapes, cw, classes, results)"
   ]
  },
  {
   "cell_type": "code",
   "execution_count": 36,
   "metadata": {},
   "outputs": [
    {
     "data": {
      "text/html": [
       "<div>\n",
       "<style scoped>\n",
       "    .dataframe tbody tr th:only-of-type {\n",
       "        vertical-align: middle;\n",
       "    }\n",
       "\n",
       "    .dataframe tbody tr th {\n",
       "        vertical-align: top;\n",
       "    }\n",
       "\n",
       "    .dataframe thead th {\n",
       "        text-align: right;\n",
       "    }\n",
       "</style>\n",
       "<table border=\"1\" class=\"dataframe\">\n",
       "  <thead>\n",
       "    <tr style=\"text-align: right;\">\n",
       "      <th></th>\n",
       "      <th>f1-score val</th>\n",
       "    </tr>\n",
       "  </thead>\n",
       "  <tbody>\n",
       "    <tr>\n",
       "      <th>only video</th>\n",
       "      <td>0.319133</td>\n",
       "    </tr>\n",
       "    <tr>\n",
       "      <th>videoopenl3</th>\n",
       "      <td>0.318535</td>\n",
       "    </tr>\n",
       "    <tr>\n",
       "      <th>videow2v2hub</th>\n",
       "      <td>0.326093</td>\n",
       "    </tr>\n",
       "    <tr>\n",
       "      <th>videow2v2large</th>\n",
       "      <td>0.326296</td>\n",
       "    </tr>\n",
       "    <tr>\n",
       "      <th>videoopensmile</th>\n",
       "      <td>0.00535724</td>\n",
       "    </tr>\n",
       "  </tbody>\n",
       "</table>\n",
       "</div>"
      ],
      "text/plain": [
       "               f1-score val\n",
       "only video         0.319133\n",
       "videoopenl3        0.318535\n",
       "videow2v2hub       0.326093\n",
       "videow2v2large     0.326296\n",
       "videoopensmile   0.00535724"
      ]
     },
     "execution_count": 36,
     "metadata": {},
     "output_type": "execute_result"
    }
   ],
   "source": [
    "results"
   ]
  },
  {
   "cell_type": "markdown",
   "metadata": {},
   "source": [
    "## all data"
   ]
  },
  {
   "cell_type": "code",
   "execution_count": 37,
   "metadata": {},
   "outputs": [
    {
     "name": "stderr",
     "output_type": "stream",
     "text": [
      "\u001b[1;38;5;214mCOMET WARNING:\u001b[0m As you are running in a Jupyter environment, you will need to call `experiment.end()` when finished to ensure all metrics and code are logged before exiting.\n",
      "\u001b[1;38;5;39mCOMET INFO:\u001b[0m Couldn't find a Git repository in '/home/hse_student/apsidorova' nor in any parent directory. Set `COMET_GIT_DIRECTORY` if your Git Repository is elsewhere.\n",
      "\u001b[1;38;5;39mCOMET INFO:\u001b[0m Experiment is live on comet.com https://www.comet.com/annanet/abaw6/96889028072e483c961dcc3c9bc7e010\n",
      "\n"
     ]
    }
   ],
   "source": [
    "experiment = Experiment(\n",
    "  api_key=\"XhQqrLR91F7zW3AZ7LgVT3zp2\",\n",
    "  project_name=\"abaw6\",\n",
    "  workspace=\"annanet\"\n",
    ")\n",
    "\n",
    "experiment.set_name('all_fea-expr_classif')\n",
    "experiment.add_tags(['expr_classif - all_fea', 'v1_linear'])"
   ]
  },
  {
   "cell_type": "code",
   "execution_count": 38,
   "metadata": {},
   "outputs": [
    {
     "data": {
      "text/plain": [
       "(586959, 586959, 586959, 279749, 279749, 279749)"
      ]
     },
     "execution_count": 38,
     "metadata": {},
     "output_type": "execute_result"
    }
   ],
   "source": [
    "X_train, audio_train, y_t = [], [], []\n",
    "for key in y_train.keys():\n",
    "    X_train.append(data[key]['frame'][0])\n",
    "    audio = np.concatenate([data[key]['openl3'],\n",
    "                            data[key]['w2v2hub'],\n",
    "                            data[key]['w2v2large']], \n",
    "                           axis=0)\n",
    "    audio_train.append(audio)\n",
    "    y_t.append(y_train[key])\n",
    "\n",
    "X_val, audio_val, y_v = [], [], []\n",
    "for key in y_val.keys():\n",
    "    X_val.append(data[key]['frame'][0])\n",
    "    audio = np.concatenate([data[key]['openl3'],\n",
    "                            data[key]['w2v2hub'],\n",
    "                            data[key]['w2v2large']], \n",
    "                           axis=0)\n",
    "    audio_val.append(audio)\n",
    "    y_v.append(y_val[key])\n",
    "    \n",
    "len(X_train), len(audio_train), len(y_t), len(X_val), len(audio_val), len(y_v)"
   ]
  },
  {
   "cell_type": "code",
   "execution_count": 39,
   "metadata": {},
   "outputs": [
    {
     "data": {
      "text/plain": [
       "1792"
      ]
     },
     "execution_count": 39,
     "metadata": {},
     "output_type": "execute_result"
    }
   ],
   "source": [
    "audio_train[0].shape[0]"
   ]
  },
  {
   "cell_type": "code",
   "execution_count": 40,
   "metadata": {},
   "outputs": [
    {
     "data": {
      "text/plain": [
       "allFea(\n",
       "  (linear1): Linear(in_features=1280, out_features=128, bias=True)\n",
       "  (activation): ReLU()\n",
       "  (linear2): Linear(in_features=1792, out_features=512, bias=True)\n",
       "  (activation2): ReLU()\n",
       "  (linear3): Linear(in_features=512, out_features=128, bias=True)\n",
       "  (activation3): ReLU()\n",
       "  (linear4): Linear(in_features=256, out_features=8, bias=True)\n",
       "  (softmax): Softmax(dim=1)\n",
       ")"
      ]
     },
     "execution_count": 40,
     "metadata": {},
     "output_type": "execute_result"
    }
   ],
   "source": [
    "hyperparams = {\n",
    "    'epochs': 10,\n",
    "    'loss': 'sparse_categorical_crossentropy',\n",
    "    'lr': 1e-3,\n",
    "    'batch': 256\n",
    "}\n",
    "\n",
    "class allFea(nn.Module):\n",
    "    def __init__(self, input_size_vi, input_size_op,\n",
    "                 out_vi, out_a1, out_a2,\n",
    "                 classes):\n",
    "        super(allFea, self).__init__()\n",
    "\n",
    "        self.linear1 = nn.Linear(input_size_vi, out_vi)\n",
    "        self.activation = nn.ReLU()\n",
    "        \n",
    "        self.linear2 = nn.Linear(input_size_op, out_a1)\n",
    "        self.activation2 = nn.ReLU()\n",
    "        \n",
    "        self.linear3 = nn.Linear(out_a1, out_a2)\n",
    "        self.activation3 = nn.ReLU()\n",
    "        \n",
    "        self.linear4 = nn.Linear(out_vi+out_a2, classes)\n",
    "        self.softmax = nn.Softmax(dim=1)\n",
    "\n",
    "    def forward(self, op, vi):\n",
    "        vi = self.linear1(vi)\n",
    "        vi = self.activation(vi)\n",
    "        \n",
    "        op = self.linear2(op)\n",
    "        op = self.activation2(op)\n",
    "        \n",
    "        op = self.linear3(op)\n",
    "        op = self.activation3(op)\n",
    "        \n",
    "#         print(op.shape, vi.shape)\n",
    "        \n",
    "        x = torch.cat((op, vi), 1)\n",
    "#         print(x.shape)\n",
    "        \n",
    "        x = self.linear4(x)\n",
    "        x = self.softmax(x)\n",
    "        return x\n",
    "    \n",
    "model = allFea(X_train[0].shape[0], \n",
    "               audio_train[0].shape[0],\n",
    "               128,\n",
    "               512,\n",
    "               128,\n",
    "               num_classes)\n",
    "model.to(device)"
   ]
  },
  {
   "cell_type": "code",
   "execution_count": 41,
   "metadata": {},
   "outputs": [],
   "source": [
    "training_loader = DataLoader(list(zip(X_train, audio_train, y_t)),\n",
    "                             batch_size=hyperparams['batch'], \n",
    "                             shuffle=True)\n",
    "validation_loader = DataLoader(list(zip(X_val, audio_val, y_v)),\n",
    "                             batch_size=hyperparams['batch'], \n",
    "                             shuffle=True)"
   ]
  },
  {
   "cell_type": "code",
   "execution_count": 42,
   "metadata": {},
   "outputs": [
    {
     "name": "stdout",
     "output_type": "stream",
     "text": [
      "EPOCH 1:\n",
      "LOSS train 2.4810899855474737 valid 1.9461395740509033, f1_valid 0.3356561816467108\n",
      "EPOCH 2:\n",
      "LOSS train 2.3979690800474573 valid 1.948723316192627, f1_valid 0.3414056361769212\n",
      "EPOCH 3:\n",
      "LOSS train 2.3755140296763777 valid 1.9617313146591187, f1_valid 0.3174489996828571\n",
      "EPOCH 4:\n",
      "LOSS train 2.3630831778881642 valid 1.9518135786056519, f1_valid 0.3239291266075985\n",
      "EPOCH 5:\n",
      "LOSS train 2.353934279547104 valid 1.9763648509979248, f1_valid 0.29624292018137566\n",
      "EPOCH 6:\n",
      "LOSS train 2.3471690234817553 valid 1.979109287261963, f1_valid 0.2982199570009568\n",
      "EPOCH 7:\n",
      "LOSS train 2.3412475662913828 valid 1.965519666671753, f1_valid 0.3060553470313728\n",
      "EPOCH 8:\n",
      "LOSS train 2.3366992967187006 valid 1.979033350944519, f1_valid 0.2994362121668929\n",
      "EPOCH 9:\n",
      "LOSS train 2.332201879738097 valid 1.96005117893219, f1_valid 0.31446107452991756\n",
      "EPOCH 10:\n",
      "LOSS train 2.32917645974101 valid 1.9624125957489014, f1_valid 0.3148256511140451\n"
     ]
    }
   ],
   "source": [
    "loss_fn = nn.CrossEntropyLoss(weight=torch.Tensor(cw)).to(device)\n",
    "optimizer = optim.Adam(model.parameters(), lr=hyperparams['lr'])\n",
    "\n",
    "best_model_params = deepcopy(model.state_dict())\n",
    "\n",
    "best_vloss = 1e+6\n",
    "\n",
    "for epoch in range(hyperparams['epochs']):\n",
    "    print('EPOCH {}:'.format(epoch + 1))\n",
    "    pred_labels_train, pred_labels_val = [], []\n",
    "    labels_train, labels_val = [], []\n",
    "\n",
    "    model.train(True)\n",
    "\n",
    "    running_loss = 0.\n",
    "    last_loss = 0.\n",
    "\n",
    "    for i, tdata in enumerate(training_loader):\n",
    "        inputs, inputsa, labels = tdata\n",
    "        inputs, inputsa, labels = inputs.to(device), inputsa.to(device), labels.to(device)\n",
    "        optimizer.zero_grad()\n",
    "\n",
    "        outputs = model(inputsa, inputs)\n",
    "\n",
    "        loss = loss_fn(outputs, labels)\n",
    "        loss.backward()\n",
    "\n",
    "        optimizer.step()\n",
    "        running_loss += loss.item()\n",
    "\n",
    "        _, predicted = torch.max(outputs.data, 1)\n",
    "        pred_labels_train += predicted.tolist()\n",
    "        labels_train += labels.tolist()\n",
    "\n",
    "    avg_loss = running_loss / i + 1\n",
    "    experiment.log_metric('loss_train', avg_loss, \n",
    "                          epoch=epoch)\n",
    "\n",
    "    running_vloss = 0.0\n",
    "    model.eval()\n",
    "    with torch.no_grad():\n",
    "        for i, vdata in enumerate(validation_loader):\n",
    "            vinputs, vainput, vlabels = vdata\n",
    "            vinputs, vainput, vlabels = vinputs.to(device), vainput.to(device), vlabels.to(device)\n",
    "            voutputs = model(vainput, vinputs)\n",
    "            vloss = loss_fn(voutputs, vlabels)\n",
    "            running_vloss += vloss\n",
    "\n",
    "            _, predicted = torch.max(voutputs.data, 1)\n",
    "            pred_labels_val += predicted.tolist()\n",
    "            labels_val += vlabels.tolist()\n",
    "\n",
    "    avg_vloss = running_vloss / (i + 1)\n",
    "    print('LOSS train {} valid {}, f1_valid {}'.format(avg_loss, avg_vloss, f1_score(labels_val,\n",
    "                                                                                 pred_labels_val,\n",
    "                                                                                 average='macro')))\n",
    "    experiment.log_metric('loss_val', avg_vloss, \n",
    "                          epoch=epoch)\n",
    "    experiment.log_metric('f1_val', f1_score(labels_val,\n",
    "                                             pred_labels_val,\n",
    "                                             average='macro'), \n",
    "                          epoch=epoch)\n",
    "    experiment.log_metric('f1_train', f1_score(labels_train,\n",
    "                                               pred_labels_train,\n",
    "                                               average='macro'), \n",
    "                          epoch=epoch)\n",
    "\n",
    "    if avg_vloss < best_vloss:\n",
    "        best_vloss = avg_vloss\n",
    "        best_model_params = deepcopy(model.state_dict())"
   ]
  },
  {
   "cell_type": "code",
   "execution_count": 43,
   "metadata": {},
   "outputs": [
    {
     "name": "stdout",
     "output_type": "stream",
     "text": [
      "f1-score:  0.3356561816467108\n"
     ]
    }
   ],
   "source": [
    "model.load_state_dict(best_model_params)\n",
    "pred_labels_val, labels_val = [], []\n",
    "\n",
    "model.eval()\n",
    "with torch.no_grad():\n",
    "    for i, vdata in enumerate(validation_loader):\n",
    "        vinputs, vainput, vlabels = vdata\n",
    "        vinputs, vainput, vlabels = vinputs.to(device), vainput.to(device), vlabels.to(device)\n",
    "        voutputs = model(vainput, vinputs)\n",
    "\n",
    "        _, predicted = torch.max(voutputs.data, 1)\n",
    "        pred_labels_val += predicted.tolist()\n",
    "        labels_val += vlabels.tolist()\n",
    "\n",
    "print('f1-score: ', f1_score(labels_val,\n",
    "        pred_labels_val,\n",
    "        average='macro'))\n",
    "results.loc['all_fea',: ] = [f1_score(labels_val,\n",
    "                                        pred_labels_val,\n",
    "                                        average='macro')]"
   ]
  },
  {
   "cell_type": "code",
   "execution_count": 44,
   "metadata": {},
   "outputs": [
    {
     "data": {
      "text/plain": [
       "{'web': 'https://www.comet.com/api/asset/download?assetId=f85bae82bb824cb09051af8da3f249d3&experimentKey=96889028072e483c961dcc3c9bc7e010',\n",
       " 'api': 'https://www.comet.com/api/rest/v2/experiment/asset/get-asset?assetId=f85bae82bb824cb09051af8da3f249d3&experimentKey=96889028072e483c961dcc3c9bc7e010',\n",
       " 'assetId': 'f85bae82bb824cb09051af8da3f249d3'}"
      ]
     },
     "execution_count": 44,
     "metadata": {},
     "output_type": "execute_result"
    }
   ],
   "source": [
    "experiment.log_confusion_matrix(\n",
    "    np.array(labels_val),np.array(pred_labels_val),\n",
    "    title=\"Confusion Matrix: Evaluation\",\n",
    "    file_name=\"confusion-matrix-eval.json\",\n",
    ")"
   ]
  },
  {
   "cell_type": "code",
   "execution_count": 45,
   "metadata": {},
   "outputs": [
    {
     "name": "stdout",
     "output_type": "stream",
     "text": [
      "(279749,) (279749,) 0.49805361234535245\n"
     ]
    },
    {
     "data": {
      "image/png": "[encoded data removed]",
      "text/plain": [
       "<Figure size 576x576 with 1 Axes>"
      ]
     },
     "metadata": {
      "needs_background": "light"
     },
     "output_type": "display_data"
    }
   ],
   "source": [
    "labels=classes\n",
    "IC = type('IdentityClassifier', (), {\"predict\": lambda i : i, \"_estimator_type\": \"classifier\"})\n",
    "\n",
    "plt_conf_matrix(np.array(labels_val),np.array(pred_labels_val),labels);"
   ]
  },
  {
   "cell_type": "code",
   "execution_count": 46,
   "metadata": {},
   "outputs": [
    {
     "name": "stderr",
     "output_type": "stream",
     "text": [
      "\u001b[1;38;5;39mCOMET INFO:\u001b[0m ---------------------------------------------------------------------------------------\n",
      "\u001b[1;38;5;39mCOMET INFO:\u001b[0m Comet.ml Experiment Summary\n",
      "\u001b[1;38;5;39mCOMET INFO:\u001b[0m ---------------------------------------------------------------------------------------\n",
      "\u001b[1;38;5;39mCOMET INFO:\u001b[0m   Data:\n",
      "\u001b[1;38;5;39mCOMET INFO:\u001b[0m     display_summary_level : 1\n",
      "\u001b[1;38;5;39mCOMET INFO:\u001b[0m     url                   : https://www.comet.com/annanet/abaw6/96889028072e483c961dcc3c9bc7e010\n",
      "\u001b[1;38;5;39mCOMET INFO:\u001b[0m   Metrics [count] (min, max):\n",
      "\u001b[1;38;5;39mCOMET INFO:\u001b[0m     f1_train [10]   : (0.7077684206374223, 0.9233179570662118)\n",
      "\u001b[1;38;5;39mCOMET INFO:\u001b[0m     f1_val [10]     : (0.29624292018137566, 0.3414056361769212)\n",
      "\u001b[1;38;5;39mCOMET INFO:\u001b[0m     loss [2293]     : (1.2899404764175415, 2.0801503658294678)\n",
      "\u001b[1;38;5;39mCOMET INFO:\u001b[0m     loss_train [10] : (2.32917645974101, 2.4810899855474737)\n",
      "\u001b[1;38;5;39mCOMET INFO:\u001b[0m     loss_val [10]   : (1.9461395740509033, 1.979109287261963)\n",
      "\u001b[1;38;5;39mCOMET INFO:\u001b[0m   Others:\n",
      "\u001b[1;38;5;39mCOMET INFO:\u001b[0m     Name : all_fea-expr_classif\n",
      "\u001b[1;38;5;39mCOMET INFO:\u001b[0m   Uploads:\n",
      "\u001b[1;38;5;39mCOMET INFO:\u001b[0m     confusion-matrix    : 1\n",
      "\u001b[1;38;5;39mCOMET INFO:\u001b[0m     environment details : 1\n",
      "\u001b[1;38;5;39mCOMET INFO:\u001b[0m     filename            : 1\n",
      "\u001b[1;38;5;39mCOMET INFO:\u001b[0m     installed packages  : 1\n",
      "\u001b[1;38;5;39mCOMET INFO:\u001b[0m     model graph         : 1\n",
      "\u001b[1;38;5;39mCOMET INFO:\u001b[0m     model-element       : 1 (4.39 MB)\n",
      "\u001b[1;38;5;39mCOMET INFO:\u001b[0m     notebook            : 1\n",
      "\u001b[1;38;5;39mCOMET INFO:\u001b[0m     os packages         : 1\n",
      "\u001b[1;38;5;39mCOMET INFO:\u001b[0m     source_code         : 1\n",
      "\u001b[1;38;5;39mCOMET INFO:\u001b[0m \n",
      "\u001b[1;38;5;39mCOMET INFO:\u001b[0m Please wait for assets to finish uploading (timeout is 10800 seconds)\n",
      "\u001b[1;38;5;39mCOMET INFO:\u001b[0m Still uploading 1 file(s), remaining 1.99 MB/4.39 MB\n"
     ]
    }
   ],
   "source": [
    "torch.save(model.state_dict(), 'simplemodel.pt')\n",
    "\n",
    "experiment.log_model(\"simplemodel.pt\", file_or_folder=\"simplemodel.pt\")\n",
    "experiment.end()"
   ]
  },
  {
   "cell_type": "code",
   "execution_count": 47,
   "metadata": {},
   "outputs": [
    {
     "data": {
      "text/html": [
       "<div>\n",
       "<style scoped>\n",
       "    .dataframe tbody tr th:only-of-type {\n",
       "        vertical-align: middle;\n",
       "    }\n",
       "\n",
       "    .dataframe tbody tr th {\n",
       "        vertical-align: top;\n",
       "    }\n",
       "\n",
       "    .dataframe thead th {\n",
       "        text-align: right;\n",
       "    }\n",
       "</style>\n",
       "<table border=\"1\" class=\"dataframe\">\n",
       "  <thead>\n",
       "    <tr style=\"text-align: right;\">\n",
       "      <th></th>\n",
       "      <th>f1-score val</th>\n",
       "    </tr>\n",
       "  </thead>\n",
       "  <tbody>\n",
       "    <tr>\n",
       "      <th>only video</th>\n",
       "      <td>0.319133</td>\n",
       "    </tr>\n",
       "    <tr>\n",
       "      <th>videoopenl3</th>\n",
       "      <td>0.318535</td>\n",
       "    </tr>\n",
       "    <tr>\n",
       "      <th>videow2v2hub</th>\n",
       "      <td>0.326093</td>\n",
       "    </tr>\n",
       "    <tr>\n",
       "      <th>videow2v2large</th>\n",
       "      <td>0.326296</td>\n",
       "    </tr>\n",
       "    <tr>\n",
       "      <th>videoopensmile</th>\n",
       "      <td>0.00535724</td>\n",
       "    </tr>\n",
       "    <tr>\n",
       "      <th>all_fea</th>\n",
       "      <td>0.335656</td>\n",
       "    </tr>\n",
       "  </tbody>\n",
       "</table>\n",
       "</div>"
      ],
      "text/plain": [
       "               f1-score val\n",
       "only video         0.319133\n",
       "videoopenl3        0.318535\n",
       "videow2v2hub       0.326093\n",
       "videow2v2large     0.326296\n",
       "videoopensmile   0.00535724\n",
       "all_fea            0.335656"
      ]
     },
     "execution_count": 47,
     "metadata": {},
     "output_type": "execute_result"
    }
   ],
   "source": [
    "results"
   ]
  }
 ],
 "metadata": {
  "kaggle": {
   "accelerator": "gpu",
   "dataSources": [
    {
     "datasetId": 4438302,
     "sourceId": 7648578,
     "sourceType": "datasetVersion"
    }
   ],
   "dockerImageVersionId": 30646,
   "isGpuEnabled": true,
   "isInternetEnabled": true,
   "language": "python",
   "sourceType": "notebook"
  },
  "kernelspec": {
   "display_name": "Python 3 (ipykernel)",
   "language": "python",
   "name": "python3"
  },
  "language_info": {
   "codemirror_mode": {
    "name": "ipython",
    "version": 3
   },
   "file_extension": ".py",
   "mimetype": "text/x-python",
   "name": "python",
   "nbconvert_exporter": "python",
   "pygments_lexer": "ipython3",
   "version": "3.8.10"
  }
 },
 "nbformat": 4,
 "nbformat_minor": 4
}
